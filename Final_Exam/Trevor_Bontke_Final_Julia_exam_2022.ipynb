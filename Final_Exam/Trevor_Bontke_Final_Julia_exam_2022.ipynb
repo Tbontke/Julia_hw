{
 "cells": [
  {
   "cell_type": "markdown",
   "metadata": {},
   "source": [
    "# Final Exam"
   ]
  },
  {
   "cell_type": "markdown",
   "metadata": {},
   "source": [
    "## Question 1 \n",
    "Define a function `insert_block` to insert a block of values in a matrix,\n",
    "\n",
    "```julia\n",
    "A = fill(0, 9, 9)\n",
    "insert_block(A, 3, 5, 2)\n",
    "```\n",
    "\n",
    "so that the above code would yield:\n",
    "\n",
    "`9×9 Array{Int64,2}:\n",
    " 0  0  0  0  0  0  0  0  0\n",
    " 0  0  0  0  0  0  0  0  0\n",
    " 0  0  0  0  2  2  2  0  0\n",
    " 0  0  0  0  2  2  2  0  0\n",
    " 0  0  0  0  2  2  2  0  0\n",
    " 0  0  0  0  0  0  0  0  0\n",
    " 0  0  0  0  0  0  0  0  0\n",
    " 0  0  0  0  0  0  0  0  0\n",
    " 0  0  0  0  0  0  0  0  0`"
   ]
  },
  {
   "cell_type": "code",
   "execution_count": 167,
   "metadata": {},
   "outputs": [
    {
     "data": {
      "text/plain": [
       "insert_block (generic function with 1 method)"
      ]
     },
     "execution_count": 167,
     "metadata": {},
     "output_type": "execute_result"
    }
   ],
   "source": [
    "function insert_block(Matrix,row,col,val)\n",
    "    for i in 0:2\n",
    "        for j in 0:2\n",
    "            Matrix[row+i,col+j] = val\n",
    "        end\n",
    "    end\n",
    "end"
   ]
  },
  {
   "cell_type": "code",
   "execution_count": 168,
   "metadata": {},
   "outputs": [
    {
     "data": {
      "text/plain": [
       "9×9 Matrix{Int64}:\n",
       " 0  0  0  0  0  0  0  0  0\n",
       " 0  0  0  0  0  0  0  0  0\n",
       " 0  0  0  0  0  0  0  0  0\n",
       " 0  0  0  0  0  0  0  0  0\n",
       " 0  0  0  0  0  0  0  0  0\n",
       " 0  0  0  0  0  0  0  0  0\n",
       " 0  0  0  0  0  0  0  0  0\n",
       " 0  0  0  0  0  0  0  0  0\n",
       " 0  0  0  0  0  0  0  0  0"
      ]
     },
     "execution_count": 168,
     "metadata": {},
     "output_type": "execute_result"
    }
   ],
   "source": [
    "Array = zeros(Int64,9,9)"
   ]
  },
  {
   "cell_type": "code",
   "execution_count": 169,
   "metadata": {},
   "outputs": [
    {
     "data": {
      "text/plain": [
       "9×9 Matrix{Int64}:\n",
       " 0  0  0  0  0  0  0  0  0\n",
       " 0  0  0  0  0  0  0  0  0\n",
       " 0  0  0  0  2  2  2  0  0\n",
       " 0  0  0  0  2  2  2  0  0\n",
       " 0  0  0  0  2  2  2  0  0\n",
       " 0  0  0  0  0  0  0  0  0\n",
       " 0  0  0  0  0  0  0  0  0\n",
       " 0  0  0  0  0  0  0  0  0\n",
       " 0  0  0  0  0  0  0  0  0"
      ]
     },
     "execution_count": 169,
     "metadata": {},
     "output_type": "execute_result"
    }
   ],
   "source": [
    "insert_block(Array,3,5,2)\n",
    "Array"
   ]
  },
  {
   "cell_type": "markdown",
   "metadata": {},
   "source": [
    "## Question 2\n",
    "\n",
    "### Create a Caesar ciphers\n",
    "\n",
    "A caesar cipher is an encryption scheme that shifts all letters in the alphabet by some specified offset to other letters in the alphabet.\n",
    "\n",
    "For example, a shift of 1 would turn the letter \"A\" into the letter \"B\" and the letter \"M\" to the letter \"N\".\n",
    "\n",
    "### Goal\n",
    "\n",
    "We want to add a method to the `+` operator such that we can add together a string and an integer shift to encrypt a message. For example,\n",
    "\n",
    "```julia\n",
    "4 + \"hello\" == \"lipps\"\n",
    "```\n",
    "\n",
    "### Test it out\n",
    "\n",
    "Once you think you have it working, try to decrypt the following string by adding a shift of -7.\n",
    "```julia\n",
    "\"Kv'uv{'tlkksl'pu'{ol'hmmhpyz'vm'kyhnvuz'mvy'\\u80v|'hyl'jy|ujo\\u80'huk'{hz{l'nvvk'~p{o'rl{jo|w5\"\n",
    "```"
   ]
  },
  {
   "cell_type": "markdown",
   "metadata": {},
   "source": [
    "## Below is the step by step guide to solve the Caesar ciphers problem\n",
    "\n",
    "### Step 1\n",
    "\n",
    "First, we want a way to convert between characters and integers. Actually, under the hood, all of our characters are being represented as numbers via their *ASCII representation*.\n",
    "\n",
    "You can start to get a feel for how this works by running the following lines of code.\n",
    "\n",
    "```julia\n",
    "convert(Int, 'a')\n",
    "convert(Int, 'b')\n",
    "convert(Char, 97)\n",
    "convert(Char, 98)\n",
    "```"
   ]
  },
  {
   "cell_type": "code",
   "execution_count": 170,
   "metadata": {},
   "outputs": [
    {
     "data": {
      "text/plain": [
       "32"
      ]
     },
     "execution_count": 170,
     "metadata": {},
     "output_type": "execute_result"
    }
   ],
   "source": [
    "convert(Int,' ')"
   ]
  },
  {
   "cell_type": "markdown",
   "metadata": {},
   "source": [
    "What happens when you try to add an integer to a character? (Note that the difference between `Char`s and `String`s is important here!)"
   ]
  },
  {
   "cell_type": "code",
   "execution_count": 171,
   "metadata": {},
   "outputs": [
    {
     "data": {
      "text/plain": [
       "'e': ASCII/Unicode U+0065 (category Ll: Letter, lowercase)"
      ]
     },
     "execution_count": 171,
     "metadata": {},
     "output_type": "execute_result"
    }
   ],
   "source": [
    "'a'+4"
   ]
  },
  {
   "cell_type": "markdown",
   "metadata": {},
   "source": [
    "When we treat a string elementwise, what is the type of (`typeof`) each element?"
   ]
  },
  {
   "cell_type": "code",
   "execution_count": 172,
   "metadata": {},
   "outputs": [
    {
     "data": {
      "text/plain": [
       "Char"
      ]
     },
     "execution_count": 172,
     "metadata": {},
     "output_type": "execute_result"
    }
   ],
   "source": [
    "typeof('h')"
   ]
  },
  {
   "cell_type": "markdown",
   "metadata": {},
   "source": [
    "### Step 2\n",
    "Try to write a function called `caesar(shift, stringin)` that encodes its input string, `stringin`, by shifting all letters in the alphabet by `shift`.\n",
    "\n",
    "One way to do this is to use the `map` or `broadcast` function!"
   ]
  },
  {
   "cell_type": "code",
   "execution_count": 173,
   "metadata": {},
   "outputs": [
    {
     "data": {
      "text/plain": [
       "ceasar (generic function with 1 method)"
      ]
     },
     "execution_count": 173,
     "metadata": {},
     "output_type": "execute_result"
    }
   ],
   "source": [
    "function ceasar(shift, stringin)\n",
    "    temp = \"\"\n",
    "    for i in stringin\n",
    "        temp *= string(i+shift)\n",
    "    end\n",
    "    return temp\n",
    "end"
   ]
  },
  {
   "cell_type": "code",
   "execution_count": 174,
   "metadata": {},
   "outputs": [
    {
     "data": {
      "text/plain": [
       "\"Hello world\""
      ]
     },
     "execution_count": 174,
     "metadata": {},
     "output_type": "execute_result"
    }
   ],
   "source": [
    "ceasar(0, \"Hello world\")"
   ]
  },
  {
   "cell_type": "code",
   "execution_count": 175,
   "metadata": {},
   "outputs": [
    {
     "data": {
      "text/plain": [
       "\"Kv'uv{'tlkksl'pu'{ol'hmmhpyz'vm'kyhnvuz'mvy'\\u80v|'hyl'jy|ujo\\u80'huk'{hz{l'nvvk'~p{o'rl{jo|w5\""
      ]
     },
     "execution_count": 175,
     "metadata": {},
     "output_type": "execute_result"
    }
   ],
   "source": [
    "testStr = \"Kv'uv{'tlkksl'pu'{ol'hmmhpyz'vm'kyhnvuz'mvy'\\u80v|'hyl'jy|ujo\\u80'huk'{hz{l'nvvk'~p{o'rl{jo|w5\""
   ]
  },
  {
   "cell_type": "code",
   "execution_count": 176,
   "metadata": {},
   "outputs": [
    {
     "data": {
      "text/plain": [
       "\"Do not meddle in the affairs of dragons for you are crunchy and taste good with ketchup.\""
      ]
     },
     "execution_count": 176,
     "metadata": {},
     "output_type": "execute_result"
    }
   ],
   "source": [
    "ceasar(-7, testStr)"
   ]
  },
  {
   "cell_type": "markdown",
   "metadata": {},
   "source": [
    "If you think you have this working, try out\n",
    "```julia\n",
    "caesar(-4, \"lipps\")\n",
    "```"
   ]
  },
  {
   "cell_type": "code",
   "execution_count": 177,
   "metadata": {},
   "outputs": [
    {
     "data": {
      "text/plain": [
       "\"hello\""
      ]
     },
     "execution_count": 177,
     "metadata": {},
     "output_type": "execute_result"
    }
   ],
   "source": [
    "ceasar(-4, \"lipps\")"
   ]
  },
  {
   "cell_type": "markdown",
   "metadata": {},
   "source": [
    "### Step 3\n",
    "We want to extend the `+` operator to include a way to apply this cipher.\n",
    "\n",
    "The `+` operator lives in a place called \"Base\". Everything that lives in Base is accessible to us as users by default, but we need a special incantation to modify the things that live in Base. If we want to modify `+`, our incantation is\n",
    "\n",
    "```julia\n",
    "import Base: +\n",
    "```\n",
    "To perform string addition, write a method for `+` like this\n",
    "\n",
    "+(x::String, y::String) = string(x, y)"
   ]
  },
  {
   "cell_type": "code",
   "execution_count": 178,
   "metadata": {},
   "outputs": [
    {
     "data": {
      "text/plain": [
       "+ (generic function with 270 methods)"
      ]
     },
     "execution_count": 178,
     "metadata": {},
     "output_type": "execute_result"
    }
   ],
   "source": [
    "import Base: +\n",
    "+(x::String, y::String) = string(x, y)"
   ]
  },
  {
   "cell_type": "markdown",
   "metadata": {},
   "source": [
    "And now that you've extended `+` once, let's add another method for `+` that calls the `caesar` function we've written."
   ]
  },
  {
   "cell_type": "code",
   "execution_count": 179,
   "metadata": {},
   "outputs": [
    {
     "data": {
      "text/plain": [
       "+ (generic function with 271 methods)"
      ]
     },
     "execution_count": 179,
     "metadata": {},
     "output_type": "execute_result"
    }
   ],
   "source": [
    "+(x::String, y::Int) = ceasar(y,x)"
   ]
  },
  {
   "cell_type": "markdown",
   "metadata": {},
   "source": [
    "Test your final answer."
   ]
  },
  {
   "cell_type": "code",
   "execution_count": 180,
   "metadata": {},
   "outputs": [
    {
     "data": {
      "text/plain": [
       "\"lipps\""
      ]
     },
     "execution_count": 180,
     "metadata": {},
     "output_type": "execute_result"
    }
   ],
   "source": [
    "\"hello\"+4"
   ]
  },
  {
   "cell_type": "markdown",
   "metadata": {},
   "source": [
    "## Question 3\n",
    "\n",
    "Download the `test.csv` file from moddle. This data has passenger details of train travellers. Read the data and tidy it (handle the missing values). Calculate the average age for Male passengers and Female passengers."
   ]
  },
  {
   "cell_type": "code",
   "execution_count": 2,
   "metadata": {},
   "outputs": [
    {
     "data": {
      "text/html": [
       "<div><div style = \"float: left;\"><span>332×11 DataFrame</span></div><div style = \"float: right;\"><span style = \"font-style: italic;\">307 rows omitted</span></div><div style = \"clear: both;\"></div></div><div class = \"data-frame\" style = \"overflow-x: scroll;\"><table class = \"data-frame\" style = \"margin-bottom: 6px;\"><thead><tr class = \"header\"><th class = \"rowNumber\" style = \"font-weight: bold; text-align: right;\">Row</th><th style = \"text-align: left;\">PassengerId</th><th style = \"text-align: left;\">Pclass</th><th style = \"text-align: left;\">Name</th><th style = \"text-align: left;\">Sex</th><th style = \"text-align: left;\">Age</th><th style = \"text-align: left;\">SibSp</th><th style = \"text-align: left;\">Parch</th><th style = \"text-align: left;\">Ticket</th><th style = \"text-align: left;\">Fare</th><th style = \"text-align: left;\">Cabin</th><th style = \"text-align: left;\">Embarked</th></tr><tr class = \"subheader headerLastRow\"><th class = \"rowNumber\" style = \"font-weight: bold; text-align: right;\"></th><th title = \"Int64\" style = \"text-align: left;\">Int64</th><th title = \"Int64\" style = \"text-align: left;\">Int64</th><th title = \"String\" style = \"text-align: left;\">String</th><th title = \"String7\" style = \"text-align: left;\">String7</th><th title = \"Float64\" style = \"text-align: left;\">Float64</th><th title = \"Int64\" style = \"text-align: left;\">Int64</th><th title = \"Int64\" style = \"text-align: left;\">Int64</th><th title = \"String31\" style = \"text-align: left;\">String31</th><th title = \"Union{Missing, Float64}\" style = \"text-align: left;\">Float64?</th><th title = \"Union{Missing, String15}\" style = \"text-align: left;\">String15?</th><th title = \"String1\" style = \"text-align: left;\">String1</th></tr></thead><tbody><tr><td class = \"rowNumber\" style = \"font-weight: bold; text-align: right;\">1</td><td style = \"text-align: right;\">892</td><td style = \"text-align: right;\">3</td><td style = \"text-align: left;\">Kelly, Mr. James</td><td style = \"text-align: left;\">male</td><td style = \"text-align: right;\">34.5</td><td style = \"text-align: right;\">0</td><td style = \"text-align: right;\">0</td><td style = \"text-align: left;\">330911</td><td style = \"text-align: right;\">7.8292</td><td style = \"font-style: italic; text-align: left;\">missing</td><td style = \"text-align: left;\">Q</td></tr><tr><td class = \"rowNumber\" style = \"font-weight: bold; text-align: right;\">2</td><td style = \"text-align: right;\">893</td><td style = \"text-align: right;\">3</td><td style = \"text-align: left;\">Wilkes, Mrs. James (Ellen Needs)</td><td style = \"text-align: left;\">female</td><td style = \"text-align: right;\">47.0</td><td style = \"text-align: right;\">1</td><td style = \"text-align: right;\">0</td><td style = \"text-align: left;\">363272</td><td style = \"text-align: right;\">7.0</td><td style = \"font-style: italic; text-align: left;\">missing</td><td style = \"text-align: left;\">S</td></tr><tr><td class = \"rowNumber\" style = \"font-weight: bold; text-align: right;\">3</td><td style = \"text-align: right;\">894</td><td style = \"text-align: right;\">2</td><td style = \"text-align: left;\">Myles, Mr. Thomas Francis</td><td style = \"text-align: left;\">male</td><td style = \"text-align: right;\">62.0</td><td style = \"text-align: right;\">0</td><td style = \"text-align: right;\">0</td><td style = \"text-align: left;\">240276</td><td style = \"text-align: right;\">9.6875</td><td style = \"font-style: italic; text-align: left;\">missing</td><td style = \"text-align: left;\">Q</td></tr><tr><td class = \"rowNumber\" style = \"font-weight: bold; text-align: right;\">4</td><td style = \"text-align: right;\">895</td><td style = \"text-align: right;\">3</td><td style = \"text-align: left;\">Wirz, Mr. Albert</td><td style = \"text-align: left;\">male</td><td style = \"text-align: right;\">27.0</td><td style = \"text-align: right;\">0</td><td style = \"text-align: right;\">0</td><td style = \"text-align: left;\">315154</td><td style = \"text-align: right;\">8.6625</td><td style = \"font-style: italic; text-align: left;\">missing</td><td style = \"text-align: left;\">S</td></tr><tr><td class = \"rowNumber\" style = \"font-weight: bold; text-align: right;\">5</td><td style = \"text-align: right;\">896</td><td style = \"text-align: right;\">3</td><td style = \"text-align: left;\">Hirvonen, Mrs. Alexander (Helga E Lindqvist)</td><td style = \"text-align: left;\">female</td><td style = \"text-align: right;\">22.0</td><td style = \"text-align: right;\">1</td><td style = \"text-align: right;\">1</td><td style = \"text-align: left;\">3101298</td><td style = \"text-align: right;\">12.2875</td><td style = \"font-style: italic; text-align: left;\">missing</td><td style = \"text-align: left;\">S</td></tr><tr><td class = \"rowNumber\" style = \"font-weight: bold; text-align: right;\">6</td><td style = \"text-align: right;\">897</td><td style = \"text-align: right;\">3</td><td style = \"text-align: left;\">Svensson, Mr. Johan Cervin</td><td style = \"text-align: left;\">male</td><td style = \"text-align: right;\">14.0</td><td style = \"text-align: right;\">0</td><td style = \"text-align: right;\">0</td><td style = \"text-align: left;\">7538</td><td style = \"text-align: right;\">9.225</td><td style = \"font-style: italic; text-align: left;\">missing</td><td style = \"text-align: left;\">S</td></tr><tr><td class = \"rowNumber\" style = \"font-weight: bold; text-align: right;\">7</td><td style = \"text-align: right;\">898</td><td style = \"text-align: right;\">3</td><td style = \"text-align: left;\">Connolly, Miss. Kate</td><td style = \"text-align: left;\">female</td><td style = \"text-align: right;\">30.0</td><td style = \"text-align: right;\">0</td><td style = \"text-align: right;\">0</td><td style = \"text-align: left;\">330972</td><td style = \"text-align: right;\">7.6292</td><td style = \"font-style: italic; text-align: left;\">missing</td><td style = \"text-align: left;\">Q</td></tr><tr><td class = \"rowNumber\" style = \"font-weight: bold; text-align: right;\">8</td><td style = \"text-align: right;\">899</td><td style = \"text-align: right;\">2</td><td style = \"text-align: left;\">Caldwell, Mr. Albert Francis</td><td style = \"text-align: left;\">male</td><td style = \"text-align: right;\">26.0</td><td style = \"text-align: right;\">1</td><td style = \"text-align: right;\">1</td><td style = \"text-align: left;\">248738</td><td style = \"text-align: right;\">29.0</td><td style = \"font-style: italic; text-align: left;\">missing</td><td style = \"text-align: left;\">S</td></tr><tr><td class = \"rowNumber\" style = \"font-weight: bold; text-align: right;\">9</td><td style = \"text-align: right;\">900</td><td style = \"text-align: right;\">3</td><td style = \"text-align: left;\">Abrahim, Mrs. Joseph (Sophie Halaut Easu)</td><td style = \"text-align: left;\">female</td><td style = \"text-align: right;\">18.0</td><td style = \"text-align: right;\">0</td><td style = \"text-align: right;\">0</td><td style = \"text-align: left;\">2657</td><td style = \"text-align: right;\">7.2292</td><td style = \"font-style: italic; text-align: left;\">missing</td><td style = \"text-align: left;\">C</td></tr><tr><td class = \"rowNumber\" style = \"font-weight: bold; text-align: right;\">10</td><td style = \"text-align: right;\">901</td><td style = \"text-align: right;\">3</td><td style = \"text-align: left;\">Davies, Mr. John Samuel</td><td style = \"text-align: left;\">male</td><td style = \"text-align: right;\">21.0</td><td style = \"text-align: right;\">2</td><td style = \"text-align: right;\">0</td><td style = \"text-align: left;\">A/4 48871</td><td style = \"text-align: right;\">24.15</td><td style = \"font-style: italic; text-align: left;\">missing</td><td style = \"text-align: left;\">S</td></tr><tr><td class = \"rowNumber\" style = \"font-weight: bold; text-align: right;\">11</td><td style = \"text-align: right;\">903</td><td style = \"text-align: right;\">1</td><td style = \"text-align: left;\">Jones, Mr. Charles Cresson</td><td style = \"text-align: left;\">male</td><td style = \"text-align: right;\">46.0</td><td style = \"text-align: right;\">0</td><td style = \"text-align: right;\">0</td><td style = \"text-align: left;\">694</td><td style = \"text-align: right;\">26.0</td><td style = \"font-style: italic; text-align: left;\">missing</td><td style = \"text-align: left;\">S</td></tr><tr><td class = \"rowNumber\" style = \"font-weight: bold; text-align: right;\">12</td><td style = \"text-align: right;\">904</td><td style = \"text-align: right;\">1</td><td style = \"text-align: left;\">Snyder, Mrs. John Pillsbury (Nelle Stevenson)</td><td style = \"text-align: left;\">female</td><td style = \"text-align: right;\">23.0</td><td style = \"text-align: right;\">1</td><td style = \"text-align: right;\">0</td><td style = \"text-align: left;\">21228</td><td style = \"text-align: right;\">82.2667</td><td style = \"text-align: left;\">B45</td><td style = \"text-align: left;\">S</td></tr><tr><td class = \"rowNumber\" style = \"font-weight: bold; text-align: right;\">13</td><td style = \"text-align: right;\">905</td><td style = \"text-align: right;\">2</td><td style = \"text-align: left;\">Howard, Mr. Benjamin</td><td style = \"text-align: left;\">male</td><td style = \"text-align: right;\">63.0</td><td style = \"text-align: right;\">1</td><td style = \"text-align: right;\">0</td><td style = \"text-align: left;\">24065</td><td style = \"text-align: right;\">26.0</td><td style = \"font-style: italic; text-align: left;\">missing</td><td style = \"text-align: left;\">S</td></tr><tr><td style = \"text-align: right;\">&vellip;</td><td style = \"text-align: right;\">&vellip;</td><td style = \"text-align: right;\">&vellip;</td><td style = \"text-align: right;\">&vellip;</td><td style = \"text-align: right;\">&vellip;</td><td style = \"text-align: right;\">&vellip;</td><td style = \"text-align: right;\">&vellip;</td><td style = \"text-align: right;\">&vellip;</td><td style = \"text-align: right;\">&vellip;</td><td style = \"text-align: right;\">&vellip;</td><td style = \"text-align: right;\">&vellip;</td><td style = \"text-align: right;\">&vellip;</td></tr><tr><td class = \"rowNumber\" style = \"font-weight: bold; text-align: right;\">321</td><td style = \"text-align: right;\">1293</td><td style = \"text-align: right;\">2</td><td style = \"text-align: left;\">Gale, Mr. Harry</td><td style = \"text-align: left;\">male</td><td style = \"text-align: right;\">38.0</td><td style = \"text-align: right;\">1</td><td style = \"text-align: right;\">0</td><td style = \"text-align: left;\">28664</td><td style = \"text-align: right;\">21.0</td><td style = \"text-align: left;\">missing</td><td style = \"text-align: left;\">S</td></tr><tr><td class = \"rowNumber\" style = \"font-weight: bold; text-align: right;\">322</td><td style = \"text-align: right;\">1294</td><td style = \"text-align: right;\">1</td><td style = \"text-align: left;\">Gibson, Miss. Dorothy Winifred</td><td style = \"text-align: left;\">female</td><td style = \"text-align: right;\">22.0</td><td style = \"text-align: right;\">0</td><td style = \"text-align: right;\">1</td><td style = \"text-align: left;\">112378</td><td style = \"text-align: right;\">59.4</td><td style = \"font-style: italic; text-align: left;\">missing</td><td style = \"text-align: left;\">C</td></tr><tr><td class = \"rowNumber\" style = \"font-weight: bold; text-align: right;\">323</td><td style = \"text-align: right;\">1295</td><td style = \"text-align: right;\">1</td><td style = \"text-align: left;\">Carrau, Mr. Jose Pedro</td><td style = \"text-align: left;\">male</td><td style = \"text-align: right;\">17.0</td><td style = \"text-align: right;\">0</td><td style = \"text-align: right;\">0</td><td style = \"text-align: left;\">113059</td><td style = \"text-align: right;\">47.1</td><td style = \"font-style: italic; text-align: left;\">missing</td><td style = \"text-align: left;\">S</td></tr><tr><td class = \"rowNumber\" style = \"font-weight: bold; text-align: right;\">324</td><td style = \"text-align: right;\">1296</td><td style = \"text-align: right;\">1</td><td style = \"text-align: left;\">Frauenthal, Mr. Isaac Gerald</td><td style = \"text-align: left;\">male</td><td style = \"text-align: right;\">43.0</td><td style = \"text-align: right;\">1</td><td style = \"text-align: right;\">0</td><td style = \"text-align: left;\">17765</td><td style = \"text-align: right;\">27.7208</td><td style = \"font-style: italic; text-align: left;\">D40</td><td style = \"text-align: left;\">C</td></tr><tr><td class = \"rowNumber\" style = \"font-weight: bold; text-align: right;\">325</td><td style = \"text-align: right;\">1297</td><td style = \"text-align: right;\">2</td><td style = \"text-align: left;\">Nourney, Mr. Alfred (Baron von Drachstedt&quot;)&quot;</td><td style = \"text-align: left;\">male</td><td style = \"text-align: right;\">20.0</td><td style = \"text-align: right;\">0</td><td style = \"text-align: right;\">0</td><td style = \"text-align: left;\">SC/PARIS 2166</td><td style = \"text-align: right;\">13.8625</td><td style = \"font-style: italic; text-align: left;\">D38</td><td style = \"text-align: left;\">C</td></tr><tr><td class = \"rowNumber\" style = \"font-weight: bold; text-align: right;\">326</td><td style = \"text-align: right;\">1298</td><td style = \"text-align: right;\">2</td><td style = \"text-align: left;\">Ware, Mr. William Jeffery</td><td style = \"text-align: left;\">male</td><td style = \"text-align: right;\">23.0</td><td style = \"text-align: right;\">1</td><td style = \"text-align: right;\">0</td><td style = \"text-align: left;\">28666</td><td style = \"text-align: right;\">10.5</td><td style = \"font-style: italic; text-align: left;\">missing</td><td style = \"text-align: left;\">S</td></tr><tr><td class = \"rowNumber\" style = \"font-weight: bold; text-align: right;\">327</td><td style = \"text-align: right;\">1299</td><td style = \"text-align: right;\">1</td><td style = \"text-align: left;\">Widener, Mr. George Dunton</td><td style = \"text-align: left;\">male</td><td style = \"text-align: right;\">50.0</td><td style = \"text-align: right;\">1</td><td style = \"text-align: right;\">1</td><td style = \"text-align: left;\">113503</td><td style = \"text-align: right;\">211.5</td><td style = \"font-style: italic; text-align: left;\">C80</td><td style = \"text-align: left;\">C</td></tr><tr><td class = \"rowNumber\" style = \"font-weight: bold; text-align: right;\">328</td><td style = \"text-align: right;\">1301</td><td style = \"text-align: right;\">3</td><td style = \"text-align: left;\">Peacock, Miss. Treasteall</td><td style = \"text-align: left;\">female</td><td style = \"text-align: right;\">3.0</td><td style = \"text-align: right;\">1</td><td style = \"text-align: right;\">1</td><td style = \"text-align: left;\">SOTON/O.Q. 3101315</td><td style = \"text-align: right;\">13.775</td><td style = \"font-style: italic; text-align: left;\">missing</td><td style = \"text-align: left;\">S</td></tr><tr><td class = \"rowNumber\" style = \"font-weight: bold; text-align: right;\">329</td><td style = \"text-align: right;\">1303</td><td style = \"text-align: right;\">1</td><td style = \"text-align: left;\">Minahan, Mrs. William Edward (Lillian E Thorpe)</td><td style = \"text-align: left;\">female</td><td style = \"text-align: right;\">37.0</td><td style = \"text-align: right;\">1</td><td style = \"text-align: right;\">0</td><td style = \"text-align: left;\">19928</td><td style = \"text-align: right;\">90.0</td><td style = \"font-style: italic; text-align: left;\">C78</td><td style = \"text-align: left;\">Q</td></tr><tr><td class = \"rowNumber\" style = \"font-weight: bold; text-align: right;\">330</td><td style = \"text-align: right;\">1304</td><td style = \"text-align: right;\">3</td><td style = \"text-align: left;\">Henriksson, Miss. Jenny Lovisa</td><td style = \"text-align: left;\">female</td><td style = \"text-align: right;\">28.0</td><td style = \"text-align: right;\">0</td><td style = \"text-align: right;\">0</td><td style = \"text-align: left;\">347086</td><td style = \"text-align: right;\">7.775</td><td style = \"text-align: left;\">missing</td><td style = \"text-align: left;\">S</td></tr><tr><td class = \"rowNumber\" style = \"font-weight: bold; text-align: right;\">331</td><td style = \"text-align: right;\">1306</td><td style = \"text-align: right;\">1</td><td style = \"text-align: left;\">Oliva y Ocana, Dona. Fermina</td><td style = \"text-align: left;\">female</td><td style = \"text-align: right;\">39.0</td><td style = \"text-align: right;\">0</td><td style = \"text-align: right;\">0</td><td style = \"text-align: left;\">PC 17758</td><td style = \"text-align: right;\">108.9</td><td style = \"font-style: italic; text-align: left;\">C105</td><td style = \"text-align: left;\">C</td></tr><tr><td class = \"rowNumber\" style = \"font-weight: bold; text-align: right;\">332</td><td style = \"text-align: right;\">1307</td><td style = \"text-align: right;\">3</td><td style = \"text-align: left;\">Saether, Mr. Simon Sivertsen</td><td style = \"text-align: left;\">male</td><td style = \"text-align: right;\">38.5</td><td style = \"text-align: right;\">0</td><td style = \"text-align: right;\">0</td><td style = \"text-align: left;\">SOTON/O.Q. 3101262</td><td style = \"text-align: right;\">7.25</td><td style = \"text-align: left;\">missing</td><td style = \"text-align: left;\">S</td></tr></tbody></table></div>"
      ],
      "text/latex": [
       "\\begin{tabular}{r|ccccc}\n",
       "\t& PassengerId & Pclass & Name & Sex & \\\\\n",
       "\t\\hline\n",
       "\t& Int64 & Int64 & String & String7 & \\\\\n",
       "\t\\hline\n",
       "\t1 & 892 & 3 & Kelly, Mr. James & male & $\\dots$ \\\\\n",
       "\t2 & 893 & 3 & Wilkes, Mrs. James (Ellen Needs) & female & $\\dots$ \\\\\n",
       "\t3 & 894 & 2 & Myles, Mr. Thomas Francis & male & $\\dots$ \\\\\n",
       "\t4 & 895 & 3 & Wirz, Mr. Albert & male & $\\dots$ \\\\\n",
       "\t5 & 896 & 3 & Hirvonen, Mrs. Alexander (Helga E Lindqvist) & female & $\\dots$ \\\\\n",
       "\t6 & 897 & 3 & Svensson, Mr. Johan Cervin & male & $\\dots$ \\\\\n",
       "\t7 & 898 & 3 & Connolly, Miss. Kate & female & $\\dots$ \\\\\n",
       "\t8 & 899 & 2 & Caldwell, Mr. Albert Francis & male & $\\dots$ \\\\\n",
       "\t9 & 900 & 3 & Abrahim, Mrs. Joseph (Sophie Halaut Easu) & female & $\\dots$ \\\\\n",
       "\t10 & 901 & 3 & Davies, Mr. John Samuel & male & $\\dots$ \\\\\n",
       "\t11 & 903 & 1 & Jones, Mr. Charles Cresson & male & $\\dots$ \\\\\n",
       "\t12 & 904 & 1 & Snyder, Mrs. John Pillsbury (Nelle Stevenson) & female & $\\dots$ \\\\\n",
       "\t13 & 905 & 2 & Howard, Mr. Benjamin & male & $\\dots$ \\\\\n",
       "\t14 & 906 & 1 & Chaffee, Mrs. Herbert Fuller (Carrie Constance Toogood) & female & $\\dots$ \\\\\n",
       "\t15 & 907 & 2 & del Carlo, Mrs. Sebastiano (Argenia Genovesi) & female & $\\dots$ \\\\\n",
       "\t16 & 908 & 2 & Keane, Mr. Daniel & male & $\\dots$ \\\\\n",
       "\t17 & 909 & 3 & Assaf, Mr. Gerios & male & $\\dots$ \\\\\n",
       "\t18 & 910 & 3 & Ilmakangas, Miss. Ida Livija & female & $\\dots$ \\\\\n",
       "\t19 & 911 & 3 & Assaf Khalil, Mrs. Mariana (Miriam\")\" & female & $\\dots$ \\\\\n",
       "\t20 & 912 & 1 & Rothschild, Mr. Martin & male & $\\dots$ \\\\\n",
       "\t21 & 913 & 3 & Olsen, Master. Artur Karl & male & $\\dots$ \\\\\n",
       "\t22 & 915 & 1 & Williams, Mr. Richard Norris II & male & $\\dots$ \\\\\n",
       "\t23 & 916 & 1 & Ryerson, Mrs. Arthur Larned (Emily Maria Borie) & female & $\\dots$ \\\\\n",
       "\t24 & 917 & 3 & Robins, Mr. Alexander A & male & $\\dots$ \\\\\n",
       "\t25 & 918 & 1 & Ostby, Miss. Helene Ragnhild & female & $\\dots$ \\\\\n",
       "\t26 & 919 & 3 & Daher, Mr. Shedid & male & $\\dots$ \\\\\n",
       "\t27 & 920 & 1 & Brady, Mr. John Bertram & male & $\\dots$ \\\\\n",
       "\t28 & 922 & 2 & Louch, Mr. Charles Alexander & male & $\\dots$ \\\\\n",
       "\t29 & 923 & 2 & Jefferys, Mr. Clifford Thomas & male & $\\dots$ \\\\\n",
       "\t30 & 924 & 3 & Dean, Mrs. Bertram (Eva Georgetta Light) & female & $\\dots$ \\\\\n",
       "\t$\\dots$ & $\\dots$ & $\\dots$ & $\\dots$ & $\\dots$ &  \\\\\n",
       "\\end{tabular}\n"
      ],
      "text/plain": [
       "\u001b[1m332×11 DataFrame\u001b[0m\n",
       "\u001b[1m Row \u001b[0m│\u001b[1m PassengerId \u001b[0m\u001b[1m Pclass \u001b[0m\u001b[1m Name                              \u001b[0m\u001b[1m Sex     \u001b[0m\u001b[1m Age   \u001b[0m ⋯\n",
       "     │\u001b[90m Int64       \u001b[0m\u001b[90m Int64  \u001b[0m\u001b[90m String                            \u001b[0m\u001b[90m String7 \u001b[0m\u001b[90m Float6\u001b[0m ⋯\n",
       "─────┼──────────────────────────────────────────────────────────────────────────\n",
       "   1 │         892       3  Kelly, Mr. James                   male        34. ⋯\n",
       "   2 │         893       3  Wilkes, Mrs. James (Ellen Needs)   female      47.\n",
       "   3 │         894       2  Myles, Mr. Thomas Francis          male        62.\n",
       "   4 │         895       3  Wirz, Mr. Albert                   male        27.\n",
       "   5 │         896       3  Hirvonen, Mrs. Alexander (Helga …  female      22. ⋯\n",
       "   6 │         897       3  Svensson, Mr. Johan Cervin         male        14.\n",
       "   7 │         898       3  Connolly, Miss. Kate               female      30.\n",
       "   8 │         899       2  Caldwell, Mr. Albert Francis       male        26.\n",
       "   9 │         900       3  Abrahim, Mrs. Joseph (Sophie Hal…  female      18. ⋯\n",
       "  10 │         901       3  Davies, Mr. John Samuel            male        21.\n",
       "  11 │         903       1  Jones, Mr. Charles Cresson         male        46.\n",
       "  ⋮  │      ⋮         ⋮                     ⋮                     ⋮        ⋮   ⋱\n",
       " 323 │        1295       1  Carrau, Mr. Jose Pedro             male        17.\n",
       " 324 │        1296       1  Frauenthal, Mr. Isaac Gerald       male        43. ⋯\n",
       " 325 │        1297       2  Nourney, Mr. Alfred (Baron von D…  male        20.\n",
       " 326 │        1298       2  Ware, Mr. William Jeffery          male        23.\n",
       " 327 │        1299       1  Widener, Mr. George Dunton         male        50.\n",
       " 328 │        1301       3  Peacock, Miss. Treasteall          female       3. ⋯\n",
       " 329 │        1303       1  Minahan, Mrs. William Edward (Li…  female      37.\n",
       " 330 │        1304       3  Henriksson, Miss. Jenny Lovisa     female      28.\n",
       " 331 │        1306       1  Oliva y Ocana, Dona. Fermina       female      39.\n",
       " 332 │        1307       3  Saether, Mr. Simon Sivertsen       male        38. ⋯\n",
       "\u001b[36m                                                  7 columns and 311 rows omitted\u001b[0m"
      ]
     },
     "execution_count": 2,
     "metadata": {},
     "output_type": "execute_result"
    }
   ],
   "source": [
    "using CSV, DataFrames, Statistics\n",
    "DF=CSV.read(\"test.csv\",DataFrame,missingstring=\"\")\n",
    "DF_clean = dropmissing(DF, :Age)"
   ]
  },
  {
   "cell_type": "code",
   "execution_count": 182,
   "metadata": {},
   "outputs": [
    {
     "data": {
      "text/plain": [
       "30.27273170731707"
      ]
     },
     "execution_count": 182,
     "metadata": {},
     "output_type": "execute_result"
    }
   ],
   "source": [
    "# Mean Age of Male\n",
    "mean(DF_clean[in.(DF_clean.Sex, Ref([\"male\"])), :].Age)"
   ]
  },
  {
   "cell_type": "code",
   "execution_count": 183,
   "metadata": {},
   "outputs": [
    {
     "data": {
      "text/plain": [
       "30.27236220472441"
      ]
     },
     "execution_count": 183,
     "metadata": {},
     "output_type": "execute_result"
    }
   ],
   "source": [
    "# Mean Age of Female\n",
    "mean(DF_clean[in.(DF_clean.Sex, Ref([\"female\"])), :].Age)"
   ]
  },
  {
   "cell_type": "markdown",
   "metadata": {},
   "source": [
    "## Question 4   \n",
    "\n",
    "Download the file RestaurantData.zip file containing the data for this project assignment from the Moodle. Unzip the file in a directory that will serve as your working directory. When you start up Julia, make sure to change your working directory to the directory where you unzipped the data. \n",
    "\n",
    "The data for this project came from Kaggle where somebody had used the Zomato API to scrape the data. Zomato API Analysis is useful for foodies who want to taste the best cuisines of every part of the world which lies in their budget. \n",
    "\n",
    "For more information on Zomato API and Zomato API key you could visit https://developers.zomato.com/api#headline1 and https://developers.zomato.com/documentation\n",
    "Data Fetching: Data had been originally collected from the Zomato API in the form of .json files (raw data). The collected data has been stored in the Comma Separated Value file zomato.csv. \n",
    "\n",
    "Each restaurant in the dataset is uniquely identified by its Restaurant Id. Every Restaurant contains the following variables: <br>\n",
    "•\tRestaurant Id: Unique id of every restaurant across various cities of the world <br>\n",
    "•\tRestaurant Name: Name of the restaurant <br>\n",
    "•\tCountry Code: Country in which restaurant is located <br> \n",
    "•\tCity: City in which restaurant is located <br>\n",
    "•\tAddress: Address of the restaurant <br>\n",
    "•\tLocality: Location in the city <br>\n",
    "•\tLocality Verbose: Detailed description of the locality <br>\n",
    "•\tLongitude: Longitude coordinate of the restaurant's location <br>\n",
    "•\tLatitude: Latitude coordinate of the restaurant's location <br>\n",
    "•\tCuisines: Cuisines offered by the restaurant <br>\n",
    "•\tAverage Cost for two: Cost for two people in different currencies 👫 <br>\n",
    "•\tCurrency: Currency of the country <br>\n",
    "•\tHas Table booking: yes/no <br>\n",
    "•\tHas Online delivery: yes/ no <br>\n",
    "•\tIs delivering: yes/ no <br>\n",
    "•\tSwitch to order menu: yes/no <br>\n",
    "•\tPrice range: range of price of food <br>\n",
    "•\tAggregate Rating: Average rating out of 5 <br>\n",
    "•\tRating color: depending upon the average rating color <br>\n",
    "•\tRating text: text on the basis of rating of rating <br>\n",
    "•\tVotes: Number of ratings casted by people"
   ]
  },
  {
   "cell_type": "markdown",
   "metadata": {},
   "source": [
    "### 4.1 Plot the user rankings for the restaurants \n",
    "\n",
    "Read the zomato data into Julia via the `CSV.read` function and look at the first few rows.\n",
    "There are many columns in this dataset. You can see how many by typing `ncol(zomato)` (you can see the number of rows with the `nrow` function). In addition, you can see the names of each column by typing `names(zomato)` (the names are also listed on the previous page.) \n",
    "Make a simple histogram of the ratings (column 18 in the zomato dataset)."
   ]
  },
  {
   "cell_type": "code",
   "execution_count": 184,
   "metadata": {},
   "outputs": [],
   "source": [
    "zomato=CSV.read(\"zomato.csv\",DataFrame,missingstring=\"\");"
   ]
  },
  {
   "cell_type": "code",
   "execution_count": 185,
   "metadata": {},
   "outputs": [
    {
     "data": {
      "text/html": [
       "<div><div style = \"float: left;\"><span>5×21 DataFrame</span></div><div style = \"clear: both;\"></div></div><div class = \"data-frame\" style = \"overflow-x: scroll;\"><table class = \"data-frame\" style = \"margin-bottom: 6px;\"><thead><tr class = \"header\"><th class = \"rowNumber\" style = \"font-weight: bold; text-align: right;\">Row</th><th style = \"text-align: left;\">Restaurant ID</th><th style = \"text-align: left;\">Restaurant Name</th><th style = \"text-align: left;\">Country Code</th><th style = \"text-align: left;\">City</th><th style = \"text-align: left;\">Address</th><th style = \"text-align: left;\">Locality</th><th style = \"text-align: left;\">Locality Verbose</th><th style = \"text-align: left;\">Longitude</th><th style = \"text-align: left;\">Latitude</th><th style = \"text-align: left;\">Cuisines</th><th style = \"text-align: left;\">Average Cost for two</th><th style = \"text-align: left;\">Currency</th><th style = \"text-align: left;\">Has Table booking</th><th style = \"text-align: left;\">Has Online delivery</th><th style = \"text-align: left;\">Is delivering now</th><th style = \"text-align: left;\">Switch to order menu</th><th style = \"text-align: left;\">Price range</th><th style = \"text-align: left;\">Aggregate rating</th><th style = \"text-align: left;\">Rating color</th><th style = \"text-align: left;\">Rating text</th><th style = \"text-align: left;\">Votes</th></tr><tr class = \"subheader headerLastRow\"><th class = \"rowNumber\" style = \"font-weight: bold; text-align: right;\"></th><th title = \"Int64\" style = \"text-align: left;\">Int64</th><th title = \"String\" style = \"text-align: left;\">String</th><th title = \"Int64\" style = \"text-align: left;\">Int64</th><th title = \"String31\" style = \"text-align: left;\">String31</th><th title = \"String\" style = \"text-align: left;\">String</th><th title = \"String\" style = \"text-align: left;\">String</th><th title = \"String\" style = \"text-align: left;\">String</th><th title = \"Float64\" style = \"text-align: left;\">Float64</th><th title = \"Float64\" style = \"text-align: left;\">Float64</th><th title = \"Union{Missing, String}\" style = \"text-align: left;\">String?</th><th title = \"Int64\" style = \"text-align: left;\">Int64</th><th title = \"String31\" style = \"text-align: left;\">String31</th><th title = \"String3\" style = \"text-align: left;\">String3</th><th title = \"String3\" style = \"text-align: left;\">String3</th><th title = \"String3\" style = \"text-align: left;\">String3</th><th title = \"String3\" style = \"text-align: left;\">String3</th><th title = \"Int64\" style = \"text-align: left;\">Int64</th><th title = \"Float64\" style = \"text-align: left;\">Float64</th><th title = \"String15\" style = \"text-align: left;\">String15</th><th title = \"String15\" style = \"text-align: left;\">String15</th><th title = \"Int64\" style = \"text-align: left;\">Int64</th></tr></thead><tbody><tr><td class = \"rowNumber\" style = \"font-weight: bold; text-align: right;\">1</td><td style = \"text-align: right;\">6317637</td><td style = \"text-align: left;\">Le Petit Souffle</td><td style = \"text-align: right;\">162</td><td style = \"text-align: left;\">Makati City</td><td style = \"text-align: left;\">Third Floor, Century City Mall, Kalayaan Avenue, Poblacion, Makati City</td><td style = \"text-align: left;\">Century City Mall, Poblacion, Makati City</td><td style = \"text-align: left;\">Century City Mall, Poblacion, Makati City, Makati City</td><td style = \"text-align: right;\">121.028</td><td style = \"text-align: right;\">14.5654</td><td style = \"text-align: left;\">French, Japanese, Desserts</td><td style = \"text-align: right;\">1100</td><td style = \"text-align: left;\">Botswana Pula(P)</td><td style = \"text-align: left;\">Yes</td><td style = \"text-align: left;\">No</td><td style = \"text-align: left;\">No</td><td style = \"text-align: left;\">No</td><td style = \"text-align: right;\">3</td><td style = \"text-align: right;\">4.8</td><td style = \"text-align: left;\">Dark Green</td><td style = \"text-align: left;\">Excellent</td><td style = \"text-align: right;\">314</td></tr><tr><td class = \"rowNumber\" style = \"font-weight: bold; text-align: right;\">2</td><td style = \"text-align: right;\">6304287</td><td style = \"text-align: left;\">Izakaya Kikufuji</td><td style = \"text-align: right;\">162</td><td style = \"text-align: left;\">Makati City</td><td style = \"text-align: left;\">Little Tokyo, 2277 Chino Roces Avenue, Legaspi Village, Makati City</td><td style = \"text-align: left;\">Little Tokyo, Legaspi Village, Makati City</td><td style = \"text-align: left;\">Little Tokyo, Legaspi Village, Makati City, Makati City</td><td style = \"text-align: right;\">121.014</td><td style = \"text-align: right;\">14.5537</td><td style = \"text-align: left;\">Japanese</td><td style = \"text-align: right;\">1200</td><td style = \"text-align: left;\">Botswana Pula(P)</td><td style = \"text-align: left;\">Yes</td><td style = \"text-align: left;\">No</td><td style = \"text-align: left;\">No</td><td style = \"text-align: left;\">No</td><td style = \"text-align: right;\">3</td><td style = \"text-align: right;\">4.5</td><td style = \"text-align: left;\">Dark Green</td><td style = \"text-align: left;\">Excellent</td><td style = \"text-align: right;\">591</td></tr><tr><td class = \"rowNumber\" style = \"font-weight: bold; text-align: right;\">3</td><td style = \"text-align: right;\">6300002</td><td style = \"text-align: left;\">Heat - Edsa Shangri-La</td><td style = \"text-align: right;\">162</td><td style = \"text-align: left;\">Mandaluyong City</td><td style = \"text-align: left;\">Edsa Shangri-La, 1 Garden Way, Ortigas, Mandaluyong City</td><td style = \"text-align: left;\">Edsa Shangri-La, Ortigas, Mandaluyong City</td><td style = \"text-align: left;\">Edsa Shangri-La, Ortigas, Mandaluyong City, Mandaluyong City</td><td style = \"text-align: right;\">121.057</td><td style = \"text-align: right;\">14.5814</td><td style = \"text-align: left;\">Seafood, Asian, Filipino, Indian</td><td style = \"text-align: right;\">4000</td><td style = \"text-align: left;\">Botswana Pula(P)</td><td style = \"text-align: left;\">Yes</td><td style = \"text-align: left;\">No</td><td style = \"text-align: left;\">No</td><td style = \"text-align: left;\">No</td><td style = \"text-align: right;\">4</td><td style = \"text-align: right;\">4.4</td><td style = \"text-align: left;\">Green</td><td style = \"text-align: left;\">Very Good</td><td style = \"text-align: right;\">270</td></tr><tr><td class = \"rowNumber\" style = \"font-weight: bold; text-align: right;\">4</td><td style = \"text-align: right;\">6318506</td><td style = \"text-align: left;\">Ooma</td><td style = \"text-align: right;\">162</td><td style = \"text-align: left;\">Mandaluyong City</td><td style = \"text-align: left;\">Third Floor, Mega Fashion Hall, SM Megamall, Ortigas, Mandaluyong City</td><td style = \"text-align: left;\">SM Megamall, Ortigas, Mandaluyong City</td><td style = \"text-align: left;\">SM Megamall, Ortigas, Mandaluyong City, Mandaluyong City</td><td style = \"text-align: right;\">121.056</td><td style = \"text-align: right;\">14.5853</td><td style = \"text-align: left;\">Japanese, Sushi</td><td style = \"text-align: right;\">1500</td><td style = \"text-align: left;\">Botswana Pula(P)</td><td style = \"text-align: left;\">No</td><td style = \"text-align: left;\">No</td><td style = \"text-align: left;\">No</td><td style = \"text-align: left;\">No</td><td style = \"text-align: right;\">4</td><td style = \"text-align: right;\">4.9</td><td style = \"text-align: left;\">Dark Green</td><td style = \"text-align: left;\">Excellent</td><td style = \"text-align: right;\">365</td></tr><tr><td class = \"rowNumber\" style = \"font-weight: bold; text-align: right;\">5</td><td style = \"text-align: right;\">6314302</td><td style = \"text-align: left;\">Sambo Kojin</td><td style = \"text-align: right;\">162</td><td style = \"text-align: left;\">Mandaluyong City</td><td style = \"text-align: left;\">Third Floor, Mega Atrium, SM Megamall, Ortigas, Mandaluyong City</td><td style = \"text-align: left;\">SM Megamall, Ortigas, Mandaluyong City</td><td style = \"text-align: left;\">SM Megamall, Ortigas, Mandaluyong City, Mandaluyong City</td><td style = \"text-align: right;\">121.058</td><td style = \"text-align: right;\">14.5845</td><td style = \"text-align: left;\">Japanese, Korean</td><td style = \"text-align: right;\">1500</td><td style = \"text-align: left;\">Botswana Pula(P)</td><td style = \"text-align: left;\">Yes</td><td style = \"text-align: left;\">No</td><td style = \"text-align: left;\">No</td><td style = \"text-align: left;\">No</td><td style = \"text-align: right;\">4</td><td style = \"text-align: right;\">4.8</td><td style = \"text-align: left;\">Dark Green</td><td style = \"text-align: left;\">Excellent</td><td style = \"text-align: right;\">229</td></tr></tbody></table></div>"
      ],
      "text/latex": [
       "\\begin{tabular}{r|cccccc}\n",
       "\t& Restaurant ID & Restaurant Name & Country Code & City & Address & \\\\\n",
       "\t\\hline\n",
       "\t& Int64 & String & Int64 & String31 & String & \\\\\n",
       "\t\\hline\n",
       "\t1 & 6317637 & Le Petit Souffle & 162 & Makati City & Third Floor, Century City Mall, Kalayaan Avenue, Poblacion, Makati City & $\\dots$ \\\\\n",
       "\t2 & 6304287 & Izakaya Kikufuji & 162 & Makati City & Little Tokyo, 2277 Chino Roces Avenue, Legaspi Village, Makati City & $\\dots$ \\\\\n",
       "\t3 & 6300002 & Heat - Edsa Shangri-La & 162 & Mandaluyong City & Edsa Shangri-La, 1 Garden Way, Ortigas, Mandaluyong City & $\\dots$ \\\\\n",
       "\t4 & 6318506 & Ooma & 162 & Mandaluyong City & Third Floor, Mega Fashion Hall, SM Megamall, Ortigas, Mandaluyong City & $\\dots$ \\\\\n",
       "\t5 & 6314302 & Sambo Kojin & 162 & Mandaluyong City & Third Floor, Mega Atrium, SM Megamall, Ortigas, Mandaluyong City & $\\dots$ \\\\\n",
       "\\end{tabular}\n"
      ],
      "text/plain": [
       "\u001b[1m5×21 DataFrame\u001b[0m\n",
       "\u001b[1m Row \u001b[0m│\u001b[1m Restaurant ID \u001b[0m\u001b[1m Restaurant Name        \u001b[0m\u001b[1m Country Code \u001b[0m\u001b[1m City             \u001b[0m\u001b[1m \u001b[0m ⋯\n",
       "     │\u001b[90m Int64         \u001b[0m\u001b[90m String                 \u001b[0m\u001b[90m Int64        \u001b[0m\u001b[90m String31         \u001b[0m\u001b[90m \u001b[0m ⋯\n",
       "─────┼──────────────────────────────────────────────────────────────────────────\n",
       "   1 │       6317637  Le Petit Souffle                 162  Makati City        ⋯\n",
       "   2 │       6304287  Izakaya Kikufuji                 162  Makati City\n",
       "   3 │       6300002  Heat - Edsa Shangri-La           162  Mandaluyong City\n",
       "   4 │       6318506  Ooma                             162  Mandaluyong City\n",
       "   5 │       6314302  Sambo Kojin                      162  Mandaluyong City   ⋯\n",
       "\u001b[36m                                                              17 columns omitted\u001b[0m"
      ]
     },
     "execution_count": 185,
     "metadata": {},
     "output_type": "execute_result"
    }
   ],
   "source": [
    "first(zomato,5)"
   ]
  },
  {
   "cell_type": "code",
   "execution_count": 186,
   "metadata": {},
   "outputs": [
    {
     "data": {
      "text/html": [
       "<div><div style = \"float: left;\"><span>5×21 DataFrame</span></div><div style = \"clear: both;\"></div></div><div class = \"data-frame\" style = \"overflow-x: scroll;\"><table class = \"data-frame\" style = \"margin-bottom: 6px;\"><thead><tr class = \"header\"><th class = \"rowNumber\" style = \"font-weight: bold; text-align: right;\">Row</th><th style = \"text-align: left;\">Restaurant ID</th><th style = \"text-align: left;\">Restaurant Name</th><th style = \"text-align: left;\">Country Code</th><th style = \"text-align: left;\">City</th><th style = \"text-align: left;\">Address</th><th style = \"text-align: left;\">Locality</th><th style = \"text-align: left;\">Locality Verbose</th><th style = \"text-align: left;\">Longitude</th><th style = \"text-align: left;\">Latitude</th><th style = \"text-align: left;\">Cuisines</th><th style = \"text-align: left;\">Average Cost for two</th><th style = \"text-align: left;\">Currency</th><th style = \"text-align: left;\">Has Table booking</th><th style = \"text-align: left;\">Has Online delivery</th><th style = \"text-align: left;\">Is delivering now</th><th style = \"text-align: left;\">Switch to order menu</th><th style = \"text-align: left;\">Price range</th><th style = \"text-align: left;\">Aggregate rating</th><th style = \"text-align: left;\">Rating color</th><th style = \"text-align: left;\">Rating text</th><th style = \"text-align: left;\">Votes</th></tr><tr class = \"subheader headerLastRow\"><th class = \"rowNumber\" style = \"font-weight: bold; text-align: right;\"></th><th title = \"Int64\" style = \"text-align: left;\">Int64</th><th title = \"String\" style = \"text-align: left;\">String</th><th title = \"Int64\" style = \"text-align: left;\">Int64</th><th title = \"String31\" style = \"text-align: left;\">String31</th><th title = \"String\" style = \"text-align: left;\">String</th><th title = \"String\" style = \"text-align: left;\">String</th><th title = \"String\" style = \"text-align: left;\">String</th><th title = \"Float64\" style = \"text-align: left;\">Float64</th><th title = \"Float64\" style = \"text-align: left;\">Float64</th><th title = \"Union{Missing, String}\" style = \"text-align: left;\">String?</th><th title = \"Int64\" style = \"text-align: left;\">Int64</th><th title = \"String31\" style = \"text-align: left;\">String31</th><th title = \"String3\" style = \"text-align: left;\">String3</th><th title = \"String3\" style = \"text-align: left;\">String3</th><th title = \"String3\" style = \"text-align: left;\">String3</th><th title = \"String3\" style = \"text-align: left;\">String3</th><th title = \"Int64\" style = \"text-align: left;\">Int64</th><th title = \"Float64\" style = \"text-align: left;\">Float64</th><th title = \"String15\" style = \"text-align: left;\">String15</th><th title = \"String15\" style = \"text-align: left;\">String15</th><th title = \"Int64\" style = \"text-align: left;\">Int64</th></tr></thead><tbody><tr><td class = \"rowNumber\" style = \"font-weight: bold; text-align: right;\">1</td><td style = \"text-align: right;\">5915730</td><td style = \"text-align: left;\">Naml۱ Gurme</td><td style = \"text-align: right;\">208</td><td style = \"text-align: left;\">\\xdb\\xc1stanbul</td><td style = \"text-align: left;\">Kemanke\\x81\\xf4 Karamustafa Pa\\x81\\xf4a Mahallesi, R۱ht۱m Caddesi, No 1/1, Katl۱ Otopark Alt۱,  Beyo\\xdb\\xf4lu, \\xdb\\xc1stanbul</td><td style = \"text-align: left;\">Karak\\xed_y</td><td style = \"text-align: left;\">Karak\\xed_y, \\xdb\\xc1stanbul</td><td style = \"text-align: right;\">28.9774</td><td style = \"text-align: right;\">41.0228</td><td style = \"text-align: left;\">Turkish</td><td style = \"text-align: right;\">80</td><td style = \"text-align: left;\">Turkish Lira(TL)</td><td style = \"text-align: left;\">No</td><td style = \"text-align: left;\">No</td><td style = \"text-align: left;\">No</td><td style = \"text-align: left;\">No</td><td style = \"text-align: right;\">3</td><td style = \"text-align: right;\">4.1</td><td style = \"text-align: left;\">Green</td><td style = \"text-align: left;\">Very Good</td><td style = \"text-align: right;\">788</td></tr><tr><td class = \"rowNumber\" style = \"font-weight: bold; text-align: right;\">2</td><td style = \"text-align: right;\">5908749</td><td style = \"text-align: left;\">Ceviz A\\xdb\\xf4ac۱</td><td style = \"text-align: right;\">208</td><td style = \"text-align: left;\">\\xdb\\xc1stanbul</td><td style = \"text-align: left;\">Ko\\x81\\xf4uyolu Mahallesi, Muhittin \\xed\\xecst\\xed_nda\\xdb\\xf4 Caddesi, No 85, Kad۱k\\xed_y, \\xdb\\xc1stanbul</td><td style = \"text-align: left;\">Ko\\x81\\xf4uyolu</td><td style = \"text-align: left;\">Ko\\x81\\xf4uyolu, \\xdb\\xc1stanbul</td><td style = \"text-align: right;\">29.0413</td><td style = \"text-align: right;\">41.0098</td><td style = \"text-align: left;\">World Cuisine, Patisserie, Cafe</td><td style = \"text-align: right;\">105</td><td style = \"text-align: left;\">Turkish Lira(TL)</td><td style = \"text-align: left;\">No</td><td style = \"text-align: left;\">No</td><td style = \"text-align: left;\">No</td><td style = \"text-align: left;\">No</td><td style = \"text-align: right;\">3</td><td style = \"text-align: right;\">4.2</td><td style = \"text-align: left;\">Green</td><td style = \"text-align: left;\">Very Good</td><td style = \"text-align: right;\">1034</td></tr><tr><td class = \"rowNumber\" style = \"font-weight: bold; text-align: right;\">3</td><td style = \"text-align: right;\">5915807</td><td style = \"text-align: left;\">Huqqa</td><td style = \"text-align: right;\">208</td><td style = \"text-align: left;\">\\xdb\\xc1stanbul</td><td style = \"text-align: left;\">Kuru\\xed_e\\x81\\xf4me Mahallesi, Muallim Naci Caddesi, No 56, Be\\x81\\xf4ikta\\x81\\xf4, \\xdb\\xc1stanbul</td><td style = \"text-align: left;\">Kuru\\xed_e\\x81\\xf4me</td><td style = \"text-align: left;\">Kuru\\xed_e\\x81\\xf4me, \\xdb\\xc1stanbul</td><td style = \"text-align: right;\">29.0346</td><td style = \"text-align: right;\">41.0558</td><td style = \"text-align: left;\">Italian, World Cuisine</td><td style = \"text-align: right;\">170</td><td style = \"text-align: left;\">Turkish Lira(TL)</td><td style = \"text-align: left;\">No</td><td style = \"text-align: left;\">No</td><td style = \"text-align: left;\">No</td><td style = \"text-align: left;\">No</td><td style = \"text-align: right;\">4</td><td style = \"text-align: right;\">3.7</td><td style = \"text-align: left;\">Yellow</td><td style = \"text-align: left;\">Good</td><td style = \"text-align: right;\">661</td></tr><tr><td class = \"rowNumber\" style = \"font-weight: bold; text-align: right;\">4</td><td style = \"text-align: right;\">5916112</td><td style = \"text-align: left;\">A\\x81\\xf4\\x81\\xf4k Kahve</td><td style = \"text-align: right;\">208</td><td style = \"text-align: left;\">\\xdb\\xc1stanbul</td><td style = \"text-align: left;\">Kuru\\xed_e\\x81\\xf4me Mahallesi, Muallim Naci Caddesi, No 64/B, Be\\x81\\xf4ikta\\x81\\xf4, \\xdb\\xc1stanbul</td><td style = \"text-align: left;\">Kuru\\xed_e\\x81\\xf4me</td><td style = \"text-align: left;\">Kuru\\xed_e\\x81\\xf4me, \\xdb\\xc1stanbul</td><td style = \"text-align: right;\">29.036</td><td style = \"text-align: right;\">41.058</td><td style = \"text-align: left;\">Restaurant Cafe</td><td style = \"text-align: right;\">120</td><td style = \"text-align: left;\">Turkish Lira(TL)</td><td style = \"text-align: left;\">No</td><td style = \"text-align: left;\">No</td><td style = \"text-align: left;\">No</td><td style = \"text-align: left;\">No</td><td style = \"text-align: right;\">4</td><td style = \"text-align: right;\">4.0</td><td style = \"text-align: left;\">Green</td><td style = \"text-align: left;\">Very Good</td><td style = \"text-align: right;\">901</td></tr><tr><td class = \"rowNumber\" style = \"font-weight: bold; text-align: right;\">5</td><td style = \"text-align: right;\">5927402</td><td style = \"text-align: left;\">Walter&apos;s Coffee Roastery</td><td style = \"text-align: right;\">208</td><td style = \"text-align: left;\">\\xdb\\xc1stanbul</td><td style = \"text-align: left;\">Cafea\\xdb\\xf4a Mahallesi, Bademalt۱ Sokak, No 21/B, Kad۱k\\xed_y, \\xdb\\xc1stanbul</td><td style = \"text-align: left;\">Moda</td><td style = \"text-align: left;\">Moda, \\xdb\\xc1stanbul</td><td style = \"text-align: right;\">29.026</td><td style = \"text-align: right;\">40.9848</td><td style = \"text-align: left;\">Cafe</td><td style = \"text-align: right;\">55</td><td style = \"text-align: left;\">Turkish Lira(TL)</td><td style = \"text-align: left;\">No</td><td style = \"text-align: left;\">No</td><td style = \"text-align: left;\">No</td><td style = \"text-align: left;\">No</td><td style = \"text-align: right;\">2</td><td style = \"text-align: right;\">4.0</td><td style = \"text-align: left;\">Green</td><td style = \"text-align: left;\">Very Good</td><td style = \"text-align: right;\">591</td></tr></tbody></table></div>"
      ],
      "text/latex": [
       "\\begin{tabular}{r|cccccc}\n",
       "\t& Restaurant ID & Restaurant Name & Country Code & City & Address & \\\\\n",
       "\t\\hline\n",
       "\t& Int64 & String & Int64 & String31 & String & \\\\\n",
       "\t\\hline\n",
       "\t1 & 5915730 & Naml۱ Gurme & 208 & \\textbackslash{}xdb\\textbackslash{}xc1stanbul & Kemanke\\textbackslash{}x81\\textbackslash{}xf4 Karamustafa Pa\\textbackslash{}x81\\textbackslash{}xf4a Mahallesi, R۱ht۱m Caddesi, No 1/1, Katl۱ Otopark Alt۱,  Beyo\\textbackslash{}xdb\\textbackslash{}xf4lu, \\textbackslash{}xdb\\textbackslash{}xc1stanbul & $\\dots$ \\\\\n",
       "\t2 & 5908749 & Ceviz A\\textbackslash{}xdb\\textbackslash{}xf4ac۱ & 208 & \\textbackslash{}xdb\\textbackslash{}xc1stanbul & Ko\\textbackslash{}x81\\textbackslash{}xf4uyolu Mahallesi, Muhittin \\textbackslash{}xed\\textbackslash{}xecst\\textbackslash{}xed\\_nda\\textbackslash{}xdb\\textbackslash{}xf4 Caddesi, No 85, Kad۱k\\textbackslash{}xed\\_y, \\textbackslash{}xdb\\textbackslash{}xc1stanbul & $\\dots$ \\\\\n",
       "\t3 & 5915807 & Huqqa & 208 & \\textbackslash{}xdb\\textbackslash{}xc1stanbul & Kuru\\textbackslash{}xed\\_e\\textbackslash{}x81\\textbackslash{}xf4me Mahallesi, Muallim Naci Caddesi, No 56, Be\\textbackslash{}x81\\textbackslash{}xf4ikta\\textbackslash{}x81\\textbackslash{}xf4, \\textbackslash{}xdb\\textbackslash{}xc1stanbul & $\\dots$ \\\\\n",
       "\t4 & 5916112 & A\\textbackslash{}x81\\textbackslash{}xf4\\textbackslash{}x81\\textbackslash{}xf4k Kahve & 208 & \\textbackslash{}xdb\\textbackslash{}xc1stanbul & Kuru\\textbackslash{}xed\\_e\\textbackslash{}x81\\textbackslash{}xf4me Mahallesi, Muallim Naci Caddesi, No 64/B, Be\\textbackslash{}x81\\textbackslash{}xf4ikta\\textbackslash{}x81\\textbackslash{}xf4, \\textbackslash{}xdb\\textbackslash{}xc1stanbul & $\\dots$ \\\\\n",
       "\t5 & 5927402 & Walter's Coffee Roastery & 208 & \\textbackslash{}xdb\\textbackslash{}xc1stanbul & Cafea\\textbackslash{}xdb\\textbackslash{}xf4a Mahallesi, Bademalt۱ Sokak, No 21/B, Kad۱k\\textbackslash{}xed\\_y, \\textbackslash{}xdb\\textbackslash{}xc1stanbul & $\\dots$ \\\\\n",
       "\\end{tabular}\n"
      ],
      "text/plain": [
       "\u001b[1m5×21 DataFrame\u001b[0m\n",
       "\u001b[1m Row \u001b[0m│\u001b[1m Restaurant ID \u001b[0m\u001b[1m Restaurant Name          \u001b[0m\u001b[1m Country Code \u001b[0m\u001b[1m City            \u001b[0m\u001b[1m\u001b[0m ⋯\n",
       "     │\u001b[90m Int64         \u001b[0m\u001b[90m String                   \u001b[0m\u001b[90m Int64        \u001b[0m\u001b[90m String31        \u001b[0m\u001b[90m\u001b[0m ⋯\n",
       "─────┼──────────────────────────────────────────────────────────────────────────\n",
       "   1 │       5915730  Naml۱ Gurme                        208  \\xdb\\xc1stanbul  ⋯\n",
       "   2 │       5908749  Ceviz A\\xdb\\xf4ac۱                 208  \\xdb\\xc1stanbul\n",
       "   3 │       5915807  Huqqa                              208  \\xdb\\xc1stanbul\n",
       "   4 │       5916112  A\\x81\\xf4\\x81\\xf4k Kahve           208  \\xdb\\xc1stanbul\n",
       "   5 │       5927402  Walter's Coffee Roastery           208  \\xdb\\xc1stanbul  ⋯\n",
       "\u001b[36m                                                              17 columns omitted\u001b[0m"
      ]
     },
     "execution_count": 186,
     "metadata": {},
     "output_type": "execute_result"
    }
   ],
   "source": [
    "last(zomato,5)"
   ]
  },
  {
   "cell_type": "code",
   "execution_count": 187,
   "metadata": {},
   "outputs": [
    {
     "data": {
      "text/plain": [
       "21"
      ]
     },
     "execution_count": 187,
     "metadata": {},
     "output_type": "execute_result"
    }
   ],
   "source": [
    "ncol(zomato)"
   ]
  },
  {
   "cell_type": "code",
   "execution_count": 188,
   "metadata": {},
   "outputs": [
    {
     "data": {
      "text/plain": [
       "9551"
      ]
     },
     "execution_count": 188,
     "metadata": {},
     "output_type": "execute_result"
    }
   ],
   "source": [
    "nrow(zomato)"
   ]
  },
  {
   "cell_type": "code",
   "execution_count": 189,
   "metadata": {},
   "outputs": [
    {
     "data": {
      "text/plain": [
       "21-element Vector{String}:\n",
       " \"Restaurant ID\"\n",
       " \"Restaurant Name\"\n",
       " \"Country Code\"\n",
       " \"City\"\n",
       " \"Address\"\n",
       " \"Locality\"\n",
       " \"Locality Verbose\"\n",
       " \"Longitude\"\n",
       " \"Latitude\"\n",
       " \"Cuisines\"\n",
       " \"Average Cost for two\"\n",
       " \"Currency\"\n",
       " \"Has Table booking\"\n",
       " \"Has Online delivery\"\n",
       " \"Is delivering now\"\n",
       " \"Switch to order menu\"\n",
       " \"Price range\"\n",
       " \"Aggregate rating\"\n",
       " \"Rating color\"\n",
       " \"Rating text\"\n",
       " \"Votes\""
      ]
     },
     "execution_count": 189,
     "metadata": {},
     "output_type": "execute_result"
    }
   ],
   "source": [
    "names(zomato)"
   ]
  },
  {
   "cell_type": "code",
   "execution_count": 190,
   "metadata": {},
   "outputs": [
    {
     "data": {
      "text/html": [
       "<div><div style = \"float: left;\"><span>21×7 DataFrame</span></div><div style = \"clear: both;\"></div></div><div class = \"data-frame\" style = \"overflow-x: scroll;\"><table class = \"data-frame\" style = \"margin-bottom: 6px;\"><thead><tr class = \"header\"><th class = \"rowNumber\" style = \"font-weight: bold; text-align: right;\">Row</th><th style = \"text-align: left;\">variable</th><th style = \"text-align: left;\">mean</th><th style = \"text-align: left;\">min</th><th style = \"text-align: left;\">median</th><th style = \"text-align: left;\">max</th><th style = \"text-align: left;\">nmissing</th><th style = \"text-align: left;\">eltype</th></tr><tr class = \"subheader headerLastRow\"><th class = \"rowNumber\" style = \"font-weight: bold; text-align: right;\"></th><th title = \"Symbol\" style = \"text-align: left;\">Symbol</th><th title = \"Union{Nothing, Float64}\" style = \"text-align: left;\">Union…</th><th title = \"Any\" style = \"text-align: left;\">Any</th><th title = \"Union{Nothing, Float64}\" style = \"text-align: left;\">Union…</th><th title = \"Any\" style = \"text-align: left;\">Any</th><th title = \"Int64\" style = \"text-align: left;\">Int64</th><th title = \"Type\" style = \"text-align: left;\">Type</th></tr></thead><tbody><tr><td class = \"rowNumber\" style = \"font-weight: bold; text-align: right;\">1</td><td style = \"text-align: left;\">Restaurant ID</td><td style = \"text-align: left;\">9.05113e6</td><td style = \"text-align: left;\">53</td><td style = \"text-align: left;\">6.00409e6</td><td style = \"text-align: left;\">18500652</td><td style = \"text-align: right;\">0</td><td style = \"text-align: left;\">Int64</td></tr><tr><td class = \"rowNumber\" style = \"font-weight: bold; text-align: right;\">2</td><td style = \"text-align: left;\">Restaurant Name</td><td style = \"font-style: italic; text-align: left;\"></td><td style = \"text-align: left;\"> Let&apos;s Burrrp</td><td style = \"font-style: italic; text-align: left;\"></td><td style = \"text-align: left;\">\\xed\\x88ukura\\xdb\\xf4a Sofras۱</td><td style = \"text-align: right;\">0</td><td style = \"text-align: left;\">String</td></tr><tr><td class = \"rowNumber\" style = \"font-weight: bold; text-align: right;\">3</td><td style = \"text-align: left;\">Country Code</td><td style = \"text-align: left;\">18.3656</td><td style = \"text-align: left;\">1</td><td style = \"text-align: left;\">1.0</td><td style = \"text-align: left;\">216</td><td style = \"text-align: right;\">0</td><td style = \"text-align: left;\">Int64</td></tr><tr><td class = \"rowNumber\" style = \"font-weight: bold; text-align: right;\">4</td><td style = \"text-align: left;\">City</td><td style = \"font-style: italic; text-align: left;\"></td><td style = \"text-align: left;\">Abu Dhabi</td><td style = \"font-style: italic; text-align: left;\"></td><td style = \"text-align: left;\">\\xdb\\xc1stanbul</td><td style = \"text-align: right;\">0</td><td style = \"text-align: left;\">String31</td></tr><tr><td class = \"rowNumber\" style = \"font-weight: bold; text-align: right;\">5</td><td style = \"text-align: left;\">Address</td><td style = \"font-style: italic; text-align: left;\"></td><td style = \"text-align: left;\">1 &amp; 2, Block A-5 B, DDA Market, Paschim Vihar, New Delhi</td><td style = \"font-style: italic; text-align: left;\"></td><td style = \"text-align: left;\">\\xed\\xecmitk\\xed_y Mahallesi, 2432. Cadde (8. Cadde), No 113, \\xed\\x88ankaya, Ankara</td><td style = \"text-align: right;\">0</td><td style = \"text-align: left;\">String</td></tr><tr><td class = \"rowNumber\" style = \"font-weight: bold; text-align: right;\">6</td><td style = \"text-align: left;\">Locality</td><td style = \"font-style: italic; text-align: left;\"></td><td style = \"text-align: left;\"> ILD Trade Centre Mall, Sohna Road</td><td style = \"font-style: italic; text-align: left;\"></td><td style = \"text-align: left;\">\\xed\\xecmitk\\xed_y</td><td style = \"text-align: right;\">0</td><td style = \"text-align: left;\">String</td></tr><tr><td class = \"rowNumber\" style = \"font-weight: bold; text-align: right;\">7</td><td style = \"text-align: left;\">Locality Verbose</td><td style = \"font-style: italic; text-align: left;\"></td><td style = \"text-align: left;\"> ILD Trade Centre Mall, Sohna Road, Gurgaon</td><td style = \"font-style: italic; text-align: left;\"></td><td style = \"text-align: left;\">\\xed\\xecmitk\\xed_y, Ankara</td><td style = \"text-align: right;\">0</td><td style = \"text-align: left;\">String</td></tr><tr><td class = \"rowNumber\" style = \"font-weight: bold; text-align: right;\">8</td><td style = \"text-align: left;\">Longitude</td><td style = \"text-align: left;\">64.1266</td><td style = \"text-align: left;\">-157.948</td><td style = \"text-align: left;\">77.192</td><td style = \"text-align: left;\">174.832</td><td style = \"text-align: right;\">0</td><td style = \"text-align: left;\">Float64</td></tr><tr><td class = \"rowNumber\" style = \"font-weight: bold; text-align: right;\">9</td><td style = \"text-align: left;\">Latitude</td><td style = \"text-align: left;\">25.8544</td><td style = \"text-align: left;\">-41.3304</td><td style = \"text-align: left;\">28.5705</td><td style = \"text-align: left;\">55.977</td><td style = \"text-align: right;\">0</td><td style = \"text-align: left;\">Float64</td></tr><tr><td class = \"rowNumber\" style = \"font-weight: bold; text-align: right;\">10</td><td style = \"text-align: left;\">Cuisines</td><td style = \"font-style: italic; text-align: left;\"></td><td style = \"text-align: left;\">Afghani</td><td style = \"font-style: italic; text-align: left;\"></td><td style = \"text-align: left;\">World Cuisine, Patisserie, Cafe</td><td style = \"text-align: right;\">9</td><td style = \"text-align: left;\">Union{Missing, String}</td></tr><tr><td class = \"rowNumber\" style = \"font-weight: bold; text-align: right;\">11</td><td style = \"text-align: left;\">Average Cost for two</td><td style = \"text-align: left;\">1199.21</td><td style = \"text-align: left;\">0</td><td style = \"text-align: left;\">400.0</td><td style = \"text-align: left;\">800000</td><td style = \"text-align: right;\">0</td><td style = \"text-align: left;\">Int64</td></tr><tr><td class = \"rowNumber\" style = \"font-weight: bold; text-align: right;\">12</td><td style = \"text-align: left;\">Currency</td><td style = \"font-style: italic; text-align: left;\"></td><td style = \"text-align: left;\">Botswana Pula(P)</td><td style = \"font-style: italic; text-align: left;\"></td><td style = \"text-align: left;\">Turkish Lira(TL)</td><td style = \"text-align: right;\">0</td><td style = \"text-align: left;\">String31</td></tr><tr><td class = \"rowNumber\" style = \"font-weight: bold; text-align: right;\">13</td><td style = \"text-align: left;\">Has Table booking</td><td style = \"font-style: italic; text-align: left;\"></td><td style = \"text-align: left;\">No</td><td style = \"font-style: italic; text-align: left;\"></td><td style = \"text-align: left;\">Yes</td><td style = \"text-align: right;\">0</td><td style = \"text-align: left;\">String3</td></tr><tr><td class = \"rowNumber\" style = \"font-weight: bold; text-align: right;\">14</td><td style = \"text-align: left;\">Has Online delivery</td><td style = \"font-style: italic; text-align: left;\"></td><td style = \"text-align: left;\">No</td><td style = \"font-style: italic; text-align: left;\"></td><td style = \"text-align: left;\">Yes</td><td style = \"text-align: right;\">0</td><td style = \"text-align: left;\">String3</td></tr><tr><td class = \"rowNumber\" style = \"font-weight: bold; text-align: right;\">15</td><td style = \"text-align: left;\">Is delivering now</td><td style = \"font-style: italic; text-align: left;\"></td><td style = \"text-align: left;\">No</td><td style = \"font-style: italic; text-align: left;\"></td><td style = \"text-align: left;\">Yes</td><td style = \"text-align: right;\">0</td><td style = \"text-align: left;\">String3</td></tr><tr><td class = \"rowNumber\" style = \"font-weight: bold; text-align: right;\">16</td><td style = \"text-align: left;\">Switch to order menu</td><td style = \"font-style: italic; text-align: left;\"></td><td style = \"text-align: left;\">No</td><td style = \"font-style: italic; text-align: left;\"></td><td style = \"text-align: left;\">No</td><td style = \"text-align: right;\">0</td><td style = \"text-align: left;\">String3</td></tr><tr><td class = \"rowNumber\" style = \"font-weight: bold; text-align: right;\">17</td><td style = \"text-align: left;\">Price range</td><td style = \"text-align: left;\">1.80484</td><td style = \"text-align: left;\">1</td><td style = \"text-align: left;\">2.0</td><td style = \"text-align: left;\">4</td><td style = \"text-align: right;\">0</td><td style = \"text-align: left;\">Int64</td></tr><tr><td class = \"rowNumber\" style = \"font-weight: bold; text-align: right;\">18</td><td style = \"text-align: left;\">Aggregate rating</td><td style = \"text-align: left;\">2.66637</td><td style = \"text-align: left;\">0.0</td><td style = \"text-align: left;\">3.2</td><td style = \"text-align: left;\">4.9</td><td style = \"text-align: right;\">0</td><td style = \"text-align: left;\">Float64</td></tr><tr><td class = \"rowNumber\" style = \"font-weight: bold; text-align: right;\">19</td><td style = \"text-align: left;\">Rating color</td><td style = \"font-style: italic; text-align: left;\"></td><td style = \"text-align: left;\">Dark Green</td><td style = \"font-style: italic; text-align: left;\"></td><td style = \"text-align: left;\">Yellow</td><td style = \"text-align: right;\">0</td><td style = \"text-align: left;\">String15</td></tr><tr><td class = \"rowNumber\" style = \"font-weight: bold; text-align: right;\">20</td><td style = \"text-align: left;\">Rating text</td><td style = \"font-style: italic; text-align: left;\"></td><td style = \"text-align: left;\">Average</td><td style = \"font-style: italic; text-align: left;\"></td><td style = \"text-align: left;\">Very Good</td><td style = \"text-align: right;\">0</td><td style = \"text-align: left;\">String15</td></tr><tr><td class = \"rowNumber\" style = \"font-weight: bold; text-align: right;\">21</td><td style = \"text-align: left;\">Votes</td><td style = \"text-align: left;\">156.91</td><td style = \"text-align: left;\">0</td><td style = \"text-align: left;\">31.0</td><td style = \"text-align: left;\">10934</td><td style = \"text-align: right;\">0</td><td style = \"text-align: left;\">Int64</td></tr></tbody></table></div>"
      ],
      "text/latex": [
       "\\begin{tabular}{r|cccc}\n",
       "\t& variable & mean & min & \\\\\n",
       "\t\\hline\n",
       "\t& Symbol & Union… & Any & \\\\\n",
       "\t\\hline\n",
       "\t1 & Restaurant ID & 9.05113e6 & 53 & $\\dots$ \\\\\n",
       "\t2 & Restaurant Name &  &  Let's Burrrp & $\\dots$ \\\\\n",
       "\t3 & Country Code & 18.3656 & 1 & $\\dots$ \\\\\n",
       "\t4 & City &  & Abu Dhabi & $\\dots$ \\\\\n",
       "\t5 & Address &  & 1 \\& 2, Block A-5 B, DDA Market, Paschim Vihar, New Delhi & $\\dots$ \\\\\n",
       "\t6 & Locality &  &  ILD Trade Centre Mall, Sohna Road & $\\dots$ \\\\\n",
       "\t7 & Locality Verbose &  &  ILD Trade Centre Mall, Sohna Road, Gurgaon & $\\dots$ \\\\\n",
       "\t8 & Longitude & 64.1266 & -157.948 & $\\dots$ \\\\\n",
       "\t9 & Latitude & 25.8544 & -41.3304 & $\\dots$ \\\\\n",
       "\t10 & Cuisines &  & Afghani & $\\dots$ \\\\\n",
       "\t11 & Average Cost for two & 1199.21 & 0 & $\\dots$ \\\\\n",
       "\t12 & Currency &  & Botswana Pula(P) & $\\dots$ \\\\\n",
       "\t13 & Has Table booking &  & No & $\\dots$ \\\\\n",
       "\t14 & Has Online delivery &  & No & $\\dots$ \\\\\n",
       "\t15 & Is delivering now &  & No & $\\dots$ \\\\\n",
       "\t16 & Switch to order menu &  & No & $\\dots$ \\\\\n",
       "\t17 & Price range & 1.80484 & 1 & $\\dots$ \\\\\n",
       "\t18 & Aggregate rating & 2.66637 & 0.0 & $\\dots$ \\\\\n",
       "\t19 & Rating color &  & Dark Green & $\\dots$ \\\\\n",
       "\t20 & Rating text &  & Average & $\\dots$ \\\\\n",
       "\t21 & Votes & 156.91 & 0 & $\\dots$ \\\\\n",
       "\\end{tabular}\n"
      ],
      "text/plain": [
       "\u001b[1m21×7 DataFrame\u001b[0m\n",
       "\u001b[1m Row \u001b[0m│\u001b[1m variable             \u001b[0m\u001b[1m mean      \u001b[0m\u001b[1m min                               \u001b[0m\u001b[1m med\u001b[0m ⋯\n",
       "     │\u001b[90m Symbol               \u001b[0m\u001b[90m Union…    \u001b[0m\u001b[90m Any                               \u001b[0m\u001b[90m Uni\u001b[0m ⋯\n",
       "─────┼──────────────────────────────────────────────────────────────────────────\n",
       "   1 │ Restaurant ID         9.05113e6  53                                 6.0 ⋯\n",
       "   2 │ Restaurant Name      \u001b[90m           \u001b[0m  Let's Burrrp                     \u001b[90m    \u001b[0m\n",
       "   3 │ Country Code          18.3656    1                                  1.0\n",
       "   4 │ City                 \u001b[90m           \u001b[0m Abu Dhabi                         \u001b[90m    \u001b[0m\n",
       "   5 │ Address              \u001b[90m           \u001b[0m 1 & 2, Block A-5 B, DDA Market, … \u001b[90m    \u001b[0m ⋯\n",
       "   6 │ Locality             \u001b[90m           \u001b[0m  ILD Trade Centre Mall, Sohna Ro… \u001b[90m    \u001b[0m\n",
       "   7 │ Locality Verbose     \u001b[90m           \u001b[0m  ILD Trade Centre Mall, Sohna Ro… \u001b[90m    \u001b[0m\n",
       "   8 │ Longitude             64.1266    -157.948                           77.\n",
       "   9 │ Latitude              25.8544    -41.3304                           28. ⋯\n",
       "  10 │ Cuisines             \u001b[90m           \u001b[0m Afghani                           \u001b[90m    \u001b[0m\n",
       "  11 │ Average Cost for two  1199.21    0                                  400\n",
       "  12 │ Currency             \u001b[90m           \u001b[0m Botswana Pula(P)                  \u001b[90m    \u001b[0m\n",
       "  13 │ Has Table booking    \u001b[90m           \u001b[0m No                                \u001b[90m    \u001b[0m ⋯\n",
       "  14 │ Has Online delivery  \u001b[90m           \u001b[0m No                                \u001b[90m    \u001b[0m\n",
       "  15 │ Is delivering now    \u001b[90m           \u001b[0m No                                \u001b[90m    \u001b[0m\n",
       "  16 │ Switch to order menu \u001b[90m           \u001b[0m No                                \u001b[90m    \u001b[0m\n",
       "  17 │ Price range           1.80484    1                                  2.0 ⋯\n",
       "  18 │ Aggregate rating      2.66637    0.0                                3.2\n",
       "  19 │ Rating color         \u001b[90m           \u001b[0m Dark Green                        \u001b[90m    \u001b[0m\n",
       "  20 │ Rating text          \u001b[90m           \u001b[0m Average                           \u001b[90m    \u001b[0m\n",
       "  21 │ Votes                 156.91     0                                  31. ⋯\n",
       "\u001b[36m                                                               4 columns omitted\u001b[0m"
      ]
     },
     "execution_count": 190,
     "metadata": {},
     "output_type": "execute_result"
    }
   ],
   "source": [
    "describe(zomato)"
   ]
  },
  {
   "cell_type": "code",
   "execution_count": 192,
   "metadata": {},
   "outputs": [],
   "source": [
    "zomato = dropmissing(zomato, :\"Aggregate rating\");"
   ]
  },
  {
   "cell_type": "code",
   "execution_count": 194,
   "metadata": {},
   "outputs": [],
   "source": [
    "zomato[!,\"Aggregate rating\"];"
   ]
  },
  {
   "cell_type": "code",
   "execution_count": 98,
   "metadata": {},
   "outputs": [
    {
     "data": {
      "image/svg+xml": "<?xml version=\"1.0\" encoding=\"utf-8\"?>\n<svg xmlns=\"http://www.w3.org/2000/svg\" xmlns:xlink=\"http://www.w3.org/1999/xlink\" width=\"600\" height=\"400\" viewBox=\"0 0 2400 1600\">\n<defs>\n  <clipPath id=\"clip470\">\n    <rect x=\"0\" y=\"0\" width=\"2400\" height=\"1600\"/>\n  </clipPath>\n</defs>\n<path clip-path=\"url(#clip470)\" d=\"\nM0 1600 L2400 1600 L2400 0 L0 0  Z\n  \" fill=\"#ffffff\" fill-rule=\"evenodd\" fill-opacity=\"1\"/>\n<defs>\n  <clipPath id=\"clip471\">\n    <rect x=\"480\" y=\"0\" width=\"1681\" height=\"1600\"/>\n  </clipPath>\n</defs>\n<path clip-path=\"url(#clip470)\" d=\"\nM264.287 1423.18 L2352.76 1423.18 L2352.76 123.472 L264.287 123.472  Z\n  \" fill=\"#ffffff\" fill-rule=\"evenodd\" fill-opacity=\"1\"/>\n<defs>\n  <clipPath id=\"clip472\">\n    <rect x=\"264\" y=\"123\" width=\"2089\" height=\"1301\"/>\n  </clipPath>\n</defs>\n<polyline clip-path=\"url(#clip472)\" style=\"stroke:#000000; stroke-linecap:round; stroke-linejoin:round; stroke-width:2; stroke-opacity:0.1; fill:none\" points=\"\n  379.157,1423.18 379.157,123.472 \n  \"/>\n<polyline clip-path=\"url(#clip472)\" style=\"stroke:#000000; stroke-linecap:round; stroke-linejoin:round; stroke-width:2; stroke-opacity:0.1; fill:none\" points=\"\n  750.903,1423.18 750.903,123.472 \n  \"/>\n<polyline clip-path=\"url(#clip472)\" style=\"stroke:#000000; stroke-linecap:round; stroke-linejoin:round; stroke-width:2; stroke-opacity:0.1; fill:none\" points=\"\n  1122.65,1423.18 1122.65,123.472 \n  \"/>\n<polyline clip-path=\"url(#clip472)\" style=\"stroke:#000000; stroke-linecap:round; stroke-linejoin:round; stroke-width:2; stroke-opacity:0.1; fill:none\" points=\"\n  1494.39,1423.18 1494.39,123.472 \n  \"/>\n<polyline clip-path=\"url(#clip472)\" style=\"stroke:#000000; stroke-linecap:round; stroke-linejoin:round; stroke-width:2; stroke-opacity:0.1; fill:none\" points=\"\n  1866.14,1423.18 1866.14,123.472 \n  \"/>\n<polyline clip-path=\"url(#clip472)\" style=\"stroke:#000000; stroke-linecap:round; stroke-linejoin:round; stroke-width:2; stroke-opacity:0.1; fill:none\" points=\"\n  2237.89,1423.18 2237.89,123.472 \n  \"/>\n<polyline clip-path=\"url(#clip470)\" style=\"stroke:#000000; stroke-linecap:round; stroke-linejoin:round; stroke-width:4; stroke-opacity:1; fill:none\" points=\"\n  264.287,1423.18 2352.76,1423.18 \n  \"/>\n<polyline clip-path=\"url(#clip470)\" style=\"stroke:#000000; stroke-linecap:round; stroke-linejoin:round; stroke-width:4; stroke-opacity:1; fill:none\" points=\"\n  379.157,1423.18 379.157,1404.28 \n  \"/>\n<polyline clip-path=\"url(#clip470)\" style=\"stroke:#000000; stroke-linecap:round; stroke-linejoin:round; stroke-width:4; stroke-opacity:1; fill:none\" points=\"\n  750.903,1423.18 750.903,1404.28 \n  \"/>\n<polyline clip-path=\"url(#clip470)\" style=\"stroke:#000000; stroke-linecap:round; stroke-linejoin:round; stroke-width:4; stroke-opacity:1; fill:none\" points=\"\n  1122.65,1423.18 1122.65,1404.28 \n  \"/>\n<polyline clip-path=\"url(#clip470)\" style=\"stroke:#000000; stroke-linecap:round; stroke-linejoin:round; stroke-width:4; stroke-opacity:1; fill:none\" points=\"\n  1494.39,1423.18 1494.39,1404.28 \n  \"/>\n<polyline clip-path=\"url(#clip470)\" style=\"stroke:#000000; stroke-linecap:round; stroke-linejoin:round; stroke-width:4; stroke-opacity:1; fill:none\" points=\"\n  1866.14,1423.18 1866.14,1404.28 \n  \"/>\n<polyline clip-path=\"url(#clip470)\" style=\"stroke:#000000; stroke-linecap:round; stroke-linejoin:round; stroke-width:4; stroke-opacity:1; fill:none\" points=\"\n  2237.89,1423.18 2237.89,1404.28 \n  \"/>\n<path clip-path=\"url(#clip470)\" d=\"M379.157 1454.1 Q375.546 1454.1 373.717 1457.66 Q371.911 1461.2 371.911 1468.33 Q371.911 1475.44 373.717 1479.01 Q375.546 1482.55 379.157 1482.55 Q382.791 1482.55 384.597 1479.01 Q386.425 1475.44 386.425 1468.33 Q386.425 1461.2 384.597 1457.66 Q382.791 1454.1 379.157 1454.1 M379.157 1450.39 Q384.967 1450.39 388.023 1455 Q391.101 1459.58 391.101 1468.33 Q391.101 1477.06 388.023 1481.67 Q384.967 1486.25 379.157 1486.25 Q373.347 1486.25 370.268 1481.67 Q367.212 1477.06 367.212 1468.33 Q367.212 1459.58 370.268 1455 Q373.347 1450.39 379.157 1450.39 Z\" fill=\"#000000\" fill-rule=\"evenodd\" fill-opacity=\"1\" /><path clip-path=\"url(#clip470)\" d=\"M741.285 1481.64 L748.924 1481.64 L748.924 1455.28 L740.613 1456.95 L740.613 1452.69 L748.877 1451.02 L753.553 1451.02 L753.553 1481.64 L761.192 1481.64 L761.192 1485.58 L741.285 1485.58 L741.285 1481.64 Z\" fill=\"#000000\" fill-rule=\"evenodd\" fill-opacity=\"1\" /><path clip-path=\"url(#clip470)\" d=\"M1117.3 1481.64 L1133.62 1481.64 L1133.62 1485.58 L1111.68 1485.58 L1111.68 1481.64 Q1114.34 1478.89 1118.92 1474.26 Q1123.53 1469.61 1124.71 1468.27 Q1126.95 1465.74 1127.83 1464.01 Q1128.74 1462.25 1128.74 1460.56 Q1128.74 1457.8 1126.79 1456.07 Q1124.87 1454.33 1121.77 1454.33 Q1119.57 1454.33 1117.12 1455.09 Q1114.69 1455.86 1111.91 1457.41 L1111.91 1452.69 Q1114.73 1451.55 1117.19 1450.97 Q1119.64 1450.39 1121.68 1450.39 Q1127.05 1450.39 1130.24 1453.08 Q1133.44 1455.77 1133.44 1460.26 Q1133.44 1462.39 1132.63 1464.31 Q1131.84 1466.2 1129.73 1468.8 Q1129.15 1469.47 1126.05 1472.69 Q1122.95 1475.88 1117.3 1481.64 Z\" fill=\"#000000\" fill-rule=\"evenodd\" fill-opacity=\"1\" /><path clip-path=\"url(#clip470)\" d=\"M1498.64 1466.95 Q1502 1467.66 1503.87 1469.93 Q1505.77 1472.2 1505.77 1475.53 Q1505.77 1480.65 1502.25 1483.45 Q1498.73 1486.25 1492.25 1486.25 Q1490.08 1486.25 1487.76 1485.81 Q1485.47 1485.39 1483.02 1484.54 L1483.02 1480.02 Q1484.96 1481.16 1487.28 1481.74 Q1489.59 1482.32 1492.11 1482.32 Q1496.51 1482.32 1498.8 1480.58 Q1501.12 1478.84 1501.12 1475.53 Q1501.12 1472.48 1498.97 1470.77 Q1496.84 1469.03 1493.02 1469.03 L1488.99 1469.03 L1488.99 1465.19 L1493.2 1465.19 Q1496.65 1465.19 1498.48 1463.82 Q1500.31 1462.43 1500.31 1459.84 Q1500.31 1457.18 1498.41 1455.77 Q1496.54 1454.33 1493.02 1454.33 Q1491.1 1454.33 1488.9 1454.75 Q1486.7 1455.16 1484.06 1456.04 L1484.06 1451.88 Q1486.72 1451.14 1489.04 1450.77 Q1491.37 1450.39 1493.43 1450.39 Q1498.76 1450.39 1501.86 1452.83 Q1504.96 1455.23 1504.96 1459.35 Q1504.96 1462.22 1503.32 1464.21 Q1501.67 1466.18 1498.64 1466.95 Z\" fill=\"#000000\" fill-rule=\"evenodd\" fill-opacity=\"1\" /><path clip-path=\"url(#clip470)\" d=\"M1869.15 1455.09 L1857.34 1473.54 L1869.15 1473.54 L1869.15 1455.09 M1867.92 1451.02 L1873.8 1451.02 L1873.8 1473.54 L1878.73 1473.54 L1878.73 1477.43 L1873.8 1477.43 L1873.8 1485.58 L1869.15 1485.58 L1869.15 1477.43 L1853.55 1477.43 L1853.55 1472.92 L1867.92 1451.02 Z\" fill=\"#000000\" fill-rule=\"evenodd\" fill-opacity=\"1\" /><path clip-path=\"url(#clip470)\" d=\"M2228.16 1451.02 L2246.52 1451.02 L2246.52 1454.96 L2232.45 1454.96 L2232.45 1463.43 Q2233.47 1463.08 2234.48 1462.92 Q2235.5 1462.73 2236.52 1462.73 Q2242.31 1462.73 2245.69 1465.9 Q2249.07 1469.08 2249.07 1474.49 Q2249.07 1480.07 2245.59 1483.17 Q2242.12 1486.25 2235.8 1486.25 Q2233.63 1486.25 2231.36 1485.88 Q2229.11 1485.51 2226.71 1484.77 L2226.71 1480.07 Q2228.79 1481.2 2231.01 1481.76 Q2233.23 1482.32 2235.71 1482.32 Q2239.72 1482.32 2242.05 1480.21 Q2244.39 1478.1 2244.39 1474.49 Q2244.39 1470.88 2242.05 1468.77 Q2239.72 1466.67 2235.71 1466.67 Q2233.84 1466.67 2231.96 1467.08 Q2230.11 1467.5 2228.16 1468.38 L2228.16 1451.02 Z\" fill=\"#000000\" fill-rule=\"evenodd\" fill-opacity=\"1\" /><path clip-path=\"url(#clip470)\" d=\"M1048.16 1526.86 L1039.44 1550.51 L1056.92 1550.51 L1048.16 1526.86 M1044.54 1520.52 L1051.82 1520.52 L1069.93 1568.04 L1063.25 1568.04 L1058.92 1555.85 L1037.5 1555.85 L1033.17 1568.04 L1026.39 1568.04 L1044.54 1520.52 Z\" fill=\"#000000\" fill-rule=\"evenodd\" fill-opacity=\"1\" /><path clip-path=\"url(#clip470)\" d=\"M1100.08 1549.81 Q1100.08 1543.44 1097.43 1539.94 Q1094.82 1536.44 1090.08 1536.44 Q1085.37 1536.44 1082.73 1539.94 Q1080.12 1543.44 1080.12 1549.81 Q1080.12 1556.14 1082.73 1559.64 Q1085.37 1563.14 1090.08 1563.14 Q1094.82 1563.14 1097.43 1559.64 Q1100.08 1556.14 1100.08 1549.81 M1105.93 1563.62 Q1105.93 1572.72 1101.89 1577.15 Q1097.85 1581.6 1089.51 1581.6 Q1086.42 1581.6 1083.68 1581.13 Q1080.95 1580.68 1078.37 1579.72 L1078.37 1574.03 Q1080.95 1575.43 1083.46 1576.1 Q1085.98 1576.76 1088.59 1576.76 Q1094.35 1576.76 1097.21 1573.74 Q1100.08 1570.75 1100.08 1564.67 L1100.08 1561.77 Q1098.26 1564.92 1095.43 1566.48 Q1092.6 1568.04 1088.65 1568.04 Q1082.09 1568.04 1078.08 1563.05 Q1074.07 1558.05 1074.07 1549.81 Q1074.07 1541.53 1078.08 1536.53 Q1082.09 1531.54 1088.65 1531.54 Q1092.6 1531.54 1095.43 1533.1 Q1098.26 1534.66 1100.08 1537.81 L1100.08 1532.4 L1105.93 1532.4 L1105.93 1563.62 Z\" fill=\"#000000\" fill-rule=\"evenodd\" fill-opacity=\"1\" /><path clip-path=\"url(#clip470)\" d=\"M1141.45 1549.81 Q1141.45 1543.44 1138.81 1539.94 Q1136.2 1536.44 1131.46 1536.44 Q1126.75 1536.44 1124.11 1539.94 Q1121.5 1543.44 1121.5 1549.81 Q1121.5 1556.14 1124.11 1559.64 Q1126.75 1563.14 1131.46 1563.14 Q1136.2 1563.14 1138.81 1559.64 Q1141.45 1556.14 1141.45 1549.81 M1147.31 1563.62 Q1147.31 1572.72 1143.27 1577.15 Q1139.23 1581.6 1130.89 1581.6 Q1127.8 1581.6 1125.06 1581.13 Q1122.32 1580.68 1119.75 1579.72 L1119.75 1574.03 Q1122.32 1575.43 1124.84 1576.1 Q1127.35 1576.76 1129.96 1576.76 Q1135.72 1576.76 1138.59 1573.74 Q1141.45 1570.75 1141.45 1564.67 L1141.45 1561.77 Q1139.64 1564.92 1136.81 1566.48 Q1133.97 1568.04 1130.03 1568.04 Q1123.47 1568.04 1119.46 1563.05 Q1115.45 1558.05 1115.45 1549.81 Q1115.45 1541.53 1119.46 1536.53 Q1123.47 1531.54 1130.03 1531.54 Q1133.97 1531.54 1136.81 1533.1 Q1139.64 1534.66 1141.45 1537.81 L1141.45 1532.4 L1147.31 1532.4 L1147.31 1563.62 Z\" fill=\"#000000\" fill-rule=\"evenodd\" fill-opacity=\"1\" /><path clip-path=\"url(#clip470)\" d=\"M1180.03 1537.87 Q1179.04 1537.3 1177.87 1537.04 Q1176.72 1536.76 1175.32 1536.76 Q1170.35 1536.76 1167.68 1540 Q1165.04 1543.22 1165.04 1549.27 L1165.04 1568.04 L1159.15 1568.04 L1159.15 1532.4 L1165.04 1532.4 L1165.04 1537.93 Q1166.88 1534.69 1169.84 1533.13 Q1172.8 1531.54 1177.04 1531.54 Q1177.64 1531.54 1178.37 1531.63 Q1179.11 1531.7 1180 1531.85 L1180.03 1537.87 Z\" fill=\"#000000\" fill-rule=\"evenodd\" fill-opacity=\"1\" /><path clip-path=\"url(#clip470)\" d=\"M1215.23 1548.76 L1215.23 1551.62 L1188.31 1551.62 Q1188.69 1557.67 1191.93 1560.85 Q1195.21 1564 1201.04 1564 Q1204.41 1564 1207.56 1563.17 Q1210.74 1562.35 1213.86 1560.69 L1213.86 1566.23 Q1210.71 1567.57 1207.4 1568.27 Q1204.09 1568.97 1200.69 1568.97 Q1192.16 1568.97 1187.16 1564 Q1182.19 1559.04 1182.19 1550.57 Q1182.19 1541.82 1186.9 1536.69 Q1191.65 1531.54 1199.67 1531.54 Q1206.86 1531.54 1211.03 1536.18 Q1215.23 1540.8 1215.23 1548.76 M1209.38 1547.04 Q1209.31 1542.23 1206.67 1539.37 Q1204.06 1536.5 1199.73 1536.5 Q1194.83 1536.5 1191.87 1539.27 Q1188.94 1542.04 1188.5 1547.07 L1209.38 1547.04 Z\" fill=\"#000000\" fill-rule=\"evenodd\" fill-opacity=\"1\" /><path clip-path=\"url(#clip470)\" d=\"M1248.3 1549.81 Q1248.3 1543.44 1245.66 1539.94 Q1243.05 1536.44 1238.31 1536.44 Q1233.6 1536.44 1230.96 1539.94 Q1228.35 1543.44 1228.35 1549.81 Q1228.35 1556.14 1230.96 1559.64 Q1233.6 1563.14 1238.31 1563.14 Q1243.05 1563.14 1245.66 1559.64 Q1248.3 1556.14 1248.3 1549.81 M1254.16 1563.62 Q1254.16 1572.72 1250.12 1577.15 Q1246.07 1581.6 1237.73 1581.6 Q1234.65 1581.6 1231.91 1581.13 Q1229.17 1580.68 1226.59 1579.72 L1226.59 1574.03 Q1229.17 1575.43 1231.69 1576.1 Q1234.2 1576.76 1236.81 1576.76 Q1242.57 1576.76 1245.44 1573.74 Q1248.3 1570.75 1248.3 1564.67 L1248.3 1561.77 Q1246.49 1564.92 1243.66 1566.48 Q1240.82 1568.04 1236.88 1568.04 Q1230.32 1568.04 1226.31 1563.05 Q1222.3 1558.05 1222.3 1549.81 Q1222.3 1541.53 1226.31 1536.53 Q1230.32 1531.54 1236.88 1531.54 Q1240.82 1531.54 1243.66 1533.1 Q1246.49 1534.66 1248.3 1537.81 L1248.3 1532.4 L1254.16 1532.4 L1254.16 1563.62 Z\" fill=\"#000000\" fill-rule=\"evenodd\" fill-opacity=\"1\" /><path clip-path=\"url(#clip470)\" d=\"M1282.42 1550.12 Q1275.32 1550.12 1272.59 1551.75 Q1269.85 1553.37 1269.85 1557.29 Q1269.85 1560.4 1271.89 1562.25 Q1273.96 1564.07 1277.49 1564.07 Q1282.36 1564.07 1285.29 1560.63 Q1288.25 1557.16 1288.25 1551.43 L1288.25 1550.12 L1282.42 1550.12 M1294.1 1547.71 L1294.1 1568.04 L1288.25 1568.04 L1288.25 1562.63 Q1286.24 1565.88 1283.25 1567.44 Q1280.26 1568.97 1275.93 1568.97 Q1270.45 1568.97 1267.21 1565.91 Q1263.99 1562.82 1263.99 1557.67 Q1263.99 1551.65 1268 1548.6 Q1272.05 1545.54 1280.04 1545.54 L1288.25 1545.54 L1288.25 1544.97 Q1288.25 1540.93 1285.57 1538.73 Q1282.93 1536.5 1278.13 1536.5 Q1275.07 1536.5 1272.17 1537.23 Q1269.28 1537.97 1266.6 1539.43 L1266.6 1534.02 Q1269.82 1532.78 1272.84 1532.17 Q1275.87 1531.54 1278.73 1531.54 Q1286.46 1531.54 1290.28 1535.55 Q1294.1 1539.56 1294.1 1547.71 Z\" fill=\"#000000\" fill-rule=\"evenodd\" fill-opacity=\"1\" /><path clip-path=\"url(#clip470)\" d=\"M1311.96 1522.27 L1311.96 1532.4 L1324.02 1532.4 L1324.02 1536.95 L1311.96 1536.95 L1311.96 1556.3 Q1311.96 1560.66 1313.14 1561.9 Q1314.35 1563.14 1318.01 1563.14 L1324.02 1563.14 L1324.02 1568.04 L1318.01 1568.04 Q1311.23 1568.04 1308.65 1565.53 Q1306.07 1562.98 1306.07 1556.3 L1306.07 1536.95 L1301.77 1536.95 L1301.77 1532.4 L1306.07 1532.4 L1306.07 1522.27 L1311.96 1522.27 Z\" fill=\"#000000\" fill-rule=\"evenodd\" fill-opacity=\"1\" /><path clip-path=\"url(#clip470)\" d=\"M1362.22 1548.76 L1362.22 1551.62 L1335.29 1551.62 Q1335.67 1557.67 1338.92 1560.85 Q1342.2 1564 1348.02 1564 Q1351.39 1564 1354.55 1563.17 Q1357.73 1562.35 1360.85 1560.69 L1360.85 1566.23 Q1357.7 1567.57 1354.39 1568.27 Q1351.08 1568.97 1347.67 1568.97 Q1339.14 1568.97 1334.14 1564 Q1329.18 1559.04 1329.18 1550.57 Q1329.18 1541.82 1333.89 1536.69 Q1338.63 1531.54 1346.65 1531.54 Q1353.85 1531.54 1358.01 1536.18 Q1362.22 1540.8 1362.22 1548.76 M1356.36 1547.04 Q1356.3 1542.23 1353.65 1539.37 Q1351.04 1536.5 1346.72 1536.5 Q1341.81 1536.5 1338.85 1539.27 Q1335.93 1542.04 1335.48 1547.07 L1356.36 1547.04 Z\" fill=\"#000000\" fill-rule=\"evenodd\" fill-opacity=\"1\" /><path clip-path=\"url(#clip470)\" d=\"M1415.34 1545.76 Q1417.41 1546.46 1419.35 1548.76 Q1421.32 1551.05 1423.3 1555.06 L1429.82 1568.04 L1422.91 1568.04 L1416.83 1555.85 Q1414.48 1551.08 1412.25 1549.52 Q1410.05 1547.96 1406.24 1547.96 L1399.23 1547.96 L1399.23 1568.04 L1392.8 1568.04 L1392.8 1520.52 L1407.32 1520.52 Q1415.47 1520.52 1419.48 1523.93 Q1423.49 1527.34 1423.49 1534.21 Q1423.49 1538.7 1421.39 1541.66 Q1419.32 1544.62 1415.34 1545.76 M1399.23 1525.81 L1399.23 1542.68 L1407.32 1542.68 Q1411.96 1542.68 1414.32 1540.54 Q1416.71 1538.38 1416.71 1534.21 Q1416.71 1530.04 1414.32 1527.94 Q1411.96 1525.81 1407.32 1525.81 L1399.23 1525.81 Z\" fill=\"#000000\" fill-rule=\"evenodd\" fill-opacity=\"1\" /><path clip-path=\"url(#clip470)\" d=\"M1452.61 1550.12 Q1445.51 1550.12 1442.77 1551.75 Q1440.04 1553.37 1440.04 1557.29 Q1440.04 1560.4 1442.07 1562.25 Q1444.14 1564.07 1447.68 1564.07 Q1452.55 1564.07 1455.47 1560.63 Q1458.43 1557.16 1458.43 1551.43 L1458.43 1550.12 L1452.61 1550.12 M1464.29 1547.71 L1464.29 1568.04 L1458.43 1568.04 L1458.43 1562.63 Q1456.43 1565.88 1453.44 1567.44 Q1450.45 1568.97 1446.12 1568.97 Q1440.64 1568.97 1437.4 1565.91 Q1434.18 1562.82 1434.18 1557.67 Q1434.18 1551.65 1438.19 1548.6 Q1442.23 1545.54 1450.22 1545.54 L1458.43 1545.54 L1458.43 1544.97 Q1458.43 1540.93 1455.76 1538.73 Q1453.12 1536.5 1448.31 1536.5 Q1445.26 1536.5 1442.36 1537.23 Q1439.46 1537.97 1436.79 1539.43 L1436.79 1534.02 Q1440.01 1532.78 1443.03 1532.17 Q1446.05 1531.54 1448.92 1531.54 Q1456.65 1531.54 1460.47 1535.55 Q1464.29 1539.56 1464.29 1547.71 Z\" fill=\"#000000\" fill-rule=\"evenodd\" fill-opacity=\"1\" /><path clip-path=\"url(#clip470)\" d=\"M1482.15 1522.27 L1482.15 1532.4 L1494.21 1532.4 L1494.21 1536.95 L1482.15 1536.95 L1482.15 1556.3 Q1482.15 1560.66 1483.32 1561.9 Q1484.53 1563.14 1488.19 1563.14 L1494.21 1563.14 L1494.21 1568.04 L1488.19 1568.04 Q1481.41 1568.04 1478.84 1565.53 Q1476.26 1562.98 1476.26 1556.3 L1476.26 1536.95 L1471.96 1536.95 L1471.96 1532.4 L1476.26 1532.4 L1476.26 1522.27 L1482.15 1522.27 Z\" fill=\"#000000\" fill-rule=\"evenodd\" fill-opacity=\"1\" /><path clip-path=\"url(#clip470)\" d=\"M1501.91 1532.4 L1507.77 1532.4 L1507.77 1568.04 L1501.91 1568.04 L1501.91 1532.4 M1501.91 1518.52 L1507.77 1518.52 L1507.77 1525.93 L1501.91 1525.93 L1501.91 1518.52 Z\" fill=\"#000000\" fill-rule=\"evenodd\" fill-opacity=\"1\" /><path clip-path=\"url(#clip470)\" d=\"M1549.65 1546.53 L1549.65 1568.04 L1543.8 1568.04 L1543.8 1546.72 Q1543.8 1541.66 1541.82 1539.14 Q1539.85 1536.63 1535.9 1536.63 Q1531.16 1536.63 1528.42 1539.65 Q1525.69 1542.68 1525.69 1547.9 L1525.69 1568.04 L1519.8 1568.04 L1519.8 1532.4 L1525.69 1532.4 L1525.69 1537.93 Q1527.79 1534.72 1530.62 1533.13 Q1533.49 1531.54 1537.21 1531.54 Q1543.35 1531.54 1546.5 1535.36 Q1549.65 1539.14 1549.65 1546.53 Z\" fill=\"#000000\" fill-rule=\"evenodd\" fill-opacity=\"1\" /><path clip-path=\"url(#clip470)\" d=\"M1584.79 1549.81 Q1584.79 1543.44 1582.15 1539.94 Q1579.54 1536.44 1574.8 1536.44 Q1570.09 1536.44 1567.45 1539.94 Q1564.84 1543.44 1564.84 1549.81 Q1564.84 1556.14 1567.45 1559.64 Q1570.09 1563.14 1574.8 1563.14 Q1579.54 1563.14 1582.15 1559.64 Q1584.79 1556.14 1584.79 1549.81 M1590.65 1563.62 Q1590.65 1572.72 1586.61 1577.15 Q1582.57 1581.6 1574.23 1581.6 Q1571.14 1581.6 1568.4 1581.13 Q1565.66 1580.68 1563.09 1579.72 L1563.09 1574.03 Q1565.66 1575.43 1568.18 1576.1 Q1570.69 1576.76 1573.3 1576.76 Q1579.06 1576.76 1581.93 1573.74 Q1584.79 1570.75 1584.79 1564.67 L1584.79 1561.77 Q1582.98 1564.92 1580.15 1566.48 Q1577.31 1568.04 1573.37 1568.04 Q1566.81 1568.04 1562.8 1563.05 Q1558.79 1558.05 1558.79 1549.81 Q1558.79 1541.53 1562.8 1536.53 Q1566.81 1531.54 1573.37 1531.54 Q1577.31 1531.54 1580.15 1533.1 Q1582.98 1534.66 1584.79 1537.81 L1584.79 1532.4 L1590.65 1532.4 L1590.65 1563.62 Z\" fill=\"#000000\" fill-rule=\"evenodd\" fill-opacity=\"1\" /><polyline clip-path=\"url(#clip472)\" style=\"stroke:#000000; stroke-linecap:round; stroke-linejoin:round; stroke-width:2; stroke-opacity:0.1; fill:none\" points=\"\n  264.287,1386.4 2352.76,1386.4 \n  \"/>\n<polyline clip-path=\"url(#clip472)\" style=\"stroke:#000000; stroke-linecap:round; stroke-linejoin:round; stroke-width:2; stroke-opacity:0.1; fill:none\" points=\"\n  264.287,1100.98 2352.76,1100.98 \n  \"/>\n<polyline clip-path=\"url(#clip472)\" style=\"stroke:#000000; stroke-linecap:round; stroke-linejoin:round; stroke-width:2; stroke-opacity:0.1; fill:none\" points=\"\n  264.287,815.567 2352.76,815.567 \n  \"/>\n<polyline clip-path=\"url(#clip472)\" style=\"stroke:#000000; stroke-linecap:round; stroke-linejoin:round; stroke-width:2; stroke-opacity:0.1; fill:none\" points=\"\n  264.287,530.153 2352.76,530.153 \n  \"/>\n<polyline clip-path=\"url(#clip472)\" style=\"stroke:#000000; stroke-linecap:round; stroke-linejoin:round; stroke-width:2; stroke-opacity:0.1; fill:none\" points=\"\n  264.287,244.739 2352.76,244.739 \n  \"/>\n<polyline clip-path=\"url(#clip470)\" style=\"stroke:#000000; stroke-linecap:round; stroke-linejoin:round; stroke-width:4; stroke-opacity:1; fill:none\" points=\"\n  264.287,1423.18 264.287,123.472 \n  \"/>\n<polyline clip-path=\"url(#clip470)\" style=\"stroke:#000000; stroke-linecap:round; stroke-linejoin:round; stroke-width:4; stroke-opacity:1; fill:none\" points=\"\n  264.287,1386.4 283.185,1386.4 \n  \"/>\n<polyline clip-path=\"url(#clip470)\" style=\"stroke:#000000; stroke-linecap:round; stroke-linejoin:round; stroke-width:4; stroke-opacity:1; fill:none\" points=\"\n  264.287,1100.98 283.185,1100.98 \n  \"/>\n<polyline clip-path=\"url(#clip470)\" style=\"stroke:#000000; stroke-linecap:round; stroke-linejoin:round; stroke-width:4; stroke-opacity:1; fill:none\" points=\"\n  264.287,815.567 283.185,815.567 \n  \"/>\n<polyline clip-path=\"url(#clip470)\" style=\"stroke:#000000; stroke-linecap:round; stroke-linejoin:round; stroke-width:4; stroke-opacity:1; fill:none\" points=\"\n  264.287,530.153 283.185,530.153 \n  \"/>\n<polyline clip-path=\"url(#clip470)\" style=\"stroke:#000000; stroke-linecap:round; stroke-linejoin:round; stroke-width:4; stroke-opacity:1; fill:none\" points=\"\n  264.287,244.739 283.185,244.739 \n  \"/>\n<path clip-path=\"url(#clip470)\" d=\"M216.343 1372.19 Q212.732 1372.19 210.903 1375.76 Q209.098 1379.3 209.098 1386.43 Q209.098 1393.54 210.903 1397.1 Q212.732 1400.64 216.343 1400.64 Q219.977 1400.64 221.783 1397.1 Q223.611 1393.54 223.611 1386.43 Q223.611 1379.3 221.783 1375.76 Q219.977 1372.19 216.343 1372.19 M216.343 1368.49 Q222.153 1368.49 225.209 1373.1 Q228.287 1377.68 228.287 1386.43 Q228.287 1395.16 225.209 1399.76 Q222.153 1404.35 216.343 1404.35 Q210.533 1404.35 207.454 1399.76 Q204.399 1395.16 204.399 1386.43 Q204.399 1377.68 207.454 1373.1 Q210.533 1368.49 216.343 1368.49 Z\" fill=\"#000000\" fill-rule=\"evenodd\" fill-opacity=\"1\" /><path clip-path=\"url(#clip470)\" d=\"M146.066 1083.7 L164.422 1083.7 L164.422 1087.64 L150.348 1087.64 L150.348 1096.11 Q151.366 1095.76 152.385 1095.6 Q153.403 1095.41 154.422 1095.41 Q160.209 1095.41 163.589 1098.59 Q166.968 1101.76 166.968 1107.17 Q166.968 1112.75 163.496 1115.85 Q160.024 1118.93 153.704 1118.93 Q151.528 1118.93 149.26 1118.56 Q147.015 1118.19 144.607 1117.45 L144.607 1112.75 Q146.691 1113.89 148.913 1114.44 Q151.135 1115 153.612 1115 Q157.616 1115 159.954 1112.89 Q162.292 1110.78 162.292 1107.17 Q162.292 1103.56 159.954 1101.46 Q157.616 1099.35 153.612 1099.35 Q151.737 1099.35 149.862 1099.77 Q148.01 1100.18 146.066 1101.06 L146.066 1083.7 Z\" fill=\"#000000\" fill-rule=\"evenodd\" fill-opacity=\"1\" /><path clip-path=\"url(#clip470)\" d=\"M186.181 1086.78 Q182.57 1086.78 180.741 1090.34 Q178.936 1093.89 178.936 1101.02 Q178.936 1108.12 180.741 1111.69 Q182.57 1115.23 186.181 1115.23 Q189.815 1115.23 191.621 1111.69 Q193.45 1108.12 193.45 1101.02 Q193.45 1093.89 191.621 1090.34 Q189.815 1086.78 186.181 1086.78 M186.181 1083.08 Q191.991 1083.08 195.047 1087.68 Q198.125 1092.27 198.125 1101.02 Q198.125 1109.74 195.047 1114.35 Q191.991 1118.93 186.181 1118.93 Q180.371 1118.93 177.292 1114.35 Q174.237 1109.74 174.237 1101.02 Q174.237 1092.27 177.292 1087.68 Q180.371 1083.08 186.181 1083.08 Z\" fill=\"#000000\" fill-rule=\"evenodd\" fill-opacity=\"1\" /><path clip-path=\"url(#clip470)\" d=\"M216.343 1086.78 Q212.732 1086.78 210.903 1090.34 Q209.098 1093.89 209.098 1101.02 Q209.098 1108.12 210.903 1111.69 Q212.732 1115.23 216.343 1115.23 Q219.977 1115.23 221.783 1111.69 Q223.611 1108.12 223.611 1101.02 Q223.611 1093.89 221.783 1090.34 Q219.977 1086.78 216.343 1086.78 M216.343 1083.08 Q222.153 1083.08 225.209 1087.68 Q228.287 1092.27 228.287 1101.02 Q228.287 1109.74 225.209 1114.35 Q222.153 1118.93 216.343 1118.93 Q210.533 1118.93 207.454 1114.35 Q204.399 1109.74 204.399 1101.02 Q204.399 1092.27 207.454 1087.68 Q210.533 1083.08 216.343 1083.08 Z\" fill=\"#000000\" fill-rule=\"evenodd\" fill-opacity=\"1\" /><path clip-path=\"url(#clip470)\" d=\"M116.668 828.912 L124.306 828.912 L124.306 802.547 L115.996 804.213 L115.996 799.954 L124.26 798.287 L128.936 798.287 L128.936 828.912 L136.575 828.912 L136.575 832.847 L116.668 832.847 L116.668 828.912 Z\" fill=\"#000000\" fill-rule=\"evenodd\" fill-opacity=\"1\" /><path clip-path=\"url(#clip470)\" d=\"M156.019 801.366 Q152.408 801.366 150.579 804.931 Q148.774 808.472 148.774 815.602 Q148.774 822.708 150.579 826.273 Q152.408 829.815 156.019 829.815 Q159.653 829.815 161.459 826.273 Q163.288 822.708 163.288 815.602 Q163.288 808.472 161.459 804.931 Q159.653 801.366 156.019 801.366 M156.019 797.662 Q161.829 797.662 164.885 802.269 Q167.964 806.852 167.964 815.602 Q167.964 824.329 164.885 828.935 Q161.829 833.519 156.019 833.519 Q150.209 833.519 147.13 828.935 Q144.075 824.329 144.075 815.602 Q144.075 806.852 147.13 802.269 Q150.209 797.662 156.019 797.662 Z\" fill=\"#000000\" fill-rule=\"evenodd\" fill-opacity=\"1\" /><path clip-path=\"url(#clip470)\" d=\"M186.181 801.366 Q182.57 801.366 180.741 804.931 Q178.936 808.472 178.936 815.602 Q178.936 822.708 180.741 826.273 Q182.57 829.815 186.181 829.815 Q189.815 829.815 191.621 826.273 Q193.45 822.708 193.45 815.602 Q193.45 808.472 191.621 804.931 Q189.815 801.366 186.181 801.366 M186.181 797.662 Q191.991 797.662 195.047 802.269 Q198.125 806.852 198.125 815.602 Q198.125 824.329 195.047 828.935 Q191.991 833.519 186.181 833.519 Q180.371 833.519 177.292 828.935 Q174.237 824.329 174.237 815.602 Q174.237 806.852 177.292 802.269 Q180.371 797.662 186.181 797.662 Z\" fill=\"#000000\" fill-rule=\"evenodd\" fill-opacity=\"1\" /><path clip-path=\"url(#clip470)\" d=\"M216.343 801.366 Q212.732 801.366 210.903 804.931 Q209.098 808.472 209.098 815.602 Q209.098 822.708 210.903 826.273 Q212.732 829.815 216.343 829.815 Q219.977 829.815 221.783 826.273 Q223.611 822.708 223.611 815.602 Q223.611 808.472 221.783 804.931 Q219.977 801.366 216.343 801.366 M216.343 797.662 Q222.153 797.662 225.209 802.269 Q228.287 806.852 228.287 815.602 Q228.287 824.329 225.209 828.935 Q222.153 833.519 216.343 833.519 Q210.533 833.519 207.454 828.935 Q204.399 824.329 204.399 815.602 Q204.399 806.852 207.454 802.269 Q210.533 797.662 216.343 797.662 Z\" fill=\"#000000\" fill-rule=\"evenodd\" fill-opacity=\"1\" /><path clip-path=\"url(#clip470)\" d=\"M116.668 543.498 L124.306 543.498 L124.306 517.132 L115.996 518.799 L115.996 514.54 L124.26 512.873 L128.936 512.873 L128.936 543.498 L136.575 543.498 L136.575 547.433 L116.668 547.433 L116.668 543.498 Z\" fill=\"#000000\" fill-rule=\"evenodd\" fill-opacity=\"1\" /><path clip-path=\"url(#clip470)\" d=\"M146.066 512.873 L164.422 512.873 L164.422 516.808 L150.348 516.808 L150.348 525.28 Q151.366 524.933 152.385 524.771 Q153.403 524.586 154.422 524.586 Q160.209 524.586 163.589 527.757 Q166.968 530.929 166.968 536.345 Q166.968 541.924 163.496 545.026 Q160.024 548.104 153.704 548.104 Q151.528 548.104 149.26 547.734 Q147.015 547.364 144.607 546.623 L144.607 541.924 Q146.691 543.058 148.913 543.614 Q151.135 544.169 153.612 544.169 Q157.616 544.169 159.954 542.063 Q162.292 539.956 162.292 536.345 Q162.292 532.734 159.954 530.628 Q157.616 528.521 153.612 528.521 Q151.737 528.521 149.862 528.938 Q148.01 529.354 146.066 530.234 L146.066 512.873 Z\" fill=\"#000000\" fill-rule=\"evenodd\" fill-opacity=\"1\" /><path clip-path=\"url(#clip470)\" d=\"M186.181 515.952 Q182.57 515.952 180.741 519.517 Q178.936 523.058 178.936 530.188 Q178.936 537.294 180.741 540.859 Q182.57 544.401 186.181 544.401 Q189.815 544.401 191.621 540.859 Q193.45 537.294 193.45 530.188 Q193.45 523.058 191.621 519.517 Q189.815 515.952 186.181 515.952 M186.181 512.248 Q191.991 512.248 195.047 516.855 Q198.125 521.438 198.125 530.188 Q198.125 538.915 195.047 543.521 Q191.991 548.104 186.181 548.104 Q180.371 548.104 177.292 543.521 Q174.237 538.915 174.237 530.188 Q174.237 521.438 177.292 516.855 Q180.371 512.248 186.181 512.248 Z\" fill=\"#000000\" fill-rule=\"evenodd\" fill-opacity=\"1\" /><path clip-path=\"url(#clip470)\" d=\"M216.343 515.952 Q212.732 515.952 210.903 519.517 Q209.098 523.058 209.098 530.188 Q209.098 537.294 210.903 540.859 Q212.732 544.401 216.343 544.401 Q219.977 544.401 221.783 540.859 Q223.611 537.294 223.611 530.188 Q223.611 523.058 221.783 519.517 Q219.977 515.952 216.343 515.952 M216.343 512.248 Q222.153 512.248 225.209 516.855 Q228.287 521.438 228.287 530.188 Q228.287 538.915 225.209 543.521 Q222.153 548.104 216.343 548.104 Q210.533 548.104 207.454 543.521 Q204.399 538.915 204.399 530.188 Q204.399 521.438 207.454 516.855 Q210.533 512.248 216.343 512.248 Z\" fill=\"#000000\" fill-rule=\"evenodd\" fill-opacity=\"1\" /><path clip-path=\"url(#clip470)\" d=\"M119.885 258.084 L136.204 258.084 L136.204 262.019 L114.26 262.019 L114.26 258.084 Q116.922 255.329 121.505 250.7 Q126.112 246.047 127.292 244.704 Q129.538 242.181 130.417 240.445 Q131.32 238.686 131.32 236.996 Q131.32 234.241 129.376 232.505 Q127.455 230.769 124.353 230.769 Q122.154 230.769 119.7 231.533 Q117.269 232.297 114.492 233.848 L114.492 229.126 Q117.316 227.991 119.769 227.413 Q122.223 226.834 124.26 226.834 Q129.63 226.834 132.825 229.519 Q136.019 232.204 136.019 236.695 Q136.019 238.825 135.209 240.746 Q134.422 242.644 132.316 245.237 Q131.737 245.908 128.635 249.125 Q125.533 252.32 119.885 258.084 Z\" fill=\"#000000\" fill-rule=\"evenodd\" fill-opacity=\"1\" /><path clip-path=\"url(#clip470)\" d=\"M156.019 230.538 Q152.408 230.538 150.579 234.102 Q148.774 237.644 148.774 244.774 Q148.774 251.88 150.579 255.445 Q152.408 258.987 156.019 258.987 Q159.653 258.987 161.459 255.445 Q163.288 251.88 163.288 244.774 Q163.288 237.644 161.459 234.102 Q159.653 230.538 156.019 230.538 M156.019 226.834 Q161.829 226.834 164.885 231.44 Q167.964 236.024 167.964 244.774 Q167.964 253.5 164.885 258.107 Q161.829 262.69 156.019 262.69 Q150.209 262.69 147.13 258.107 Q144.075 253.5 144.075 244.774 Q144.075 236.024 147.13 231.44 Q150.209 226.834 156.019 226.834 Z\" fill=\"#000000\" fill-rule=\"evenodd\" fill-opacity=\"1\" /><path clip-path=\"url(#clip470)\" d=\"M186.181 230.538 Q182.57 230.538 180.741 234.102 Q178.936 237.644 178.936 244.774 Q178.936 251.88 180.741 255.445 Q182.57 258.987 186.181 258.987 Q189.815 258.987 191.621 255.445 Q193.45 251.88 193.45 244.774 Q193.45 237.644 191.621 234.102 Q189.815 230.538 186.181 230.538 M186.181 226.834 Q191.991 226.834 195.047 231.44 Q198.125 236.024 198.125 244.774 Q198.125 253.5 195.047 258.107 Q191.991 262.69 186.181 262.69 Q180.371 262.69 177.292 258.107 Q174.237 253.5 174.237 244.774 Q174.237 236.024 177.292 231.44 Q180.371 226.834 186.181 226.834 Z\" fill=\"#000000\" fill-rule=\"evenodd\" fill-opacity=\"1\" /><path clip-path=\"url(#clip470)\" d=\"M216.343 230.538 Q212.732 230.538 210.903 234.102 Q209.098 237.644 209.098 244.774 Q209.098 251.88 210.903 255.445 Q212.732 258.987 216.343 258.987 Q219.977 258.987 221.783 255.445 Q223.611 251.88 223.611 244.774 Q223.611 237.644 221.783 234.102 Q219.977 230.538 216.343 230.538 M216.343 226.834 Q222.153 226.834 225.209 231.44 Q228.287 236.024 228.287 244.774 Q228.287 253.5 225.209 258.107 Q222.153 262.69 216.343 262.69 Q210.533 262.69 207.454 258.107 Q204.399 253.5 204.399 244.774 Q204.399 236.024 207.454 231.44 Q210.533 226.834 216.343 226.834 Z\" fill=\"#000000\" fill-rule=\"evenodd\" fill-opacity=\"1\" /><path clip-path=\"url(#clip470)\" d=\"M16.4842 937.529 L16.4842 910.221 L21.895 910.221 L21.895 931.1 L35.8996 931.1 L35.8996 912.258 L41.3104 912.258 L41.3104 931.1 L64.0042 931.1 L64.0042 937.529 L16.4842 937.529 Z\" fill=\"#000000\" fill-rule=\"evenodd\" fill-opacity=\"1\" /><path clip-path=\"url(#clip470)\" d=\"M33.8307 884.376 Q33.2578 885.362 33.0032 886.54 Q32.7167 887.686 32.7167 889.086 Q32.7167 894.052 35.9632 896.725 Q39.1779 899.367 45.2253 899.367 L64.0042 899.367 L64.0042 905.255 L28.3562 905.255 L28.3562 899.367 L33.8944 899.367 Q30.6479 897.521 29.0883 894.561 Q27.4968 891.601 27.4968 887.368 Q27.4968 886.763 27.5923 886.031 Q27.656 885.299 27.8151 884.408 L33.8307 884.376 Z\" fill=\"#000000\" fill-rule=\"evenodd\" fill-opacity=\"1\" /><path clip-path=\"url(#clip470)\" d=\"M44.7161 849.173 L47.5806 849.173 L47.5806 876.1 Q53.6281 875.718 56.8109 872.472 Q59.9619 869.194 59.9619 863.369 Q59.9619 859.995 59.1344 856.844 Q58.3069 853.661 56.6518 850.542 L62.1899 850.542 Q63.5267 853.693 64.227 857.003 Q64.9272 860.313 64.9272 863.719 Q64.9272 872.249 59.9619 877.246 Q54.9967 882.211 46.5303 882.211 Q37.7774 882.211 32.6531 877.501 Q27.4968 872.758 27.4968 864.738 Q27.4968 857.544 32.1438 853.375 Q36.7589 849.173 44.7161 849.173 M42.9973 855.03 Q38.1912 855.093 35.3266 857.735 Q32.4621 860.345 32.4621 864.674 Q32.4621 869.575 35.2312 872.536 Q38.0002 875.464 43.0292 875.909 L42.9973 855.03 Z\" fill=\"#000000\" fill-rule=\"evenodd\" fill-opacity=\"1\" /><path clip-path=\"url(#clip470)\" d=\"M46.212 836.06 Q52.6732 836.06 56.3653 833.418 Q60.0256 830.745 60.0256 826.098 Q60.0256 821.451 56.3653 818.777 Q52.6732 816.104 46.212 816.104 Q39.7508 816.104 36.0905 818.777 Q32.3984 821.451 32.3984 826.098 Q32.3984 830.745 36.0905 833.418 Q39.7508 836.06 46.212 836.06 M58.657 816.104 Q61.8398 817.95 63.3994 820.782 Q64.9272 823.583 64.9272 827.53 Q64.9272 833.991 59.771 838.065 Q54.6147 842.107 46.212 842.107 Q37.8093 842.107 32.6531 838.065 Q27.4968 833.991 27.4968 827.53 Q27.4968 823.583 29.0564 820.782 Q30.5842 817.95 33.7671 816.104 L28.3562 816.104 L28.3562 810.247 L77.5631 810.247 L77.5631 816.104 L58.657 816.104 Z\" fill=\"#000000\" fill-rule=\"evenodd\" fill-opacity=\"1\" /><path clip-path=\"url(#clip470)\" d=\"M49.9359 798.789 L28.3562 798.789 L28.3562 792.932 L49.7131 792.932 Q54.7739 792.932 57.3202 790.959 Q59.8346 788.986 59.8346 785.039 Q59.8346 780.296 56.8109 777.559 Q53.7872 774.79 48.5673 774.79 L28.3562 774.79 L28.3562 768.934 L64.0042 768.934 L64.0042 774.79 L58.5296 774.79 Q61.7762 776.923 63.3676 779.755 Q64.9272 782.556 64.9272 786.28 Q64.9272 792.423 61.1078 795.606 Q57.2883 798.789 49.9359 798.789 M27.4968 784.052 L27.4968 784.052 Z\" fill=\"#000000\" fill-rule=\"evenodd\" fill-opacity=\"1\" /><path clip-path=\"url(#clip470)\" d=\"M44.7161 726.379 L47.5806 726.379 L47.5806 753.306 Q53.6281 752.924 56.8109 749.677 Q59.9619 746.399 59.9619 740.574 Q59.9619 737.201 59.1344 734.05 Q58.3069 730.867 56.6518 727.748 L62.1899 727.748 Q63.5267 730.899 64.227 734.209 Q64.9272 737.519 64.9272 740.925 Q64.9272 749.455 59.9619 754.452 Q54.9967 759.417 46.5303 759.417 Q37.7774 759.417 32.6531 754.706 Q27.4968 749.964 27.4968 741.943 Q27.4968 734.75 32.1438 730.58 Q36.7589 726.379 44.7161 726.379 M42.9973 732.235 Q38.1912 732.299 35.3266 734.941 Q32.4621 737.551 32.4621 741.879 Q32.4621 746.781 35.2312 749.741 Q38.0002 752.669 43.0292 753.115 L42.9973 732.235 Z\" fill=\"#000000\" fill-rule=\"evenodd\" fill-opacity=\"1\" /><path clip-path=\"url(#clip470)\" d=\"M42.4881 687.134 L64.0042 687.134 L64.0042 692.991 L42.679 692.991 Q37.6183 692.991 35.1038 694.964 Q32.5894 696.938 32.5894 700.884 Q32.5894 705.627 35.6131 708.364 Q38.6368 711.101 43.8567 711.101 L64.0042 711.101 L64.0042 716.989 L28.3562 716.989 L28.3562 711.101 L33.8944 711.101 Q30.6797 709.001 29.0883 706.168 Q27.4968 703.303 27.4968 699.579 Q27.4968 693.436 31.3163 690.285 Q35.1038 687.134 42.4881 687.134 Z\" fill=\"#000000\" fill-rule=\"evenodd\" fill-opacity=\"1\" /><path clip-path=\"url(#clip470)\" d=\"M29.7248 649.799 L35.1993 649.799 Q33.8307 652.282 33.1623 654.797 Q32.4621 657.279 32.4621 659.825 Q32.4621 665.523 36.0905 668.674 Q39.6872 671.825 46.212 671.825 Q52.7369 671.825 56.3653 668.674 Q59.9619 665.523 59.9619 659.825 Q59.9619 657.279 59.2935 654.797 Q58.5933 652.282 57.2247 649.799 L62.6355 649.799 Q63.7814 652.25 64.3543 654.892 Q64.9272 657.502 64.9272 660.462 Q64.9272 668.515 59.8664 673.257 Q54.8057 678 46.212 678 Q37.491 678 32.4939 673.225 Q27.4968 668.419 27.4968 660.08 Q27.4968 657.375 28.0697 654.797 Q28.6108 652.218 29.7248 649.799 Z\" fill=\"#000000\" fill-rule=\"evenodd\" fill-opacity=\"1\" /><path clip-path=\"url(#clip470)\" d=\"M67.3143 624.782 Q73.68 627.265 75.6216 629.62 Q77.5631 631.975 77.5631 635.922 L77.5631 640.601 L72.6615 640.601 L72.6615 637.164 Q72.6615 634.745 71.5157 633.408 Q70.3699 632.071 66.1048 630.448 L63.4312 629.397 L28.3562 643.816 L28.3562 637.609 L56.238 626.469 L28.3562 615.329 L28.3562 609.123 L67.3143 624.782 Z\" fill=\"#000000\" fill-rule=\"evenodd\" fill-opacity=\"1\" /><path clip-path=\"url(#clip470)\" d=\"M859.499 12.096 L907.016 12.096 L907.016 18.3344 L868.776 65.6895 L907.948 65.6895 L907.948 72.576 L858.567 72.576 L858.567 66.3376 L896.808 18.9825 L859.499 18.9825 L859.499 12.096 Z\" fill=\"#000000\" fill-rule=\"evenodd\" fill-opacity=\"1\" /><path clip-path=\"url(#clip470)\" d=\"M937.074 32.4315 Q931.079 32.4315 927.595 37.1306 Q924.111 41.7891 924.111 49.9314 Q924.111 58.0738 927.554 62.7728 Q931.038 67.4314 937.074 67.4314 Q943.029 67.4314 946.513 62.7323 Q949.996 58.0333 949.996 49.9314 Q949.996 41.8701 946.513 37.1711 Q943.029 32.4315 937.074 32.4315 M937.074 26.1121 Q946.796 26.1121 952.346 32.4315 Q957.896 38.7509 957.896 49.9314 Q957.896 61.0714 952.346 67.4314 Q946.796 73.7508 937.074 73.7508 Q927.311 73.7508 921.762 67.4314 Q916.252 61.0714 916.252 49.9314 Q916.252 38.7509 921.762 32.4315 Q927.311 26.1121 937.074 26.1121 Z\" fill=\"#000000\" fill-rule=\"evenodd\" fill-opacity=\"1\" /><path clip-path=\"url(#clip470)\" d=\"M1005.57 35.9153 Q1008.37 30.8922 1012.26 28.5022 Q1016.15 26.1121 1021.41 26.1121 Q1028.5 26.1121 1032.35 31.0947 Q1036.2 36.0368 1036.2 45.1919 L1036.2 72.576 L1028.71 72.576 L1028.71 45.4349 Q1028.71 38.913 1026.4 35.7533 Q1024.09 32.5936 1019.35 32.5936 Q1013.56 32.5936 1010.19 36.4419 Q1006.83 40.2903 1006.83 46.9338 L1006.83 72.576 L999.336 72.576 L999.336 45.4349 Q999.336 38.8725 997.027 35.7533 Q994.718 32.5936 989.898 32.5936 Q984.186 32.5936 980.824 36.4824 Q977.461 40.3308 977.461 46.9338 L977.461 72.576 L969.967 72.576 L969.967 27.2059 L977.461 27.2059 L977.461 34.2544 Q980.014 30.082 983.578 28.0971 Q987.143 26.1121 992.045 26.1121 Q996.987 26.1121 1000.43 28.6237 Q1003.91 31.1352 1005.57 35.9153 Z\" fill=\"#000000\" fill-rule=\"evenodd\" fill-opacity=\"1\" /><path clip-path=\"url(#clip470)\" d=\"M1071.69 49.7694 Q1062.65 49.7694 1059.17 51.8354 Q1055.68 53.9013 1055.68 58.8839 Q1055.68 62.8538 1058.28 65.2034 Q1060.91 67.5124 1065.41 67.5124 Q1071.6 67.5124 1075.33 63.1374 Q1079.1 58.7219 1079.1 51.4303 L1079.1 49.7694 L1071.69 49.7694 M1086.55 46.6907 L1086.55 72.576 L1079.1 72.576 L1079.1 65.6895 Q1076.55 69.8214 1072.74 71.8063 Q1068.93 73.7508 1063.42 73.7508 Q1056.45 73.7508 1052.32 69.8619 Q1048.23 65.9325 1048.23 59.3701 Q1048.23 51.7138 1053.33 47.825 Q1058.48 43.9361 1068.65 43.9361 L1079.1 43.9361 L1079.1 43.2069 Q1079.1 38.0623 1075.7 35.2672 Q1072.33 32.4315 1066.22 32.4315 Q1062.33 32.4315 1058.64 33.3632 Q1054.96 34.295 1051.55 36.1584 L1051.55 29.2718 Q1055.64 27.692 1059.49 26.9223 Q1063.34 26.1121 1066.99 26.1121 Q1076.83 26.1121 1081.69 31.2163 Q1086.55 36.3204 1086.55 46.6907 Z\" fill=\"#000000\" fill-rule=\"evenodd\" fill-opacity=\"1\" /><path clip-path=\"url(#clip470)\" d=\"M1109.28 14.324 L1109.28 27.2059 L1124.63 27.2059 L1124.63 32.9987 L1109.28 32.9987 L1109.28 57.6282 Q1109.28 63.1779 1110.78 64.7578 Q1112.32 66.3376 1116.97 66.3376 L1124.63 66.3376 L1124.63 72.576 L1116.97 72.576 Q1108.35 72.576 1105.06 69.3758 Q1101.78 66.1351 1101.78 57.6282 L1101.78 32.9987 L1096.31 32.9987 L1096.31 27.2059 L1101.78 27.2059 L1101.78 14.324 L1109.28 14.324 Z\" fill=\"#000000\" fill-rule=\"evenodd\" fill-opacity=\"1\" /><path clip-path=\"url(#clip470)\" d=\"M1152.01 32.4315 Q1146.02 32.4315 1142.54 37.1306 Q1139.05 41.7891 1139.05 49.9314 Q1139.05 58.0738 1142.5 62.7728 Q1145.98 67.4314 1152.01 67.4314 Q1157.97 67.4314 1161.45 62.7323 Q1164.94 58.0333 1164.94 49.9314 Q1164.94 41.8701 1161.45 37.1711 Q1157.97 32.4315 1152.01 32.4315 M1152.01 26.1121 Q1161.74 26.1121 1167.29 32.4315 Q1172.84 38.7509 1172.84 49.9314 Q1172.84 61.0714 1167.29 67.4314 Q1161.74 73.7508 1152.01 73.7508 Q1142.25 73.7508 1136.7 67.4314 Q1131.19 61.0714 1131.19 49.9314 Q1131.19 38.7509 1136.7 32.4315 Q1142.25 26.1121 1152.01 26.1121 Z\" fill=\"#000000\" fill-rule=\"evenodd\" fill-opacity=\"1\" /><path clip-path=\"url(#clip470)\" d=\"M1187.1 62.2867 L1195.64 62.2867 L1195.64 72.576 L1187.1 72.576 L1187.1 62.2867 M1187.1 29.6769 L1195.64 29.6769 L1195.64 39.9662 L1187.1 39.9662 L1187.1 29.6769 Z\" fill=\"#000000\" fill-rule=\"evenodd\" fill-opacity=\"1\" /><path clip-path=\"url(#clip470)\" d=\"M1231.45 12.096 L1282.62 12.096 L1282.62 18.9825 L1261.15 18.9825 L1261.15 72.576 L1252.92 72.576 L1252.92 18.9825 L1231.45 18.9825 L1231.45 12.096 Z\" fill=\"#000000\" fill-rule=\"evenodd\" fill-opacity=\"1\" /><path clip-path=\"url(#clip470)\" d=\"M1293.68 32.4315 Q1287.68 32.4315 1284.2 37.1306 Q1280.71 41.7891 1280.71 49.9314 Q1280.71 58.0738 1284.16 62.7728 Q1287.64 67.4314 1293.68 67.4314 Q1299.63 67.4314 1303.11 62.7323 Q1306.6 58.0333 1306.6 49.9314 Q1306.6 41.8701 1303.11 37.1711 Q1299.63 32.4315 1293.68 32.4315 M1293.68 26.1121 Q1303.4 26.1121 1308.95 32.4315 Q1314.5 38.7509 1314.5 49.9314 Q1314.5 61.0714 1308.95 67.4314 Q1303.4 73.7508 1293.68 73.7508 Q1283.91 73.7508 1278.36 67.4314 Q1272.85 61.0714 1272.85 49.9314 Q1272.85 38.7509 1278.36 32.4315 Q1283.91 26.1121 1293.68 26.1121 Z\" fill=\"#000000\" fill-rule=\"evenodd\" fill-opacity=\"1\" /><path clip-path=\"url(#clip470)\" d=\"M1334.22 14.324 L1334.22 27.2059 L1349.58 27.2059 L1349.58 32.9987 L1334.22 32.9987 L1334.22 57.6282 Q1334.22 63.1779 1335.72 64.7578 Q1337.26 66.3376 1341.92 66.3376 L1349.58 66.3376 L1349.58 72.576 L1341.92 72.576 Q1333.29 72.576 1330.01 69.3758 Q1326.73 66.1351 1326.73 57.6282 L1326.73 32.9987 L1321.26 32.9987 L1321.26 27.2059 L1326.73 27.2059 L1326.73 14.324 L1334.22 14.324 Z\" fill=\"#000000\" fill-rule=\"evenodd\" fill-opacity=\"1\" /><path clip-path=\"url(#clip470)\" d=\"M1380 49.7694 Q1370.97 49.7694 1367.48 51.8354 Q1364 53.9013 1364 58.8839 Q1364 62.8538 1366.59 65.2034 Q1369.22 67.5124 1373.72 67.5124 Q1379.92 67.5124 1383.65 63.1374 Q1387.41 58.7219 1387.41 51.4303 L1387.41 49.7694 L1380 49.7694 M1394.87 46.6907 L1394.87 72.576 L1387.41 72.576 L1387.41 65.6895 Q1384.86 69.8214 1381.05 71.8063 Q1377.25 73.7508 1371.74 73.7508 Q1364.77 73.7508 1360.64 69.8619 Q1356.55 65.9325 1356.55 59.3701 Q1356.55 51.7138 1361.65 47.825 Q1366.79 43.9361 1376.96 43.9361 L1387.41 43.9361 L1387.41 43.2069 Q1387.41 38.0623 1384.01 35.2672 Q1380.65 32.4315 1374.53 32.4315 Q1370.64 32.4315 1366.96 33.3632 Q1363.27 34.295 1359.87 36.1584 L1359.87 29.2718 Q1363.96 27.692 1367.81 26.9223 Q1371.65 26.1121 1375.3 26.1121 Q1385.14 26.1121 1390.01 31.2163 Q1394.87 36.3204 1394.87 46.6907 Z\" fill=\"#000000\" fill-rule=\"evenodd\" fill-opacity=\"1\" /><path clip-path=\"url(#clip470)\" d=\"M1410.22 9.54393 L1417.67 9.54393 L1417.67 72.576 L1410.22 72.576 L1410.22 9.54393 Z\" fill=\"#000000\" fill-rule=\"evenodd\" fill-opacity=\"1\" /><path clip-path=\"url(#clip470)\" d=\"M1488.65 44.2197 Q1491.28 45.1109 1493.75 48.0275 Q1496.26 50.9442 1498.77 56.0483 L1507.08 72.576 L1498.29 72.576 L1490.55 57.061 Q1487.55 50.9847 1484.72 48.9997 Q1481.92 47.0148 1477.06 47.0148 L1468.15 47.0148 L1468.15 72.576 L1459.96 72.576 L1459.96 12.096 L1478.44 12.096 Q1488.81 12.096 1493.91 16.4305 Q1499.02 20.7649 1499.02 29.5149 Q1499.02 35.2267 1496.34 38.994 Q1493.71 42.7613 1488.65 44.2197 M1468.15 18.8205 L1468.15 40.2903 L1478.44 40.2903 Q1484.35 40.2903 1487.35 37.5762 Q1490.39 34.8216 1490.39 29.5149 Q1490.39 24.2082 1487.35 21.5346 Q1484.35 18.8205 1478.44 18.8205 L1468.15 18.8205 Z\" fill=\"#000000\" fill-rule=\"evenodd\" fill-opacity=\"1\" /><path clip-path=\"url(#clip470)\" d=\"M1536.08 49.7694 Q1527.05 49.7694 1523.56 51.8354 Q1520.08 53.9013 1520.08 58.8839 Q1520.08 62.8538 1522.67 65.2034 Q1525.31 67.5124 1529.8 67.5124 Q1536 67.5124 1539.73 63.1374 Q1543.49 58.7219 1543.49 51.4303 L1543.49 49.7694 L1536.08 49.7694 M1550.95 46.6907 L1550.95 72.576 L1543.49 72.576 L1543.49 65.6895 Q1540.94 69.8214 1537.13 71.8063 Q1533.33 73.7508 1527.82 73.7508 Q1520.85 73.7508 1516.72 69.8619 Q1512.63 65.9325 1512.63 59.3701 Q1512.63 51.7138 1517.73 47.825 Q1522.88 43.9361 1533.04 43.9361 L1543.49 43.9361 L1543.49 43.2069 Q1543.49 38.0623 1540.09 35.2672 Q1536.73 32.4315 1530.61 32.4315 Q1526.72 32.4315 1523.04 33.3632 Q1519.35 34.295 1515.95 36.1584 L1515.95 29.2718 Q1520.04 27.692 1523.89 26.9223 Q1527.74 26.1121 1531.38 26.1121 Q1541.23 26.1121 1546.09 31.2163 Q1550.95 36.3204 1550.95 46.6907 Z\" fill=\"#000000\" fill-rule=\"evenodd\" fill-opacity=\"1\" /><path clip-path=\"url(#clip470)\" d=\"M1573.67 14.324 L1573.67 27.2059 L1589.03 27.2059 L1589.03 32.9987 L1573.67 32.9987 L1573.67 57.6282 Q1573.67 63.1779 1575.17 64.7578 Q1576.71 66.3376 1581.37 66.3376 L1589.03 66.3376 L1589.03 72.576 L1581.37 72.576 Q1572.74 72.576 1569.46 69.3758 Q1566.18 66.1351 1566.18 57.6282 L1566.18 32.9987 L1560.71 32.9987 L1560.71 27.2059 L1566.18 27.2059 L1566.18 14.324 L1573.67 14.324 Z\" fill=\"#000000\" fill-rule=\"evenodd\" fill-opacity=\"1\" /><path clip-path=\"url(#clip470)\" d=\"M1598.83 27.2059 L1606.28 27.2059 L1606.28 72.576 L1598.83 72.576 L1598.83 27.2059 M1598.83 9.54393 L1606.28 9.54393 L1606.28 18.9825 L1598.83 18.9825 L1598.83 9.54393 Z\" fill=\"#000000\" fill-rule=\"evenodd\" fill-opacity=\"1\" /><path clip-path=\"url(#clip470)\" d=\"M1659.59 45.1919 L1659.59 72.576 L1652.14 72.576 L1652.14 45.4349 Q1652.14 38.994 1649.63 35.7938 Q1647.12 32.5936 1642.09 32.5936 Q1636.06 32.5936 1632.57 36.4419 Q1629.09 40.2903 1629.09 46.9338 L1629.09 72.576 L1621.6 72.576 L1621.6 27.2059 L1629.09 27.2059 L1629.09 34.2544 Q1631.76 30.163 1635.37 28.1376 Q1639.01 26.1121 1643.75 26.1121 Q1651.57 26.1121 1655.58 30.9732 Q1659.59 35.7938 1659.59 45.1919 Z\" fill=\"#000000\" fill-rule=\"evenodd\" fill-opacity=\"1\" /><path clip-path=\"url(#clip470)\" d=\"M1704.32 49.3643 Q1704.32 41.2625 1700.95 36.8065 Q1697.63 32.3505 1691.6 32.3505 Q1685.6 32.3505 1682.24 36.8065 Q1678.92 41.2625 1678.92 49.3643 Q1678.92 57.4256 1682.24 61.8816 Q1685.6 66.3376 1691.6 66.3376 Q1697.63 66.3376 1700.95 61.8816 Q1704.32 57.4256 1704.32 49.3643 M1711.77 66.9452 Q1711.77 78.5308 1706.62 84.1616 Q1701.48 89.8329 1690.87 89.8329 Q1686.94 89.8329 1683.45 89.2252 Q1679.97 88.6581 1676.69 87.4428 L1676.69 80.1917 Q1679.97 81.9741 1683.17 82.8248 Q1686.37 83.6755 1689.69 83.6755 Q1697.02 83.6755 1700.67 79.8271 Q1704.32 76.0193 1704.32 68.282 L1704.32 64.5957 Q1702.01 68.6061 1698.4 70.5911 Q1694.8 72.576 1689.77 72.576 Q1681.43 72.576 1676.32 66.2161 Q1671.22 59.8562 1671.22 49.3643 Q1671.22 38.832 1676.32 32.472 Q1681.43 26.1121 1689.77 26.1121 Q1694.8 26.1121 1698.4 28.0971 Q1702.01 30.082 1704.32 34.0924 L1704.32 27.2059 L1711.77 27.2059 L1711.77 66.9452 Z\" fill=\"#000000\" fill-rule=\"evenodd\" fill-opacity=\"1\" /><path clip-path=\"url(#clip470)\" d=\"M1756.05 28.5427 L1756.05 35.5912 Q1752.89 33.9709 1749.48 33.1607 Q1746.08 32.3505 1742.43 32.3505 Q1736.88 32.3505 1734.09 34.0519 Q1731.33 35.7533 1731.33 39.156 Q1731.33 41.7486 1733.32 43.2475 Q1735.3 44.7058 1741.3 46.0426 L1743.85 46.6097 Q1751.79 48.3111 1755.11 51.4303 Q1758.48 54.509 1758.48 60.0587 Q1758.48 66.3781 1753.45 70.0644 Q1748.47 73.7508 1739.72 73.7508 Q1736.07 73.7508 1732.1 73.0216 Q1728.18 72.3329 1723.8 70.9151 L1723.8 63.2184 Q1727.93 65.3654 1731.94 66.4591 Q1735.95 67.5124 1739.88 67.5124 Q1745.15 67.5124 1747.98 65.73 Q1750.82 63.9071 1750.82 60.6258 Q1750.82 57.5877 1748.75 55.9673 Q1746.73 54.3469 1739.8 52.8481 L1737.21 52.2405 Q1730.28 50.7821 1727.2 47.7845 Q1724.12 44.7463 1724.12 39.4801 Q1724.12 33.0797 1728.66 29.5959 Q1733.2 26.1121 1741.54 26.1121 Q1745.67 26.1121 1749.32 26.7198 Q1752.97 27.3274 1756.05 28.5427 Z\" fill=\"#000000\" fill-rule=\"evenodd\" fill-opacity=\"1\" /><path clip-path=\"url(#clip472)\" d=\"\nM379.157 160.256 L379.157 1386.4 L453.506 1386.4 L453.506 160.256 L379.157 160.256 L379.157 160.256  Z\n  \" fill=\"#009af9\" fill-rule=\"evenodd\" fill-opacity=\"1\"/>\n<polyline clip-path=\"url(#clip472)\" style=\"stroke:#000000; stroke-linecap:round; stroke-linejoin:round; stroke-width:4; stroke-opacity:1; fill:none\" points=\"\n  379.157,160.256 379.157,1386.4 453.506,1386.4 453.506,160.256 379.157,160.256 \n  \"/>\n<path clip-path=\"url(#clip472)\" d=\"\nM453.506 1386.4 L453.506 1386.4 L527.855 1386.4 L527.855 1386.4 L453.506 1386.4 L453.506 1386.4  Z\n  \" fill=\"#009af9\" fill-rule=\"evenodd\" fill-opacity=\"1\"/>\n<polyline clip-path=\"url(#clip472)\" style=\"stroke:#000000; stroke-linecap:round; stroke-linejoin:round; stroke-width:4; stroke-opacity:1; fill:none\" points=\"\n  453.506,1386.4 453.506,1386.4 527.855,1386.4 453.506,1386.4 \n  \"/>\n<path clip-path=\"url(#clip472)\" d=\"\nM527.855 1386.4 L527.855 1386.4 L602.204 1386.4 L602.204 1386.4 L527.855 1386.4 L527.855 1386.4  Z\n  \" fill=\"#009af9\" fill-rule=\"evenodd\" fill-opacity=\"1\"/>\n<polyline clip-path=\"url(#clip472)\" style=\"stroke:#000000; stroke-linecap:round; stroke-linejoin:round; stroke-width:4; stroke-opacity:1; fill:none\" points=\"\n  527.855,1386.4 527.855,1386.4 602.204,1386.4 527.855,1386.4 \n  \"/>\n<path clip-path=\"url(#clip472)\" d=\"\nM602.204 1386.4 L602.204 1386.4 L676.554 1386.4 L676.554 1386.4 L602.204 1386.4 L602.204 1386.4  Z\n  \" fill=\"#009af9\" fill-rule=\"evenodd\" fill-opacity=\"1\"/>\n<polyline clip-path=\"url(#clip472)\" style=\"stroke:#000000; stroke-linecap:round; stroke-linejoin:round; stroke-width:4; stroke-opacity:1; fill:none\" points=\"\n  602.204,1386.4 602.204,1386.4 676.554,1386.4 602.204,1386.4 \n  \"/>\n<path clip-path=\"url(#clip472)\" d=\"\nM676.554 1386.4 L676.554 1386.4 L750.903 1386.4 L750.903 1386.4 L676.554 1386.4 L676.554 1386.4  Z\n  \" fill=\"#009af9\" fill-rule=\"evenodd\" fill-opacity=\"1\"/>\n<polyline clip-path=\"url(#clip472)\" style=\"stroke:#000000; stroke-linecap:round; stroke-linejoin:round; stroke-width:4; stroke-opacity:1; fill:none\" points=\"\n  676.554,1386.4 676.554,1386.4 750.903,1386.4 676.554,1386.4 \n  \"/>\n<path clip-path=\"url(#clip472)\" d=\"\nM750.903 1386.4 L750.903 1386.4 L825.252 1386.4 L825.252 1386.4 L750.903 1386.4 L750.903 1386.4  Z\n  \" fill=\"#009af9\" fill-rule=\"evenodd\" fill-opacity=\"1\"/>\n<polyline clip-path=\"url(#clip472)\" style=\"stroke:#000000; stroke-linecap:round; stroke-linejoin:round; stroke-width:4; stroke-opacity:1; fill:none\" points=\"\n  750.903,1386.4 750.903,1386.4 825.252,1386.4 750.903,1386.4 \n  \"/>\n<path clip-path=\"url(#clip472)\" d=\"\nM825.252 1386.4 L825.252 1386.4 L899.601 1386.4 L899.601 1386.4 L825.252 1386.4 L825.252 1386.4  Z\n  \" fill=\"#009af9\" fill-rule=\"evenodd\" fill-opacity=\"1\"/>\n<polyline clip-path=\"url(#clip472)\" style=\"stroke:#000000; stroke-linecap:round; stroke-linejoin:round; stroke-width:4; stroke-opacity:1; fill:none\" points=\"\n  825.252,1386.4 825.252,1386.4 899.601,1386.4 825.252,1386.4 \n  \"/>\n<path clip-path=\"url(#clip472)\" d=\"\nM899.601 1386.4 L899.601 1386.4 L973.95 1386.4 L973.95 1386.4 L899.601 1386.4 L899.601 1386.4  Z\n  \" fill=\"#009af9\" fill-rule=\"evenodd\" fill-opacity=\"1\"/>\n<polyline clip-path=\"url(#clip472)\" style=\"stroke:#000000; stroke-linecap:round; stroke-linejoin:round; stroke-width:4; stroke-opacity:1; fill:none\" points=\"\n  899.601,1386.4 899.601,1386.4 973.95,1386.4 899.601,1386.4 \n  \"/>\n<path clip-path=\"url(#clip472)\" d=\"\nM973.95 1386.4 L973.95 1386.4 L1048.3 1386.4 L1048.3 1386.4 L973.95 1386.4 L973.95 1386.4  Z\n  \" fill=\"#009af9\" fill-rule=\"evenodd\" fill-opacity=\"1\"/>\n<polyline clip-path=\"url(#clip472)\" style=\"stroke:#000000; stroke-linecap:round; stroke-linejoin:round; stroke-width:4; stroke-opacity:1; fill:none\" points=\"\n  973.95,1386.4 973.95,1386.4 1048.3,1386.4 973.95,1386.4 \n  \"/>\n<path clip-path=\"url(#clip472)\" d=\"\nM1048.3 1384.68 L1048.3 1386.4 L1122.65 1386.4 L1122.65 1384.68 L1048.3 1384.68 L1048.3 1384.68  Z\n  \" fill=\"#009af9\" fill-rule=\"evenodd\" fill-opacity=\"1\"/>\n<polyline clip-path=\"url(#clip472)\" style=\"stroke:#000000; stroke-linecap:round; stroke-linejoin:round; stroke-width:4; stroke-opacity:1; fill:none\" points=\"\n  1048.3,1384.68 1048.3,1386.4 1122.65,1386.4 1122.65,1384.68 1048.3,1384.68 \n  \"/>\n<path clip-path=\"url(#clip472)\" d=\"\nM1122.65 1373.84 L1122.65 1386.4 L1197 1386.4 L1197 1373.84 L1122.65 1373.84 L1122.65 1373.84  Z\n  \" fill=\"#009af9\" fill-rule=\"evenodd\" fill-opacity=\"1\"/>\n<polyline clip-path=\"url(#clip472)\" style=\"stroke:#000000; stroke-linecap:round; stroke-linejoin:round; stroke-width:4; stroke-opacity:1; fill:none\" points=\"\n  1122.65,1373.84 1122.65,1386.4 1197,1386.4 1197,1373.84 1122.65,1373.84 \n  \"/>\n<path clip-path=\"url(#clip472)\" d=\"\nM1197 1294.49 L1197 1386.4 L1271.35 1386.4 L1271.35 1294.49 L1197 1294.49 L1197 1294.49  Z\n  \" fill=\"#009af9\" fill-rule=\"evenodd\" fill-opacity=\"1\"/>\n<polyline clip-path=\"url(#clip472)\" style=\"stroke:#000000; stroke-linecap:round; stroke-linejoin:round; stroke-width:4; stroke-opacity:1; fill:none\" points=\"\n  1197,1294.49 1197,1386.4 1271.35,1386.4 1271.35,1294.49 1197,1294.49 \n  \"/>\n<path clip-path=\"url(#clip472)\" d=\"\nM1271.35 1323.6 L1271.35 1386.4 L1345.7 1386.4 L1345.7 1323.6 L1271.35 1323.6 L1271.35 1323.6  Z\n  \" fill=\"#009af9\" fill-rule=\"evenodd\" fill-opacity=\"1\"/>\n<polyline clip-path=\"url(#clip472)\" style=\"stroke:#000000; stroke-linecap:round; stroke-linejoin:round; stroke-width:4; stroke-opacity:1; fill:none\" points=\"\n  1271.35,1323.6 1271.35,1386.4 1345.7,1386.4 1345.7,1323.6 1271.35,1323.6 \n  \"/>\n<path clip-path=\"url(#clip472)\" d=\"\nM1345.7 954.849 L1345.7 1386.4 L1420.05 1386.4 L1420.05 954.849 L1345.7 954.849 L1345.7 954.849  Z\n  \" fill=\"#009af9\" fill-rule=\"evenodd\" fill-opacity=\"1\"/>\n<polyline clip-path=\"url(#clip472)\" style=\"stroke:#000000; stroke-linecap:round; stroke-linejoin:round; stroke-width:4; stroke-opacity:1; fill:none\" points=\"\n  1345.7,954.849 1345.7,1386.4 1420.05,1386.4 1420.05,954.849 1345.7,954.849 \n  \"/>\n<path clip-path=\"url(#clip472)\" d=\"\nM1420.05 1168.91 L1420.05 1386.4 L1494.39 1386.4 L1494.39 1168.91 L1420.05 1168.91 L1420.05 1168.91  Z\n  \" fill=\"#009af9\" fill-rule=\"evenodd\" fill-opacity=\"1\"/>\n<polyline clip-path=\"url(#clip472)\" style=\"stroke:#000000; stroke-linecap:round; stroke-linejoin:round; stroke-width:4; stroke-opacity:1; fill:none\" points=\"\n  1420.05,1168.91 1420.05,1386.4 1494.39,1386.4 1494.39,1168.91 1420.05,1168.91 \n  \"/>\n<path clip-path=\"url(#clip472)\" d=\"\nM1494.39 822.988 L1494.39 1386.4 L1568.74 1386.4 L1568.74 822.988 L1494.39 822.988 L1494.39 822.988  Z\n  \" fill=\"#009af9\" fill-rule=\"evenodd\" fill-opacity=\"1\"/>\n<polyline clip-path=\"url(#clip472)\" style=\"stroke:#000000; stroke-linecap:round; stroke-linejoin:round; stroke-width:4; stroke-opacity:1; fill:none\" points=\"\n  1494.39,822.988 1494.39,1386.4 1568.74,1386.4 1568.74,822.988 1494.39,822.988 \n  \"/>\n<path clip-path=\"url(#clip472)\" d=\"\nM1568.74 528.441 L1568.74 1386.4 L1643.09 1386.4 L1643.09 528.441 L1568.74 528.441 L1568.74 528.441  Z\n  \" fill=\"#009af9\" fill-rule=\"evenodd\" fill-opacity=\"1\"/>\n<polyline clip-path=\"url(#clip472)\" style=\"stroke:#000000; stroke-linecap:round; stroke-linejoin:round; stroke-width:4; stroke-opacity:1; fill:none\" points=\"\n  1568.74,528.441 1568.74,1386.4 1643.09,1386.4 1643.09,528.441 1568.74,528.441 \n  \"/>\n<path clip-path=\"url(#clip472)\" d=\"\nM1643.09 1112.4 L1643.09 1386.4 L1717.44 1386.4 L1717.44 1112.4 L1643.09 1112.4 L1643.09 1112.4  Z\n  \" fill=\"#009af9\" fill-rule=\"evenodd\" fill-opacity=\"1\"/>\n<polyline clip-path=\"url(#clip472)\" style=\"stroke:#000000; stroke-linecap:round; stroke-linejoin:round; stroke-width:4; stroke-opacity:1; fill:none\" points=\"\n  1643.09,1112.4 1643.09,1386.4 1717.44,1386.4 1717.44,1112.4 1643.09,1112.4 \n  \"/>\n<path clip-path=\"url(#clip472)\" d=\"\nM1717.44 652.881 L1717.44 1386.4 L1791.79 1386.4 L1791.79 652.881 L1717.44 652.881 L1717.44 652.881  Z\n  \" fill=\"#009af9\" fill-rule=\"evenodd\" fill-opacity=\"1\"/>\n<polyline clip-path=\"url(#clip472)\" style=\"stroke:#000000; stroke-linecap:round; stroke-linejoin:round; stroke-width:4; stroke-opacity:1; fill:none\" points=\"\n  1717.44,652.881 1717.44,1386.4 1791.79,1386.4 1791.79,652.881 1717.44,652.881 \n  \"/>\n<path clip-path=\"url(#clip472)\" d=\"\nM1791.79 1195.17 L1791.79 1386.4 L1866.14 1386.4 L1866.14 1195.17 L1791.79 1195.17 L1791.79 1195.17  Z\n  \" fill=\"#009af9\" fill-rule=\"evenodd\" fill-opacity=\"1\"/>\n<polyline clip-path=\"url(#clip472)\" style=\"stroke:#000000; stroke-linecap:round; stroke-linejoin:round; stroke-width:4; stroke-opacity:1; fill:none\" points=\"\n  1791.79,1195.17 1791.79,1386.4 1866.14,1386.4 1866.14,1195.17 1791.79,1195.17 \n  \"/>\n<path clip-path=\"url(#clip472)\" d=\"\nM1866.14 1078.15 L1866.14 1386.4 L1940.49 1386.4 L1940.49 1078.15 L1866.14 1078.15 L1866.14 1078.15  Z\n  \" fill=\"#009af9\" fill-rule=\"evenodd\" fill-opacity=\"1\"/>\n<polyline clip-path=\"url(#clip472)\" style=\"stroke:#000000; stroke-linecap:round; stroke-linejoin:round; stroke-width:4; stroke-opacity:1; fill:none\" points=\"\n  1866.14,1078.15 1866.14,1386.4 1940.49,1386.4 1940.49,1078.15 1866.14,1078.15 \n  \"/>\n<path clip-path=\"url(#clip472)\" d=\"\nM1940.49 1160.92 L1940.49 1386.4 L2014.84 1386.4 L2014.84 1160.92 L1940.49 1160.92 L1940.49 1160.92  Z\n  \" fill=\"#009af9\" fill-rule=\"evenodd\" fill-opacity=\"1\"/>\n<polyline clip-path=\"url(#clip472)\" style=\"stroke:#000000; stroke-linecap:round; stroke-linejoin:round; stroke-width:4; stroke-opacity:1; fill:none\" points=\"\n  1940.49,1160.92 1940.49,1386.4 2014.84,1386.4 2014.84,1160.92 1940.49,1160.92 \n  \"/>\n<path clip-path=\"url(#clip472)\" d=\"\nM2014.84 1205.44 L2014.84 1386.4 L2089.19 1386.4 L2089.19 1205.44 L2014.84 1205.44 L2014.84 1205.44  Z\n  \" fill=\"#009af9\" fill-rule=\"evenodd\" fill-opacity=\"1\"/>\n<polyline clip-path=\"url(#clip472)\" style=\"stroke:#000000; stroke-linecap:round; stroke-linejoin:round; stroke-width:4; stroke-opacity:1; fill:none\" points=\"\n  2014.84,1205.44 2014.84,1386.4 2089.19,1386.4 2089.19,1205.44 2014.84,1205.44 \n  \"/>\n<path clip-path=\"url(#clip472)\" d=\"\nM2089.19 1348.15 L2089.19 1386.4 L2163.54 1386.4 L2163.54 1348.15 L2089.19 1348.15 L2089.19 1348.15  Z\n  \" fill=\"#009af9\" fill-rule=\"evenodd\" fill-opacity=\"1\"/>\n<polyline clip-path=\"url(#clip472)\" style=\"stroke:#000000; stroke-linecap:round; stroke-linejoin:round; stroke-width:4; stroke-opacity:1; fill:none\" points=\"\n  2089.19,1348.15 2089.19,1386.4 2163.54,1386.4 2163.54,1348.15 2089.19,1348.15 \n  \"/>\n<path clip-path=\"url(#clip472)\" d=\"\nM2163.54 1351.58 L2163.54 1386.4 L2237.89 1386.4 L2237.89 1351.58 L2163.54 1351.58 L2163.54 1351.58  Z\n  \" fill=\"#009af9\" fill-rule=\"evenodd\" fill-opacity=\"1\"/>\n<polyline clip-path=\"url(#clip472)\" style=\"stroke:#000000; stroke-linecap:round; stroke-linejoin:round; stroke-width:4; stroke-opacity:1; fill:none\" points=\"\n  2163.54,1351.58 2163.54,1386.4 2237.89,1386.4 2237.89,1351.58 2163.54,1351.58 \n  \"/>\n<circle clip-path=\"url(#clip472)\" style=\"fill:#009af9; stroke:none; fill-opacity:0\" cx=\"416.331\" cy=\"160.256\" r=\"2\"/>\n<circle clip-path=\"url(#clip472)\" style=\"fill:#009af9; stroke:none; fill-opacity:0\" cx=\"490.681\" cy=\"1386.4\" r=\"2\"/>\n<circle clip-path=\"url(#clip472)\" style=\"fill:#009af9; stroke:none; fill-opacity:0\" cx=\"565.03\" cy=\"1386.4\" r=\"2\"/>\n<circle clip-path=\"url(#clip472)\" style=\"fill:#009af9; stroke:none; fill-opacity:0\" cx=\"639.379\" cy=\"1386.4\" r=\"2\"/>\n<circle clip-path=\"url(#clip472)\" style=\"fill:#009af9; stroke:none; fill-opacity:0\" cx=\"713.728\" cy=\"1386.4\" r=\"2\"/>\n<circle clip-path=\"url(#clip472)\" style=\"fill:#009af9; stroke:none; fill-opacity:0\" cx=\"788.077\" cy=\"1386.4\" r=\"2\"/>\n<circle clip-path=\"url(#clip472)\" style=\"fill:#009af9; stroke:none; fill-opacity:0\" cx=\"862.427\" cy=\"1386.4\" r=\"2\"/>\n<circle clip-path=\"url(#clip472)\" style=\"fill:#009af9; stroke:none; fill-opacity:0\" cx=\"936.776\" cy=\"1386.4\" r=\"2\"/>\n<circle clip-path=\"url(#clip472)\" style=\"fill:#009af9; stroke:none; fill-opacity:0\" cx=\"1011.12\" cy=\"1386.4\" r=\"2\"/>\n<circle clip-path=\"url(#clip472)\" style=\"fill:#009af9; stroke:none; fill-opacity:0\" cx=\"1085.47\" cy=\"1384.68\" r=\"2\"/>\n<circle clip-path=\"url(#clip472)\" style=\"fill:#009af9; stroke:none; fill-opacity:0\" cx=\"1159.82\" cy=\"1373.84\" r=\"2\"/>\n<circle clip-path=\"url(#clip472)\" style=\"fill:#009af9; stroke:none; fill-opacity:0\" cx=\"1234.17\" cy=\"1294.49\" r=\"2\"/>\n<circle clip-path=\"url(#clip472)\" style=\"fill:#009af9; stroke:none; fill-opacity:0\" cx=\"1308.52\" cy=\"1323.6\" r=\"2\"/>\n<circle clip-path=\"url(#clip472)\" style=\"fill:#009af9; stroke:none; fill-opacity:0\" cx=\"1382.87\" cy=\"954.849\" r=\"2\"/>\n<circle clip-path=\"url(#clip472)\" style=\"fill:#009af9; stroke:none; fill-opacity:0\" cx=\"1457.22\" cy=\"1168.91\" r=\"2\"/>\n<circle clip-path=\"url(#clip472)\" style=\"fill:#009af9; stroke:none; fill-opacity:0\" cx=\"1531.57\" cy=\"822.988\" r=\"2\"/>\n<circle clip-path=\"url(#clip472)\" style=\"fill:#009af9; stroke:none; fill-opacity:0\" cx=\"1605.92\" cy=\"528.441\" r=\"2\"/>\n<circle clip-path=\"url(#clip472)\" style=\"fill:#009af9; stroke:none; fill-opacity:0\" cx=\"1680.27\" cy=\"1112.4\" r=\"2\"/>\n<circle clip-path=\"url(#clip472)\" style=\"fill:#009af9; stroke:none; fill-opacity:0\" cx=\"1754.62\" cy=\"652.881\" r=\"2\"/>\n<circle clip-path=\"url(#clip472)\" style=\"fill:#009af9; stroke:none; fill-opacity:0\" cx=\"1828.97\" cy=\"1195.17\" r=\"2\"/>\n<circle clip-path=\"url(#clip472)\" style=\"fill:#009af9; stroke:none; fill-opacity:0\" cx=\"1903.32\" cy=\"1078.15\" r=\"2\"/>\n<circle clip-path=\"url(#clip472)\" style=\"fill:#009af9; stroke:none; fill-opacity:0\" cx=\"1977.66\" cy=\"1160.92\" r=\"2\"/>\n<circle clip-path=\"url(#clip472)\" style=\"fill:#009af9; stroke:none; fill-opacity:0\" cx=\"2052.01\" cy=\"1205.44\" r=\"2\"/>\n<circle clip-path=\"url(#clip472)\" style=\"fill:#009af9; stroke:none; fill-opacity:0\" cx=\"2126.36\" cy=\"1348.15\" r=\"2\"/>\n<circle clip-path=\"url(#clip472)\" style=\"fill:#009af9; stroke:none; fill-opacity:0\" cx=\"2200.71\" cy=\"1351.58\" r=\"2\"/>\n<path clip-path=\"url(#clip470)\" d=\"\nM1663.93 270.476 L2283.14 270.476 L2283.14 166.796 L1663.93 166.796  Z\n  \" fill=\"#ffffff\" fill-rule=\"evenodd\" fill-opacity=\"1\"/>\n<polyline clip-path=\"url(#clip470)\" style=\"stroke:#000000; stroke-linecap:round; stroke-linejoin:round; stroke-width:4; stroke-opacity:1; fill:none\" points=\"\n  1663.93,270.476 2283.14,270.476 2283.14,166.796 1663.93,166.796 1663.93,270.476 \n  \"/>\n<path clip-path=\"url(#clip470)\" d=\"\nM1687.13 239.372 L1826.36 239.372 L1826.36 197.9 L1687.13 197.9 L1687.13 239.372  Z\n  \" fill=\"#009af9\" fill-rule=\"evenodd\" fill-opacity=\"1\"/>\n<polyline clip-path=\"url(#clip470)\" style=\"stroke:#000000; stroke-linecap:round; stroke-linejoin:round; stroke-width:4; stroke-opacity:1; fill:none\" points=\"\n  1687.13,239.372 1826.36,239.372 1826.36,197.9 1687.13,197.9 1687.13,239.372 \n  \"/>\n<path clip-path=\"url(#clip470)\" d=\"M1865.4 205.962 L1859.06 223.161 L1871.77 223.161 L1865.4 205.962 M1862.76 201.356 L1868.06 201.356 L1881.23 235.916 L1876.37 235.916 L1873.22 227.05 L1857.65 227.05 L1854.5 235.916 L1849.57 235.916 L1862.76 201.356 Z\" fill=\"#000000\" fill-rule=\"evenodd\" fill-opacity=\"1\" /><path clip-path=\"url(#clip470)\" d=\"M1903.15 222.652 Q1903.15 218.022 1901.23 215.476 Q1899.34 212.93 1895.89 212.93 Q1892.46 212.93 1890.54 215.476 Q1888.64 218.022 1888.64 222.652 Q1888.64 227.258 1890.54 229.805 Q1892.46 232.351 1895.89 232.351 Q1899.34 232.351 1901.23 229.805 Q1903.15 227.258 1903.15 222.652 M1907.41 232.698 Q1907.41 239.318 1904.47 242.536 Q1901.53 245.777 1895.47 245.777 Q1893.22 245.777 1891.23 245.43 Q1889.24 245.105 1887.37 244.411 L1887.37 240.268 Q1889.24 241.286 1891.07 241.772 Q1892.9 242.258 1894.8 242.258 Q1898.99 242.258 1901.07 240.059 Q1903.15 237.883 1903.15 233.462 L1903.15 231.356 Q1901.84 233.647 1899.77 234.781 Q1897.71 235.916 1894.84 235.916 Q1890.08 235.916 1887.16 232.281 Q1884.24 228.647 1884.24 222.652 Q1884.24 216.633 1887.16 212.999 Q1890.08 209.365 1894.84 209.365 Q1897.71 209.365 1899.77 210.499 Q1901.84 211.633 1903.15 213.925 L1903.15 209.99 L1907.41 209.99 L1907.41 232.698 Z\" fill=\"#000000\" fill-rule=\"evenodd\" fill-opacity=\"1\" /><path clip-path=\"url(#clip470)\" d=\"M1933.25 222.652 Q1933.25 218.022 1931.33 215.476 Q1929.43 212.93 1925.98 212.93 Q1922.55 212.93 1920.63 215.476 Q1918.73 218.022 1918.73 222.652 Q1918.73 227.258 1920.63 229.805 Q1922.55 232.351 1925.98 232.351 Q1929.43 232.351 1931.33 229.805 Q1933.25 227.258 1933.25 222.652 M1937.51 232.698 Q1937.51 239.318 1934.57 242.536 Q1931.63 245.777 1925.56 245.777 Q1923.32 245.777 1921.33 245.43 Q1919.34 245.105 1917.46 244.411 L1917.46 240.268 Q1919.34 241.286 1921.16 241.772 Q1922.99 242.258 1924.89 242.258 Q1929.08 242.258 1931.16 240.059 Q1933.25 237.883 1933.25 233.462 L1933.25 231.356 Q1931.93 233.647 1929.87 234.781 Q1927.81 235.916 1924.94 235.916 Q1920.17 235.916 1917.25 232.281 Q1914.34 228.647 1914.34 222.652 Q1914.34 216.633 1917.25 212.999 Q1920.17 209.365 1924.94 209.365 Q1927.81 209.365 1929.87 210.499 Q1931.93 211.633 1933.25 213.925 L1933.25 209.99 L1937.51 209.99 L1937.51 232.698 Z\" fill=\"#000000\" fill-rule=\"evenodd\" fill-opacity=\"1\" /><path clip-path=\"url(#clip470)\" d=\"M1961.3 213.971 Q1960.58 213.555 1959.73 213.37 Q1958.9 213.161 1957.88 213.161 Q1954.27 213.161 1952.32 215.522 Q1950.4 217.86 1950.4 222.258 L1950.4 235.916 L1946.12 235.916 L1946.12 209.99 L1950.4 209.99 L1950.4 214.018 Q1951.74 211.657 1953.9 210.522 Q1956.05 209.365 1959.13 209.365 Q1959.57 209.365 1960.1 209.434 Q1960.63 209.481 1961.28 209.596 L1961.3 213.971 Z\" fill=\"#000000\" fill-rule=\"evenodd\" fill-opacity=\"1\" /><path clip-path=\"url(#clip470)\" d=\"M1986.9 221.888 L1986.9 223.971 L1967.32 223.971 Q1967.6 228.369 1969.96 230.684 Q1972.34 232.976 1976.58 232.976 Q1979.03 232.976 1981.33 232.374 Q1983.64 231.772 1985.91 230.569 L1985.91 234.596 Q1983.62 235.568 1981.21 236.078 Q1978.8 236.587 1976.33 236.587 Q1970.12 236.587 1966.49 232.976 Q1962.88 229.365 1962.88 223.207 Q1962.88 216.842 1966.3 213.115 Q1969.75 209.365 1975.58 209.365 Q1980.82 209.365 1983.85 212.745 Q1986.9 216.101 1986.9 221.888 M1982.64 220.638 Q1982.6 217.143 1980.68 215.059 Q1978.78 212.976 1975.63 212.976 Q1972.07 212.976 1969.91 214.99 Q1967.78 217.004 1967.46 220.661 L1982.64 220.638 Z\" fill=\"#000000\" fill-rule=\"evenodd\" fill-opacity=\"1\" /><path clip-path=\"url(#clip470)\" d=\"M2010.95 222.652 Q2010.95 218.022 2009.03 215.476 Q2007.14 212.93 2003.69 212.93 Q2000.26 212.93 1998.34 215.476 Q1996.44 218.022 1996.44 222.652 Q1996.44 227.258 1998.34 229.805 Q2000.26 232.351 2003.69 232.351 Q2007.14 232.351 2009.03 229.805 Q2010.95 227.258 2010.95 222.652 M2015.21 232.698 Q2015.21 239.318 2012.27 242.536 Q2009.33 245.777 2003.27 245.777 Q2001.02 245.777 1999.03 245.43 Q1997.04 245.105 1995.17 244.411 L1995.17 240.268 Q1997.04 241.286 1998.87 241.772 Q2000.7 242.258 2002.6 242.258 Q2006.79 242.258 2008.87 240.059 Q2010.95 237.883 2010.95 233.462 L2010.95 231.356 Q2009.64 233.647 2007.58 234.781 Q2005.52 235.916 2002.64 235.916 Q1997.88 235.916 1994.96 232.281 Q1992.04 228.647 1992.04 222.652 Q1992.04 216.633 1994.96 212.999 Q1997.88 209.365 2002.64 209.365 Q2005.52 209.365 2007.58 210.499 Q2009.64 211.633 2010.95 213.925 L2010.95 209.99 L2015.21 209.99 L2015.21 232.698 Z\" fill=\"#000000\" fill-rule=\"evenodd\" fill-opacity=\"1\" /><path clip-path=\"url(#clip470)\" d=\"M2035.77 222.883 Q2030.61 222.883 2028.62 224.064 Q2026.63 225.244 2026.63 228.092 Q2026.63 230.36 2028.11 231.703 Q2029.61 233.022 2032.18 233.022 Q2035.72 233.022 2037.85 230.522 Q2040.01 227.999 2040.01 223.832 L2040.01 222.883 L2035.77 222.883 M2044.26 221.124 L2044.26 235.916 L2040.01 235.916 L2040.01 231.981 Q2038.55 234.342 2036.37 235.476 Q2034.2 236.587 2031.05 236.587 Q2027.07 236.587 2024.7 234.365 Q2022.37 232.119 2022.37 228.369 Q2022.37 223.994 2025.28 221.772 Q2028.22 219.55 2034.03 219.55 L2040.01 219.55 L2040.01 219.133 Q2040.01 216.194 2038.06 214.596 Q2036.14 212.976 2032.64 212.976 Q2030.42 212.976 2028.32 213.508 Q2026.21 214.041 2024.27 215.106 L2024.27 211.17 Q2026.6 210.268 2028.8 209.828 Q2031 209.365 2033.08 209.365 Q2038.71 209.365 2041.49 212.282 Q2044.26 215.198 2044.26 221.124 Z\" fill=\"#000000\" fill-rule=\"evenodd\" fill-opacity=\"1\" /><path clip-path=\"url(#clip470)\" d=\"M2057.25 202.629 L2057.25 209.99 L2066.02 209.99 L2066.02 213.3 L2057.25 213.3 L2057.25 227.374 Q2057.25 230.545 2058.11 231.448 Q2058.99 232.351 2061.65 232.351 L2066.02 232.351 L2066.02 235.916 L2061.65 235.916 Q2056.72 235.916 2054.84 234.087 Q2052.97 232.235 2052.97 227.374 L2052.97 213.3 L2049.84 213.3 L2049.84 209.99 L2052.97 209.99 L2052.97 202.629 L2057.25 202.629 Z\" fill=\"#000000\" fill-rule=\"evenodd\" fill-opacity=\"1\" /><path clip-path=\"url(#clip470)\" d=\"M2093.8 221.888 L2093.8 223.971 L2074.22 223.971 Q2074.5 228.369 2076.86 230.684 Q2079.24 232.976 2083.48 232.976 Q2085.93 232.976 2088.22 232.374 Q2090.54 231.772 2092.81 230.569 L2092.81 234.596 Q2090.51 235.568 2088.11 236.078 Q2085.7 236.587 2083.22 236.587 Q2077.02 236.587 2073.39 232.976 Q2069.77 229.365 2069.77 223.207 Q2069.77 216.842 2073.2 213.115 Q2076.65 209.365 2082.48 209.365 Q2087.71 209.365 2090.75 212.745 Q2093.8 216.101 2093.8 221.888 M2089.54 220.638 Q2089.5 217.143 2087.57 215.059 Q2085.68 212.976 2082.53 212.976 Q2078.96 212.976 2076.81 214.99 Q2074.68 217.004 2074.36 220.661 L2089.54 220.638 Z\" fill=\"#000000\" fill-rule=\"evenodd\" fill-opacity=\"1\" /><path clip-path=\"url(#clip470)\" d=\"M2132.44 219.712 Q2133.94 220.221 2135.35 221.888 Q2136.79 223.555 2138.22 226.471 L2142.97 235.916 L2137.94 235.916 L2133.52 227.05 Q2131.81 223.578 2130.19 222.444 Q2128.59 221.309 2125.82 221.309 L2120.72 221.309 L2120.72 235.916 L2116.05 235.916 L2116.05 201.356 L2126.6 201.356 Q2132.53 201.356 2135.45 203.833 Q2138.36 206.309 2138.36 211.309 Q2138.36 214.573 2136.83 216.726 Q2135.33 218.879 2132.44 219.712 M2120.72 205.198 L2120.72 217.467 L2126.6 217.467 Q2129.98 217.467 2131.7 215.916 Q2133.43 214.342 2133.43 211.309 Q2133.43 208.277 2131.7 206.749 Q2129.98 205.198 2126.6 205.198 L2120.72 205.198 Z\" fill=\"#000000\" fill-rule=\"evenodd\" fill-opacity=\"1\" /><path clip-path=\"url(#clip470)\" d=\"M2159.54 222.883 Q2154.38 222.883 2152.39 224.064 Q2150.4 225.244 2150.4 228.092 Q2150.4 230.36 2151.88 231.703 Q2153.38 233.022 2155.95 233.022 Q2159.5 233.022 2161.63 230.522 Q2163.78 227.999 2163.78 223.832 L2163.78 222.883 L2159.54 222.883 M2168.04 221.124 L2168.04 235.916 L2163.78 235.916 L2163.78 231.981 Q2162.32 234.342 2160.14 235.476 Q2157.97 236.587 2154.82 236.587 Q2150.84 236.587 2148.48 234.365 Q2146.14 232.119 2146.14 228.369 Q2146.14 223.994 2149.06 221.772 Q2152 219.55 2157.81 219.55 L2163.78 219.55 L2163.78 219.133 Q2163.78 216.194 2161.83 214.596 Q2159.91 212.976 2156.42 212.976 Q2154.19 212.976 2152.09 213.508 Q2149.98 214.041 2148.04 215.106 L2148.04 211.17 Q2150.38 210.268 2152.57 209.828 Q2154.77 209.365 2156.86 209.365 Q2162.48 209.365 2165.26 212.282 Q2168.04 215.198 2168.04 221.124 Z\" fill=\"#000000\" fill-rule=\"evenodd\" fill-opacity=\"1\" /><path clip-path=\"url(#clip470)\" d=\"M2181.02 202.629 L2181.02 209.99 L2189.8 209.99 L2189.8 213.3 L2181.02 213.3 L2181.02 227.374 Q2181.02 230.545 2181.88 231.448 Q2182.76 232.351 2185.42 232.351 L2189.8 232.351 L2189.8 235.916 L2185.42 235.916 Q2180.49 235.916 2178.62 234.087 Q2176.74 232.235 2176.74 227.374 L2176.74 213.3 L2173.62 213.3 L2173.62 209.99 L2176.74 209.99 L2176.74 202.629 L2181.02 202.629 Z\" fill=\"#000000\" fill-rule=\"evenodd\" fill-opacity=\"1\" /><path clip-path=\"url(#clip470)\" d=\"M2195.4 209.99 L2199.66 209.99 L2199.66 235.916 L2195.4 235.916 L2195.4 209.99 M2195.4 199.897 L2199.66 199.897 L2199.66 205.291 L2195.4 205.291 L2195.4 199.897 Z\" fill=\"#000000\" fill-rule=\"evenodd\" fill-opacity=\"1\" /><path clip-path=\"url(#clip470)\" d=\"M2230.12 220.268 L2230.12 235.916 L2225.86 235.916 L2225.86 220.407 Q2225.86 216.726 2224.43 214.897 Q2222.99 213.069 2220.12 213.069 Q2216.67 213.069 2214.68 215.268 Q2212.69 217.467 2212.69 221.263 L2212.69 235.916 L2208.41 235.916 L2208.41 209.99 L2212.69 209.99 L2212.69 214.018 Q2214.22 211.68 2216.28 210.522 Q2218.36 209.365 2221.07 209.365 Q2225.54 209.365 2227.83 212.143 Q2230.12 214.897 2230.12 220.268 Z\" fill=\"#000000\" fill-rule=\"evenodd\" fill-opacity=\"1\" /><path clip-path=\"url(#clip470)\" d=\"M2255.68 222.652 Q2255.68 218.022 2253.75 215.476 Q2251.86 212.93 2248.41 212.93 Q2244.98 212.93 2243.06 215.476 Q2241.16 218.022 2241.16 222.652 Q2241.16 227.258 2243.06 229.805 Q2244.98 232.351 2248.41 232.351 Q2251.86 232.351 2253.75 229.805 Q2255.68 227.258 2255.68 222.652 M2259.94 232.698 Q2259.94 239.318 2257 242.536 Q2254.06 245.777 2247.99 245.777 Q2245.75 245.777 2243.75 245.43 Q2241.76 245.105 2239.89 244.411 L2239.89 240.268 Q2241.76 241.286 2243.59 241.772 Q2245.42 242.258 2247.32 242.258 Q2251.51 242.258 2253.59 240.059 Q2255.68 237.883 2255.68 233.462 L2255.68 231.356 Q2254.36 233.647 2252.3 234.781 Q2250.24 235.916 2247.37 235.916 Q2242.6 235.916 2239.68 232.281 Q2236.76 228.647 2236.76 222.652 Q2236.76 216.633 2239.68 212.999 Q2242.6 209.365 2247.37 209.365 Q2250.24 209.365 2252.3 210.499 Q2254.36 211.633 2255.68 213.925 L2255.68 209.99 L2259.94 209.99 L2259.94 232.698 Z\" fill=\"#000000\" fill-rule=\"evenodd\" fill-opacity=\"1\" /></svg>\n"
     },
     "execution_count": 98,
     "metadata": {},
     "output_type": "execute_result"
    }
   ],
   "source": [
    "using Plots\n",
    "histogram(zomato[!,18], label=\"Aggregate Rating\")  \n",
    "xlabel!(\"Aggregate Rating\")\n",
    "ylabel!(\"Frequency\")\n",
    "title!(\"Zomato: Total Ratings\")"
   ]
  },
  {
   "cell_type": "markdown",
   "metadata": {},
   "source": [
    "### 4.2 Finding the 3 best restaurants in a country by price range \n",
    "\n",
    "Write a function called best that takes two arguments: a 3-character country code of a country and a price range (numbers 1,2,3,4). The function should read the zomato.csv file and return a data frame with the names of the restaurant and the city that have the 3 best (i.e. highest) ranking for a price range in that country. There are 4 price range levels. Countries that do not have data on a particular price range should be excluded from the set of restaurants when deciding the rankings. \n",
    "Handling ties. If there is a tie for the best restaurant for a given price range, then the restaurant names should be sorted in alphabetical order.\n",
    "The function should use the following template. \n",
    "\n",
    "```julia\n",
    "Function best(country, pricerange)\n",
    "        ## Read zomato data\n",
    "        ## Check that country and price range are valid\n",
    "        ## Return restaurant name in that state with highest ranking\n",
    "end\n",
    "```\n",
    "\n",
    "The function should check the validity of its arguments. If an invalid country value is passed to best, the function should throw an error via the stop function with the exact message “invalid country”. If an invalid price range value is passed to best, the function should throw an error via the stop function with the exact message “invalid price range”. \n",
    "Here is some sample output from the function (WARNING: we will run different tests and the results shown here might not actually be correct)\n",
    "\n",
    "```julia\n",
    "julia> best(\"USA\", 1)\n",
    "3 rows × 2 columns\n",
    "\n",
    "  Restaurant Name       City                  \n",
    "  String                  String                 \n",
    "1 Oakwood Cafe            Dalton                \n",
    "2 Rae's Coastal Cafe      Augusta               \n",
    "3 Shorts Burger and Shine Cedar Rapids/Iowa City\n",
    "\n",
    "julia> best(\"IND\", 3)\n",
    "3 rows × 2 columns\n",
    "  Restaurant Name         City   \n",
    "  String                  String                 \n",
    "1 AB's - Absolute Barbecues Chennai\n",
    "2 Sagar Gaire Fast Food     Bhopal \n",
    "3 Sheroes Hangout           Agra\n",
    "\n",
    "julia> best(\"TGH\", 4)\n",
    "Error in best(\"TGH\", 4): invalid country\n",
    "\n",
    "julia> best(\"BRA\", 5)\n",
    "Error in best(\"BRA\", 5) : invalid price range\n",
    "```"
   ]
  },
  {
   "cell_type": "code",
   "execution_count": 10,
   "metadata": {},
   "outputs": [
    {
     "data": {
      "text/plain": [
       "best (generic function with 2 methods)"
      ]
     },
     "execution_count": 10,
     "metadata": {},
     "output_type": "execute_result"
    }
   ],
   "source": [
    "function best(country::String, pricerange::Int)\n",
    "    if pricerange > 4 || pricerange < 1\n",
    "        return println(\"Error in best(\",\"\\\"\",country,\"\\\"\",\", \",pricerange,\"): invalid price range\")\n",
    "    end\n",
    "    # Read in the country codes and create a dataframe called \"CCodes\"\n",
    "    CCodes=CSV.read(\"Country-Code.csv\",DataFrame,missingstring=\"\")\n",
    "    \n",
    "    if size(CCodes[in.(CCodes.\"3lettercode\", Ref([country])), :],1) == 0\n",
    "        return println(\"Error in best(\",\"\\\"\",country,\"\\\"\",\", \",pricerange,\"): invalid country\")\n",
    "    end\n",
    "\n",
    "    # Read in the data file and create a dataframe called \"zomato\"\n",
    "    zomato=CSV.read(\"zomato.csv\",DataFrame,missingstring=\"\")\n",
    "\n",
    "    # Using an outer join on the \"Country Codes\" to bring in the 3 letter code \n",
    "    zomato = outerjoin(zomato, CCodes, on = :\"Country Code\")\n",
    "\n",
    "    # Drops any rows that have missing values in \"Aggregate rating\"\n",
    "    zomato = dropmissing(zomato, :\"Aggregate rating\")\n",
    "\n",
    "    #Takes a subset of the the previous subset using the price range\n",
    "    zomato = zomato[in.(zomato.\"Price range\", Ref([pricerange])), :]\n",
    "\n",
    "    # Takes the subset of \"zomato\" using the country code\n",
    "    zomato = zomato[in.(zomato.\"3lettercode\", Ref([country])), :]\n",
    "\n",
    "    # Checks if there are any price ranges in the country and returns\n",
    "    # an error statment if there aren't any\n",
    "    if size(zomato,1) == 0\n",
    "        return println(\"Error in best(\",\"\\\"\",country,\"\\\"\",\", \",pricerange,\"): invalid country\")\n",
    "    end\n",
    "\n",
    "    # Creating a new dataframe \"Top3\" which holds all data of the\n",
    "    # subset and sorting the data first one \"Aggregate rating\" and\n",
    "    # then by \"Restaurant Name\" alphabetically\n",
    "    Top3 = sort(zomato, [:\"Aggregate rating\",:\"Restaurant Name\"], rev=[true, false])\n",
    "    # Printing out the first 3 entries fromt the \"Top3\" dataframe\n",
    "    Top3[1:3,[:\"Restaurant Name\",:\"City\"]]\n",
    "end"
   ]
  },
  {
   "cell_type": "code",
   "execution_count": 11,
   "metadata": {},
   "outputs": [
    {
     "data": {
      "text/plain": [
       "best (generic function with 2 methods)"
      ]
     },
     "execution_count": 11,
     "metadata": {},
     "output_type": "execute_result"
    }
   ],
   "source": [
    "function best(country::Int, pricerange::Int)\n",
    "    if pricerange > 4 || pricerange < 1\n",
    "        return println(\"Error in best(\",\"\\\"\",country,\"\\\"\",\", \",pricerange,\"): invalid price range\")\n",
    "    end\n",
    "    # Read in the country codes and create a dataframe called \"CCodes\"\n",
    "    CCodes=CSV.read(\"Country-Code.csv\",DataFrame,missingstring=\"\")\n",
    "    \n",
    "    if size(CCodes[in.(CCodes.\"Country Code\", Ref([country])), :],1) == 0\n",
    "        return println(\"Error in best(\",\"\\\"\",country,\"\\\"\",\", \",pricerange,\"): invalid country\")\n",
    "    end\n",
    "\n",
    "    # Read in the data file and create a dataframe called \"zomato\"\n",
    "    zomato=CSV.read(\"zomato.csv\",DataFrame,missingstring=\"\")\n",
    "\n",
    "    # Using an outer join on the \"Country Codes\" to bring in the 3 letter code \n",
    "    zomato = outerjoin(zomato, CCodes, on = :\"Country Code\")\n",
    "\n",
    "    # Drops any rows that have missing values in \"Aggregate rating\"\n",
    "    zomato = dropmissing(zomato, :\"Aggregate rating\")\n",
    "\n",
    "    #Takes a subset of the the previous subset using the price range\n",
    "    zomato = zomato[in.(zomato.\"Price range\", Ref([pricerange])), :]\n",
    "\n",
    "    # Takes the subset of \"zomato\" using the country code\n",
    "    zomato = zomato[in.(zomato.\"Country Code\", Ref([country])), :]\n",
    "\n",
    "    # Checks if there are any price ranges in the country and returns\n",
    "    # an error statment if there aren't any\n",
    "    if size(zomato,1) == 0\n",
    "        return println(\"Error in best(\",\"\\\"\",country,\"\\\"\",\", \",pricerange,\"): invalid country\")\n",
    "    end\n",
    "\n",
    "    # Creating a new dataframe \"Top3\" which holds all data of the\n",
    "    # subset and sorting the data first one \"Aggregate rating\" and\n",
    "    # then by \"Restaurant Name\" alphabetically\n",
    "    Top3 = sort(zomato, [:\"Aggregate rating\",:\"Restaurant Name\"], rev=[true, false])\n",
    "    # Printing out the first 3 entries fromt the \"Top3\" dataframe\n",
    "    Top3[1:3,[:\"Restaurant Name\",:\"City\"]]\n",
    "end"
   ]
  },
  {
   "cell_type": "code",
   "execution_count": 12,
   "metadata": {},
   "outputs": [
    {
     "data": {
      "text/html": [
       "<div><div style = \"float: left;\"><span>3×2 DataFrame</span></div><div style = \"clear: both;\"></div></div><div class = \"data-frame\" style = \"overflow-x: scroll;\"><table class = \"data-frame\" style = \"margin-bottom: 6px;\"><thead><tr class = \"header\"><th class = \"rowNumber\" style = \"font-weight: bold; text-align: right;\">Row</th><th style = \"text-align: left;\">Restaurant Name</th><th style = \"text-align: left;\">City</th></tr><tr class = \"subheader headerLastRow\"><th class = \"rowNumber\" style = \"font-weight: bold; text-align: right;\"></th><th title = \"Union{Missing, String}\" style = \"text-align: left;\">String?</th><th title = \"Union{Missing, String31}\" style = \"text-align: left;\">String31?</th></tr></thead><tbody><tr><td class = \"rowNumber\" style = \"font-weight: bold; text-align: right;\">1</td><td style = \"text-align: left;\">Ingleside Village Pizza</td><td style = \"text-align: left;\">Macon</td></tr><tr><td class = \"rowNumber\" style = \"font-weight: bold; text-align: right;\">2</td><td style = \"text-align: left;\">Marukame Udon</td><td style = \"text-align: left;\">Rest of Hawaii</td></tr><tr><td class = \"rowNumber\" style = \"font-weight: bold; text-align: right;\">3</td><td style = \"text-align: left;\">Mazzaro&apos;s Italian Market</td><td style = \"text-align: left;\">Tampa Bay</td></tr></tbody></table></div>"
      ],
      "text/latex": [
       "\\begin{tabular}{r|cc}\n",
       "\t& Restaurant Name & City\\\\\n",
       "\t\\hline\n",
       "\t& String? & String31?\\\\\n",
       "\t\\hline\n",
       "\t1 & Ingleside Village Pizza & Macon \\\\\n",
       "\t2 & Marukame Udon & Rest of Hawaii \\\\\n",
       "\t3 & Mazzaro's Italian Market & Tampa Bay \\\\\n",
       "\\end{tabular}\n"
      ],
      "text/plain": [
       "\u001b[1m3×2 DataFrame\u001b[0m\n",
       "\u001b[1m Row \u001b[0m│\u001b[1m Restaurant Name          \u001b[0m\u001b[1m City           \u001b[0m\n",
       "     │\u001b[90m String?                  \u001b[0m\u001b[90m String31?      \u001b[0m\n",
       "─────┼──────────────────────────────────────────\n",
       "   1 │ Ingleside Village Pizza   Macon\n",
       "   2 │ Marukame Udon             Rest of Hawaii\n",
       "   3 │ Mazzaro's Italian Market  Tampa Bay"
      ]
     },
     "execution_count": 12,
     "metadata": {},
     "output_type": "execute_result"
    }
   ],
   "source": [
    "# Showcasing the method that recognizes an Int in the country code field\n",
    "best(216,1)"
   ]
  },
  {
   "cell_type": "code",
   "execution_count": 15,
   "metadata": {},
   "outputs": [
    {
     "data": {
      "text/html": [
       "<div><div style = \"float: left;\"><span>3×2 DataFrame</span></div><div style = \"clear: both;\"></div></div><div class = \"data-frame\" style = \"overflow-x: scroll;\"><table class = \"data-frame\" style = \"margin-bottom: 6px;\"><thead><tr class = \"header\"><th class = \"rowNumber\" style = \"font-weight: bold; text-align: right;\">Row</th><th style = \"text-align: left;\">Restaurant Name</th><th style = \"text-align: left;\">City</th></tr><tr class = \"subheader headerLastRow\"><th class = \"rowNumber\" style = \"font-weight: bold; text-align: right;\"></th><th title = \"Union{Missing, String}\" style = \"text-align: left;\">String?</th><th title = \"Union{Missing, String31}\" style = \"text-align: left;\">String31?</th></tr></thead><tbody><tr><td class = \"rowNumber\" style = \"font-weight: bold; text-align: right;\">1</td><td style = \"text-align: left;\">Ingleside Village Pizza</td><td style = \"text-align: left;\">Macon</td></tr><tr><td class = \"rowNumber\" style = \"font-weight: bold; text-align: right;\">2</td><td style = \"text-align: left;\">Marukame Udon</td><td style = \"text-align: left;\">Rest of Hawaii</td></tr><tr><td class = \"rowNumber\" style = \"font-weight: bold; text-align: right;\">3</td><td style = \"text-align: left;\">Mazzaro&apos;s Italian Market</td><td style = \"text-align: left;\">Tampa Bay</td></tr></tbody></table></div>"
      ],
      "text/latex": [
       "\\begin{tabular}{r|cc}\n",
       "\t& Restaurant Name & City\\\\\n",
       "\t\\hline\n",
       "\t& String? & String31?\\\\\n",
       "\t\\hline\n",
       "\t1 & Ingleside Village Pizza & Macon \\\\\n",
       "\t2 & Marukame Udon & Rest of Hawaii \\\\\n",
       "\t3 & Mazzaro's Italian Market & Tampa Bay \\\\\n",
       "\\end{tabular}\n"
      ],
      "text/plain": [
       "\u001b[1m3×2 DataFrame\u001b[0m\n",
       "\u001b[1m Row \u001b[0m│\u001b[1m Restaurant Name          \u001b[0m\u001b[1m City           \u001b[0m\n",
       "     │\u001b[90m String?                  \u001b[0m\u001b[90m String31?      \u001b[0m\n",
       "─────┼──────────────────────────────────────────\n",
       "   1 │ Ingleside Village Pizza   Macon\n",
       "   2 │ Marukame Udon             Rest of Hawaii\n",
       "   3 │ Mazzaro's Italian Market  Tampa Bay"
      ]
     },
     "execution_count": 15,
     "metadata": {},
     "output_type": "execute_result"
    }
   ],
   "source": [
    "# Showcasing the method that recognizes a String in the country code field\n",
    "best(\"USA\",1)"
   ]
  }
 ],
 "metadata": {
  "kernelspec": {
   "display_name": "Julia 1.8.2",
   "language": "julia",
   "name": "julia-1.8"
  },
  "language_info": {
   "file_extension": ".jl",
   "mimetype": "application/julia",
   "name": "julia",
   "version": "1.8.2"
  }
 },
 "nbformat": 4,
 "nbformat_minor": 2
}
