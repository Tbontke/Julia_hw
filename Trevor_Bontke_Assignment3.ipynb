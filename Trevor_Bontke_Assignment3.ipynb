{
 "cells": [
  {
   "cell_type": "markdown",
   "metadata": {},
   "source": [
    "Kids Game Develop a simple game that teaches kindergartners how to multiply single-digit numbers. Your function game() will take an integer n as input and then ask n single-digit multiplication questions. The numbers to be multiplied should be chosen randomly from the range [0, 9] (i.e.,0 to 9 inclusive). The user will enter the answer when prompted. Your function should print 'Correct' for correct answers and 'Incorrect' for incorrect answers. After n questions, your function should print the number of correct answers.\n",
    "\n",
    "  game(3)\n",
    "\n",
    "  8 x 2 =\n",
    "\n",
    "  Enter answer: 16\n",
    "\n",
    "  Correct.\n",
    "\n",
    "  6 x 7 =\n",
    "\n",
    "  Enter answer: 12\n",
    "\n",
    "  Incorrect.\n",
    "\n",
    "  7 x 7 =\n",
    "\n",
    "  Enter answer: 49\n",
    "\n",
    "  Correct.\n",
    "\n",
    "  You got 2 correct answers out of 3\n",
    "\n",
    "  ---"
   ]
  },
  {
   "cell_type": "code",
   "execution_count": null,
   "metadata": {},
   "outputs": [],
   "source": [
    "\"\"\"Trevor Bontke, tbontke@central.uh.edu\n",
    "\n",
    "     Program #3: Multiplcation Game\n",
    "\n",
    "     221 Julia, Fall 2022\n",
    "\n",
    "     This program is designed to become familiar with functions. The function mathGame() is desigined to ask the user a number (n) of multiplication questions. The multiplication is of two random numbers between 0 and 9. User input is requested for each problem and the answer is immediately provided before moving on. At the end of the function the user is told how well they did based on the number of problems answered correctly. In the special case that they got no answers correct the user is encouraged to try again and recursion of the function is initiated if \"y\" is entered by the user. The main focus of my program was to make the output as encourage as possible for young children. \"\"\""
   ]
  },
  {
   "cell_type": "code",
   "execution_count": 83,
   "metadata": {},
   "outputs": [
    {
     "data": {
      "text/plain": [
       "mathGame (generic function with 1 method)"
      ]
     },
     "execution_count": 83,
     "metadata": {},
     "output_type": "execute_result"
    }
   ],
   "source": [
    "# Defining a new function called mathGame() which can be called to create\n",
    "# n random multiplication problems\n",
    "function mathGame(n)\n",
    "    # A while loop used to prevent the user from entering values < 1\n",
    "    # Also allows users to exit the funtion if desired\n",
    "    while n < 1\n",
    "        println(\"Please enter a number greater than 0 or \\\"x\\\" to exit\")\n",
    "        flush(stdout)\n",
    "        temp = readline()\n",
    "        if lowercase(temp) == \"x\"\n",
    "            return\n",
    "        else\n",
    "            n = parse(Int32, temp)\n",
    "        end\n",
    "    end\n",
    "    # Using rand to create an n x 2 matrix with integers between 0 and 9\n",
    "    # This will be used for the random multiplication problems\n",
    "    M = rand(0:9,n,2)\n",
    "    # Creating the corr variable to track the number of correctly answered \n",
    "    # questions\n",
    "    corr = 0\n",
    "    # For loop responsible for interacting with the user to ask\n",
    "    # n multiplication questions\n",
    "    println(\"Please solve the following multiplication problem: \\n\")\n",
    "    for n in 1:n\n",
    "        # Createing variable prod to store the solution of the current\n",
    "        # multiplication problem\n",
    "        prod = M[n,1]*M[n,2]\n",
    "        print(M[n,1],\" x \",M[n,2],\" = \")\n",
    "        flush(stdout)\n",
    "        # Accepting user input as an Int rather than string\n",
    "        ans = parse(Int32, readline())\n",
    "        # Checking if the answer submitted is correct\n",
    "        if ans == prod\n",
    "            # **Note: I have to separate the ✅ emoji from the \\n otherwise\n",
    "            # **it created and issue in printing the next question\n",
    "            println(ans,\" ✅✅\",\"\\n\")\n",
    "            # Increase corr answer counter\n",
    "            corr +=1;\n",
    "        else\n",
    "            println(ans)\n",
    "            println(\"Answer: \",M[n,1],\" x \",M[n,2],\" = \",prod,\" ✅\",\"\\n\")\n",
    "        end \n",
    "    end\n",
    "    # Checks how well the user did in their multiplication and with varying\n",
    "    # responses\n",
    "    if corr == n\n",
    "        print(\"Amazing!! You solved all \",n,\" questions correctly 😃\")\n",
    "    elseif corr/n >= 0.8\n",
    "        print(\"Great Job! You solved \",corr,\" of \",n,\" questions correctly\")\n",
    "    # A special case for users that fail to get any questions correct\n",
    "    elseif corr == 0\n",
    "        println(\"Can we try again? 🥺 (y/n)\\n\")\n",
    "        flush(stdout)\n",
    "        # Asking the user if they would like to try again\n",
    "        if lowercase(readline()) == \"y\"\n",
    "            println(\"You are awesome! Let's try again 🥰\\n\")\n",
    "            # Recursion which leads to a new set of n multiplication\n",
    "            # problems to solve\n",
    "            mathGame(n)\n",
    "            # Could put a bool here to make more encouraging messages\n",
    "            # in the second playthrough.\n",
    "        end\n",
    "\n",
    "    else\n",
    "        print(\"You solved \",corr,\" of \",n,\" questions correctly\")\n",
    "        \n",
    "    end\n",
    "end"
   ]
  },
  {
   "cell_type": "code",
   "execution_count": 86,
   "metadata": {},
   "outputs": [
    {
     "name": "stdout",
     "output_type": "stream",
     "text": [
      "Please solve the following multiplication problem: \n",
      "\n",
      "3 x 7 = 21 ✅✅\n",
      "\n",
      "8 x 3 = 24 ✅✅\n",
      "\n",
      "3 x 6 = 18 ✅✅\n",
      "\n",
      "8 x 8 = 64 ✅✅\n",
      "\n",
      "7 x 4 = 28 ✅✅\n",
      "\n",
      "1 x 2 = 2 ✅✅\n",
      "\n",
      "Amazing!! You solved all 6 questions correctly 😃"
     ]
    }
   ],
   "source": [
    "mathGame(6)"
   ]
  }
 ],
 "metadata": {
  "kernelspec": {
   "display_name": "Julia 1.8.2",
   "language": "julia",
   "name": "julia-1.8"
  },
  "language_info": {
   "file_extension": ".jl",
   "mimetype": "application/julia",
   "name": "julia",
   "version": "1.8.2"
  },
  "orig_nbformat": 4
 },
 "nbformat": 4,
 "nbformat_minor": 2
}
