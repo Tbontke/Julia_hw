{
 "cells": [
  {
   "cell_type": "markdown",
   "metadata": {},
   "source": [
    "# Function Practice Exercises\n",
    "\n",
    "Problems are arranged in increasing difficulty:\n",
    "* Warmup - these can be solved using basic comparisons and methods\n",
    "* Level 1 - these may involve if/then conditional statements and simple methods\n",
    "* Challenging - these will take some creativity to solve"
   ]
  },
  {
   "cell_type": "markdown",
   "metadata": {},
   "source": [
    "## WARMUP SECTION:"
   ]
  },
  {
   "cell_type": "markdown",
   "metadata": {},
   "source": [
    "#### Write a function that takes a number K as input, and then reads in K names (one at a time), storeing them in a list, and then print them in reverse (prefer not to use the reverse method)"
   ]
  },
  {
   "cell_type": "code",
   "execution_count": null,
   "metadata": {},
   "outputs": [],
   "source": [
    "\"\"\"Trevor Bontke, tbontke@central.uh.edu\n",
    "\n",
    "     Program #5: Function Practice\n",
    "     221 Julia, Fall 2022\n",
    "\n",
    "     There are various small programming excercises presented to become more familiar with functions and the basics of Julia employeed in previous assigments. \"\"\""
   ]
  },
  {
   "cell_type": "code",
   "execution_count": 4,
   "metadata": {},
   "outputs": [
    {
     "name": "stdout",
     "output_type": "stream",
     "text": [
      "How many names do you need to input?\n",
      "Please enter a name: Trevor\n",
      "Please enter a name: Anjaly\n",
      "Please enter a name: Bikash\n",
      "Please enter a name: Molly\n",
      "Please enter a name: Cody\n",
      "Cody\n",
      "Molly\n",
      "Bikash\n",
      "Anjaly\n",
      "Trevor\n"
     ]
    }
   ],
   "source": [
    "\n",
    "function get_names_rev()\n",
    "    print(\"How many names do you need to input?\\n\")\n",
    "    flush(stdout)\n",
    "    K = parse(Int32,readline())\n",
    "\n",
    "    names = []\n",
    "    # Simple for loop that requests a name K times and pushes \n",
    "    # them into the array called names\n",
    "    for i in 1:K\n",
    "        print(\"Please enter a name: \")\n",
    "        flush(stdout)\n",
    "        push!(names,readline()) \n",
    "        println(names[i])\n",
    "    end\n",
    "    # While loop that acts as a backward iterator to print the\n",
    "    # names out in reverse order\n",
    "    while K > 0\n",
    "        println(names[K])\n",
    "        K -= 1\n",
    "    end\n",
    "end\n",
    "\n",
    "# Function call\n",
    "get_names_rev()"
   ]
  },
  {
   "cell_type": "markdown",
   "metadata": {},
   "source": [
    "#### LESSER OF TWO EVENS: Write a function that returns the lesser of two given numbers *if* both numbers are even, but returns the greater if one or both numbers are odd\n",
    "    lesser_of_two_evens(2,4) --> 2\n",
    "    lesser_of_two_evens(2,5) --> 5"
   ]
  },
  {
   "cell_type": "code",
   "execution_count": 114,
   "metadata": {},
   "outputs": [
    {
     "data": {
      "text/plain": [
       "lesser_of_two_evens (generic function with 1 method)"
      ]
     },
     "execution_count": 114,
     "metadata": {},
     "output_type": "execute_result"
    }
   ],
   "source": [
    "function lesser_of_two_evens(a,b)\n",
    "    # checks if the values are even using the modulo operator\n",
    "    if a%2 == b%2 == 0\n",
    "        if a < b\n",
    "            return a\n",
    "        else\n",
    "            return b\n",
    "        end\n",
    "    else\n",
    "        if a > b\n",
    "            return a\n",
    "        else\n",
    "            return b\n",
    "        end\n",
    "    end\n",
    "end"
   ]
  },
  {
   "cell_type": "code",
   "execution_count": 11,
   "metadata": {},
   "outputs": [
    {
     "data": {
      "text/plain": [
       "6"
      ]
     },
     "execution_count": 11,
     "metadata": {},
     "output_type": "execute_result"
    }
   ],
   "source": [
    "lesser_of_two_evens(6,10)"
   ]
  },
  {
   "cell_type": "code",
   "execution_count": 12,
   "metadata": {},
   "outputs": [],
   "source": [
    "# Check\n",
    "@assert lesser_of_two_evens(2,4)==2"
   ]
  },
  {
   "cell_type": "code",
   "execution_count": 13,
   "metadata": {},
   "outputs": [],
   "source": [
    "# Check\n",
    "@assert lesser_of_two_evens(2,5)==5"
   ]
  },
  {
   "cell_type": "markdown",
   "metadata": {},
   "source": [
    "#### ANIMAL CRACKERS: Write a function takes a two-word string and returns True if both words begin with same letter\n",
    "    animal_crackers('Levelheaded Llama') --> True\n",
    "    animal_crackers('Crazy Kangaroo') --> False"
   ]
  },
  {
   "cell_type": "code",
   "execution_count": 37,
   "metadata": {
    "collapsed": true
   },
   "outputs": [
    {
     "data": {
      "text/plain": [
       "animal_crackers (generic function with 1 method)"
      ]
     },
     "execution_count": 37,
     "metadata": {},
     "output_type": "execute_result"
    }
   ],
   "source": [
    "function animal_crackers(text)\n",
    "    # Using the split() method to get two strings and then\n",
    "    # comparing their first letter\n",
    "    str1,str2 = split(text,\" \")\n",
    "    # Note that this will be case sensitive unless lowercase()\n",
    "    # is used\n",
    "    if str1[1] == str2[1]\n",
    "        print(\"True\")\n",
    "    else\n",
    "        print(\"False\")\n",
    "    end\n",
    "end\n",
    "\n"
   ]
  },
  {
   "cell_type": "code",
   "execution_count": 170,
   "metadata": {
    "collapsed": true
   },
   "outputs": [
    {
     "name": "stdout",
     "output_type": "stream",
     "text": [
      "True"
     ]
    }
   ],
   "source": [
    "# Check\n",
    "animal_crackers(\"Levelheaded Llama\")"
   ]
  },
  {
   "cell_type": "code",
   "execution_count": 171,
   "metadata": {},
   "outputs": [
    {
     "name": "stdout",
     "output_type": "stream",
     "text": [
      "False"
     ]
    }
   ],
   "source": [
    "# Check\n",
    "animal_crackers(\"levelheaded Llama\")"
   ]
  },
  {
   "cell_type": "code",
   "execution_count": 28,
   "metadata": {
    "collapsed": true
   },
   "outputs": [
    {
     "name": "stdout",
     "output_type": "stream",
     "text": [
      "False"
     ]
    }
   ],
   "source": [
    "# Check\n",
    "animal_crackers(\"Crazy Kangaroo\")"
   ]
  },
  {
   "cell_type": "code",
   "execution_count": 53,
   "metadata": {},
   "outputs": [
    {
     "data": {
      "text/plain": [
       "animal_crackers2 (generic function with 1 method)"
      ]
     },
     "execution_count": 53,
     "metadata": {},
     "output_type": "execute_result"
    }
   ],
   "source": [
    "function animal_crackers2(text)\n",
    "    i=1\n",
    "    # Using a while loop to search for a space\n",
    "    while text[i] != ' '\n",
    "        i += 1\n",
    "    end\n",
    "\n",
    "    i += 1\n",
    "    # taking advantage of the i iterator to look at the char\n",
    "    # after the space (i.e. the second word)\n",
    "    if text[1] == text[i]\n",
    "        print(\"True\")\n",
    "    else\n",
    "        print(\"False\")\n",
    "    end\n",
    "end"
   ]
  },
  {
   "cell_type": "code",
   "execution_count": 54,
   "metadata": {},
   "outputs": [
    {
     "name": "stdout",
     "output_type": "stream",
     "text": [
      "True"
     ]
    }
   ],
   "source": [
    "# Check\n",
    "animal_crackers2(\"Levelheaded Llama\")"
   ]
  },
  {
   "cell_type": "code",
   "execution_count": 55,
   "metadata": {},
   "outputs": [
    {
     "name": "stdout",
     "output_type": "stream",
     "text": [
      "False"
     ]
    }
   ],
   "source": [
    "# Check\n",
    "animal_crackers2(\"Crazy Kangaroo\")"
   ]
  },
  {
   "cell_type": "markdown",
   "metadata": {},
   "source": [
    "#### MAKES TWENTY: Given two integers, return True if the sum of the integers is 20 *or* if one of the integers is 20. If not, return False\n",
    "\n",
    "    makes_twenty(20,10) --> True\n",
    "    makes_twenty(12,8) --> True\n",
    "    makes_twenty(2,3) --> False"
   ]
  },
  {
   "cell_type": "code",
   "execution_count": 57,
   "metadata": {
    "collapsed": true
   },
   "outputs": [
    {
     "data": {
      "text/plain": [
       "makes_twenty (generic function with 1 method)"
      ]
     },
     "execution_count": 57,
     "metadata": {},
     "output_type": "execute_result"
    }
   ],
   "source": [
    "function makes_twenty(n1,n2)\n",
    "    if n1 + n2 == 20\n",
    "        print(\"True\")\n",
    "    elseif n1 == 20 || n2 == 20\n",
    "        print(\"True\")\n",
    "    else\n",
    "        print(\"False\")\n",
    "    end\n",
    "end"
   ]
  },
  {
   "cell_type": "code",
   "execution_count": 58,
   "metadata": {
    "collapsed": true
   },
   "outputs": [
    {
     "name": "stdout",
     "output_type": "stream",
     "text": [
      "True"
     ]
    }
   ],
   "source": [
    "# Check\n",
    "makes_twenty(20,10)"
   ]
  },
  {
   "cell_type": "code",
   "execution_count": 59,
   "metadata": {
    "collapsed": true
   },
   "outputs": [
    {
     "name": "stdout",
     "output_type": "stream",
     "text": [
      "False"
     ]
    }
   ],
   "source": [
    "# Check\n",
    "makes_twenty(2,3)"
   ]
  },
  {
   "cell_type": "code",
   "execution_count": 60,
   "metadata": {},
   "outputs": [
    {
     "name": "stdout",
     "output_type": "stream",
     "text": [
      "True"
     ]
    }
   ],
   "source": [
    "# Check\n",
    "makes_twenty(7,13)"
   ]
  },
  {
   "cell_type": "markdown",
   "metadata": {},
   "source": [
    "# LEVEL 1 PROBLEMS"
   ]
  },
  {
   "cell_type": "markdown",
   "metadata": {},
   "source": [
    "#### OLD MACDONALD: Write a function that capitalizes the first and fourth letters of a name\n",
    "     \n",
    "    old_macdonald('macdonald') --> MacDonald\n",
    "    \n",
    "Note: `'macdonald'.capitalize()` returns `'Macdonald'`"
   ]
  },
  {
   "cell_type": "code",
   "execution_count": 119,
   "metadata": {
    "collapsed": true
   },
   "outputs": [
    {
     "data": {
      "text/plain": [
       "old_macdonald (generic function with 1 method)"
      ]
     },
     "execution_count": 119,
     "metadata": {},
     "output_type": "execute_result"
    }
   ],
   "source": [
    "function old_macdonald(name)\n",
    "    # Using ranged for loop and enumerate to access the first and \n",
    "    # fourth char in name and then capitalizing then with\n",
    "    # uppercase() method\n",
    "    for (i,v) in enumerate(name)\n",
    "        if i == 1 || i == 4\n",
    "            print(uppercase(v))\n",
    "        else\n",
    "            print(v)\n",
    "        end\n",
    "    end\n",
    "end"
   ]
  },
  {
   "cell_type": "code",
   "execution_count": 120,
   "metadata": {
    "collapsed": true
   },
   "outputs": [
    {
     "name": "stdout",
     "output_type": "stream",
     "text": [
      "MacDonald"
     ]
    }
   ],
   "source": [
    "# Check\n",
    "old_macdonald(\"macdonald\")"
   ]
  },
  {
   "cell_type": "code",
   "execution_count": null,
   "metadata": {},
   "outputs": [],
   "source": [
    "function old_macdonald(name)\n",
    "    j = 0\n",
    "    for i in name\n",
    "        j += 1\n",
    "        if j == 1 || j == 4\n",
    "            print(uppercase(i))\n",
    "        else\n",
    "            print(i)\n",
    "        end\n",
    "    end\n",
    "end"
   ]
  },
  {
   "cell_type": "markdown",
   "metadata": {},
   "source": [
    "#### MASTER YODA: Given a sentence, return a sentence with the words reversed\n",
    "\n",
    "    master_yoda('I am home') --> 'home am I'\n",
    "    master_yoda('We are ready') --> 'ready are We'\n",
    "    \n"
   ]
  },
  {
   "cell_type": "code",
   "execution_count": 123,
   "metadata": {
    "collapsed": true
   },
   "outputs": [
    {
     "data": {
      "text/plain": [
       "master_yoda (generic function with 1 method)"
      ]
     },
     "execution_count": 123,
     "metadata": {},
     "output_type": "execute_result"
    }
   ],
   "source": [
    "function master_yoda(text)\n",
    "    temp = \"\"\n",
    "    words = []\n",
    "    for (i,v) in enumerate(text)\n",
    "        # Checking for spaces in the string\n",
    "        if v == ' '\n",
    "            # Adding a full word to the word array\n",
    "            push!(words, temp)\n",
    "            temp = \"\"\n",
    "        elseif i == length(text)\n",
    "            # Special case when adding the last word, i.e. no\n",
    "            # space delimiter\n",
    "            temp *= v\n",
    "            push!(words, temp)\n",
    "        else\n",
    "            # This case continues concatenating chars to form\n",
    "            # the next word in the string\n",
    "            temp *= v\n",
    "        end\n",
    "    end\n",
    "    # Using the reverse() method on the word list but it is\n",
    "    # a simple matter to do this manually with an iterator\n",
    "    for i in reverse(words)\n",
    "        println(i)\n",
    "    end\n",
    "\n",
    "end"
   ]
  },
  {
   "cell_type": "code",
   "execution_count": 124,
   "metadata": {
    "collapsed": true
   },
   "outputs": [
    {
     "name": "stdout",
     "output_type": "stream",
     "text": [
      "home\n",
      "am\n",
      "I\n"
     ]
    }
   ],
   "source": [
    "# Check\n",
    "master_yoda(\"I am home\")"
   ]
  },
  {
   "cell_type": "code",
   "execution_count": 125,
   "metadata": {
    "collapsed": true
   },
   "outputs": [
    {
     "name": "stdout",
     "output_type": "stream",
     "text": [
      "ready\n",
      "are\n",
      "We\n"
     ]
    }
   ],
   "source": [
    "# Check\n",
    "master_yoda(\"We are ready\")"
   ]
  },
  {
   "cell_type": "markdown",
   "metadata": {},
   "source": [
    "#### ALMOST THERE: Given an integer n, return True if n is within 10 of either 100 or 200\n",
    "\n",
    "    almost_there(90) --> True\n",
    "    almost_there(104) --> True\n",
    "    almost_there(150) --> False\n",
    "    almost_there(209) --> True\n",
    "    \n",
    "NOTE: `abs(num)` returns the absolute value of a number"
   ]
  },
  {
   "cell_type": "code",
   "execution_count": 108,
   "metadata": {
    "collapsed": true
   },
   "outputs": [
    {
     "data": {
      "text/plain": [
       "almost_there (generic function with 1 method)"
      ]
     },
     "execution_count": 108,
     "metadata": {},
     "output_type": "execute_result"
    }
   ],
   "source": [
    "function almost_there(n)\n",
    "    # If n is within 10 of 100 or 200 it should be between 0 and 1\n",
    "    # when its difference is divided by 10\n",
    "    if abs(n - 100)/10 <= 1 || abs(n - 200)/10 <= 1\n",
    "        print(\"True\")\n",
    "    else\n",
    "        print(\"False\")\n",
    "    end\n",
    "end"
   ]
  },
  {
   "cell_type": "code",
   "execution_count": 109,
   "metadata": {
    "collapsed": true
   },
   "outputs": [
    {
     "name": "stdout",
     "output_type": "stream",
     "text": [
      "True"
     ]
    }
   ],
   "source": [
    "# Check\n",
    "almost_there(104)"
   ]
  },
  {
   "cell_type": "code",
   "execution_count": 112,
   "metadata": {},
   "outputs": [
    {
     "name": "stdout",
     "output_type": "stream",
     "text": [
      "True"
     ]
    }
   ],
   "source": [
    "# Check\n",
    "almost_there(90)"
   ]
  },
  {
   "cell_type": "code",
   "execution_count": 110,
   "metadata": {
    "collapsed": true
   },
   "outputs": [
    {
     "name": "stdout",
     "output_type": "stream",
     "text": [
      "False"
     ]
    }
   ],
   "source": [
    "# Check\n",
    "almost_there(150)"
   ]
  },
  {
   "cell_type": "code",
   "execution_count": 111,
   "metadata": {
    "collapsed": true
   },
   "outputs": [
    {
     "name": "stdout",
     "output_type": "stream",
     "text": [
      "True"
     ]
    }
   ],
   "source": [
    "# Check\n",
    "almost_there(209)"
   ]
  },
  {
   "cell_type": "code",
   "execution_count": 113,
   "metadata": {},
   "outputs": [
    {
     "name": "stdout",
     "output_type": "stream",
     "text": [
      "True"
     ]
    }
   ],
   "source": [
    "# Check\n",
    "almost_there(190)"
   ]
  },
  {
   "cell_type": "markdown",
   "metadata": {},
   "source": [
    "# CHALLENGING PROBLEMS"
   ]
  },
  {
   "cell_type": "markdown",
   "metadata": {},
   "source": [
    "#### SPY GAME: Write a function that takes in a list of integers and returns True if it contains 007 in order\n",
    "\n",
    "     spy_game([1,2,4,0,0,7,5]) --> True\n",
    "     spy_game([1,0,2,4,0,5,7]) --> True\n",
    "     spy_game([1,7,2,0,4,5,0]) --> False\n"
   ]
  },
  {
   "cell_type": "code",
   "execution_count": 165,
   "metadata": {
    "collapsed": true
   },
   "outputs": [
    {
     "data": {
      "text/plain": [
       "spy_game (generic function with 1 method)"
      ]
     },
     "execution_count": 165,
     "metadata": {},
     "output_type": "execute_result"
    }
   ],
   "source": [
    "function spy_game(nums)\n",
    "    # Checks if the current first value in the list is 0 and \n",
    "    # checks if the list has at least 3 elements (007 has 3 chars)\n",
    "    while nums[1] != 0 && length(nums) >= 3\n",
    "        # Pop the first element if it isn't 0 until it is or there\n",
    "        # are less than 3 elements\n",
    "        popfirst!(nums)\n",
    "    end\n",
    "    # If there are less that 3 elements left 007 can't be found\n",
    "    if length(nums) < 3\n",
    "        print(\"False\")\n",
    "    # It is already know that the first element is 0 so we check\n",
    "    # for the next two values to see if they are 0 and 7\n",
    "    elseif nums[2]== 0 && nums[3] == 7\n",
    "            print(\"True\")\n",
    "    # Use recursion to check for another 0 in the list\n",
    "    else\n",
    "        popfirst!(nums)\n",
    "        spy_game(nums)\n",
    "    end\n",
    "end"
   ]
  },
  {
   "cell_type": "code",
   "execution_count": 166,
   "metadata": {
    "collapsed": true
   },
   "outputs": [
    {
     "name": "stdout",
     "output_type": "stream",
     "text": [
      "True"
     ]
    }
   ],
   "source": [
    "# Check\n",
    "spy_game([1,2,4,0,0,7,5])"
   ]
  },
  {
   "cell_type": "code",
   "execution_count": 167,
   "metadata": {
    "collapsed": true
   },
   "outputs": [
    {
     "name": "stdout",
     "output_type": "stream",
     "text": [
      "False"
     ]
    }
   ],
   "source": [
    "# Check\n",
    "spy_game([1,0,2,4,0,5,7])"
   ]
  },
  {
   "cell_type": "code",
   "execution_count": 168,
   "metadata": {
    "collapsed": true
   },
   "outputs": [
    {
     "name": "stdout",
     "output_type": "stream",
     "text": [
      "False"
     ]
    }
   ],
   "source": [
    "# Check\n",
    "spy_game([1,7,2,0,4,5,0])"
   ]
  },
  {
   "cell_type": "markdown",
   "metadata": {},
   "source": [
    "## Great Job!"
   ]
  }
 ],
 "metadata": {
  "kernelspec": {
   "display_name": "Julia 1.8.2",
   "language": "julia",
   "name": "julia-1.8"
  },
  "language_info": {
   "file_extension": ".jl",
   "mimetype": "application/julia",
   "name": "julia",
   "version": "1.8.2"
  }
 },
 "nbformat": 4,
 "nbformat_minor": 2
}
