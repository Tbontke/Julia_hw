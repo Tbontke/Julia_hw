{
 "cells": [
  {
   "cell_type": "markdown",
   "metadata": {},
   "source": [
    "# THE PROBLEM\n",
    "\n",
    "You have been in a fancy restaurant with four of your best friends. All the individual bills are brought to the table and it is time to add the tip and to compute everyone’s share. Since nobody ordered anything extravagantly expensive, you decide that everyone will pay an equal share of the bill.\n",
    "\n",
    "---\n",
    "\n",
    "Inside your program, you have to declare Eleven variables: one for each of the names and one for each of the bills. Assume the group has five people. Request names of the five attendees and store them in variables ‘name1’, …, ‘name5’. Then assign bills for each person and store each of them in the corresponding variables: ‘bill1’, …,’bill5’. Print out both of those sets of variables. Next, ask for input for the tip percentage and compute and print the total bill and the amount each person must pay.\n",
    "\n",
    "You are NOT ALLOWED to use if, for loops, or lists.  All variables must be declared and used.  You will get a ZERO if you do not comply with the instructions.\n",
    "\n",
    "---\n",
    "\n",
    "Your program should start with a documentation string that includes your name, the program name, the Course number, the semester, and a short description of the program, as in:\n",
    "\n",
    " \n",
    "\n",
    "\"\"\"  Tanvir Rahman, Peoplesoft ID: 111111\n",
    "\n",
    "     Program #1: Sharing the bill\n",
    "\n",
    "     221 Julia, Spring 20..\n",
    "\n",
    "     This program computes individual shares of a restaurant bill. \"\"\"\n",
    "\n",
    "Note that the text above starts and ends with three double quotes.\n",
    "\n",
    "---\n",
    "\n",
    "#### HINTS\n",
    "\n",
    "1. The easiest way to output numbers with two decimals is to use the  print to insert them into a string\n",
    "\n",
    "using Printf \n",
    "\n",
    "result = 2.333333; \n",
    "\n",
    "@printf(\"average is \\U1F4B2%.2f\", result);\n",
    "\n",
    "average is 💲2.33\n",
    "\n",
    "---\n",
    "\n",
    "**Output:** The following example demonstrates the expected output from running your program.\n",
    "\n",
    "Enter name of friend: David\n",
    "\n",
    "Enter name of friend: John\n",
    "\n",
    "Enter name of friend: Jane\n",
    "\n",
    "Enter name of friend: Smith\n",
    "\n",
    "Enter name of friend: Ali\n",
    "\n",
    "*Note that these names and bills must be entered by the user from the keyboard and not hard coded in your program.*\n",
    "\n",
    "Enter bill for David: 25.2\n",
    "\n",
    "Enter bill for John: 22.99\n",
    "\n",
    "Enter bill for Jane: 23.5\n",
    "\n",
    "Enter bill for Smith: 24.0\n",
    "\n",
    "Enter bill for Ali: 24.8\n",
    "\n",
    " \n",
    "\n",
    "Names of Friends: David, John, Jane, Smith, Ali\n",
    "\n",
    "Individual bills: 25.2, 22.99, 23.5, 24.0, 24.8\n",
    "\n",
    "Enter tip percentage: 20\n",
    "\n",
    "Total bill plus tip: $ 144.59\n",
    "\n",
    "Each of us must pay $ 28.92\n",
    "\n",
    "--- \n",
    "\n",
    "**What to submit:** your source code properly documented in a .ipynb file named according to the instructions: FirstName_LastName_assignmentNumber.ipynb\n",
    "\n",
    "**How to submit:** Please submit homework in moodle Login into moodle with you UH credentials look up the assignment and submit your work."
   ]
  },
  {
   "cell_type": "markdown",
   "metadata": {},
   "source": [
    "\"\"\"Trevor Bontke, tbontke@central.uh.edu\n",
    "\n",
    "     Program #1: Sharing the bill\n",
    "\n",
    "     221 Julia, Fall 2022\n",
    "\n",
    "     This program prompts the users to enter their name and the name of the four friends they recently had dinner with. At each prompt the user will also be asked to enter their bill amount. Finally the user is asked to define a tip percentage and the total bill is then calculated and split evenly if possible. \"\"\""
   ]
  },
  {
   "cell_type": "code",
   "execution_count": 172,
   "metadata": {},
   "outputs": [
    {
     "data": {
      "text/plain": [
       "\"Trevor Bontke, tbontke@central.uh.edu\\n\\nProgram #1: Sharing the bill\\n\\n221 Julia, Fall 2022\\n\\nThis program prompts the users to enter their name and the name of the four friends they recently had dinner with. At each prompt the user will also be asked to enter their bill amount. Finally the user is asked to define a tip percentage and the total bill is then calculated and split evenly if possible. \""
      ]
     },
     "execution_count": 172,
     "metadata": {},
     "output_type": "execute_result"
    }
   ],
   "source": [
    "\"\"\"Trevor Bontke, tbontke@central.uh.edu\n",
    "\n",
    "     Program #1: Sharing the bill\n",
    "\n",
    "     221 Julia, Fall 2022\n",
    "\n",
    "     This program prompts the users to enter their name and the name of the four friends they recently had dinner with. At each prompt the user will also be asked to enter their bill amount. Finally the user is asked to define a tip percentage and the total bill is then calculated and split evenly if possible. \"\"\""
   ]
  },
  {
   "cell_type": "markdown",
   "metadata": {},
   "source": [
    "### *Request name and bill for each person*"
   ]
  },
  {
   "cell_type": "code",
   "execution_count": 3,
   "metadata": {},
   "outputs": [],
   "source": [
    "# Allows the use of @printf method for float formating\n",
    "using Printf"
   ]
  },
  {
   "cell_type": "code",
   "execution_count": 96,
   "metadata": {},
   "outputs": [
    {
     "name": "stdout",
     "output_type": "stream",
     "text": [
      "What is your name?\n",
      "Trevor\n",
      "\n",
      "How much did you pay?\n",
      "$22.95"
     ]
    }
   ],
   "source": [
    "# Prints question asking for the user's name\n",
    "print(\"What is your name?\\n\")\n",
    "# Immediately prints out inputs to make reading easier\n",
    "flush(stdout)\n",
    "# Opens Input to readline from user to assign name value\n",
    "name1 = readline()\n",
    "# Prints the user's name\n",
    "print(name1,\"\\n\\n\")\n",
    "\n",
    "# Prints question asking for the user's bill\n",
    "print(\"How much did you pay?\\n\")\n",
    "# Immediately prints out inputs to make reading easier\n",
    "flush(stdout)\n",
    "# Opens Input to readline from user to assign bill value as Float32\n",
    "bill1 = parse(Float32,readline())\n",
    "# Prints the user's bill in dollars\n",
    "@printf(\"\\$%.2f\",bill1)"
   ]
  },
  {
   "cell_type": "code",
   "execution_count": 5,
   "metadata": {},
   "outputs": [
    {
     "name": "stdout",
     "output_type": "stream",
     "text": [
      "What is your 1st friend's name?\n",
      "Anjaly\n",
      "\n",
      "How much did Anjaly pay?\n",
      "$19.82"
     ]
    }
   ],
   "source": [
    "# Prints question asking for the friend's name\n",
    "print(\"What is your 1st friend's name?\\n\")\n",
    "flush(stdout)\n",
    "name2 = readline()\n",
    "# Prints the friend's name\n",
    "print(name2,\"\\n\\n\")\n",
    "\n",
    "# Prints question asking for the friends's bill\n",
    "print(\"How much did \",name2,\" pay?\\n\")\n",
    "flush(stdout)\n",
    "bill2 = parse(Float32,readline())\n",
    "# Prints the friend's bill in dollars\n",
    "@printf(\"\\$%.2f\",bill2)"
   ]
  },
  {
   "cell_type": "code",
   "execution_count": 6,
   "metadata": {},
   "outputs": [
    {
     "name": "stdout",
     "output_type": "stream",
     "text": [
      "What is your 2nd friend's name?\n",
      "Bikash\n",
      "\n",
      "How much did Bikash pay?\n",
      "$23.10"
     ]
    }
   ],
   "source": [
    "print(\"What is your 2nd friend's name?\\n\")\n",
    "flush(stdout)\n",
    "name3 = readline()\n",
    "print(name3,\"\\n\\n\")\n",
    "\n",
    "print(\"How much did \",name3,\" pay?\\n\")\n",
    "flush(stdout)\n",
    "bill3 = parse(Float32,readline())\n",
    "@printf(\"\\$%.2f\",bill3)"
   ]
  },
  {
   "cell_type": "code",
   "execution_count": 7,
   "metadata": {},
   "outputs": [
    {
     "name": "stdout",
     "output_type": "stream",
     "text": [
      "What is your 3rd friend's name?\n",
      "Molly\n",
      "\n",
      "How much did Molly pay?\n",
      "$21.25"
     ]
    }
   ],
   "source": [
    "print(\"What is your 3rd friend's name?\\n\")\n",
    "flush(stdout)\n",
    "name4 = readline()\n",
    "print(name4,\"\\n\\n\")\n",
    "\n",
    "print(\"How much did \",name4,\" pay?\\n\")\n",
    "flush(stdout)\n",
    "bill4 = parse(Float32,readline())\n",
    "@printf(\"\\$%.2f\",bill4)"
   ]
  },
  {
   "cell_type": "code",
   "execution_count": 8,
   "metadata": {},
   "outputs": [
    {
     "name": "stdout",
     "output_type": "stream",
     "text": [
      "What is your 4th friend's name?\n",
      "Cody\n",
      "\n",
      "How much did Cody pay?\n",
      "$20.99"
     ]
    }
   ],
   "source": [
    "print(\"What is your 4th friend's name?\\n\")\n",
    "flush(stdout)\n",
    "name5 = readline()\n",
    "print(name5,\"\\n\\n\")\n",
    "\n",
    "print(\"How much did \",name5,\" pay?\\n\")\n",
    "flush(stdout)\n",
    "bill5 = parse(Float32,readline())\n",
    "@printf(\"\\$%.2f\",bill5)"
   ]
  },
  {
   "cell_type": "markdown",
   "metadata": {},
   "source": [
    "### *Request for tip percentage*"
   ]
  },
  {
   "cell_type": "code",
   "execution_count": 9,
   "metadata": {},
   "outputs": [
    {
     "name": "stdout",
     "output_type": "stream",
     "text": [
      "What percentage of the total bill would you like to tip?\n",
      "18%"
     ]
    }
   ],
   "source": [
    "# Asks the user what tip percentage they will pay\n",
    "print(\"What percentage of the total bill would you like to tip?\\n\")\n",
    "flush(stdout)\n",
    "tip_perc = parse(Int32,readline())\n",
    "print(tip_perc,\"%\")"
   ]
  },
  {
   "cell_type": "markdown",
   "metadata": {},
   "source": [
    "### *Calculating the total bill and tip: Without flow control*"
   ]
  },
  {
   "cell_type": "code",
   "execution_count": 138,
   "metadata": {},
   "outputs": [
    {
     "name": "stdout",
     "output_type": "stream",
     "text": [
      "The cost before tipping is: $108.11"
     ]
    }
   ],
   "source": [
    "# Calculates the total cost of the food before the tip is added\n",
    "subtotal = bill1 + bill2 + bill3 + bill4 + bill5;\n",
    "@printf(\"The cost before tipping is: \\$%.2f\",subtotal)"
   ]
  },
  {
   "cell_type": "code",
   "execution_count": 139,
   "metadata": {},
   "outputs": [
    {
     "name": "stdout",
     "output_type": "stream",
     "text": [
      "\n",
      "The total cost after tipping is: $127.55"
     ]
    }
   ],
   "source": [
    "# Calculates the total cost of the food plus tip\n",
    "per_person = round(subtotal/5*(1+(tip_perc/100)),digits=2)\n",
    "total = per_person*5;\n",
    "@printf(\"\\nThe total cost after tipping is: \\$%.2f\",total)"
   ]
  },
  {
   "cell_type": "markdown",
   "metadata": {},
   "source": [
    "### *Determining the bill for each person: Without control flow*"
   ]
  },
  {
   "cell_type": "code",
   "execution_count": 140,
   "metadata": {},
   "outputs": [
    {
     "name": "stdout",
     "output_type": "stream",
     "text": [
      "\n",
      "The total cost per person is: $25.51"
     ]
    }
   ],
   "source": [
    "# Prints the cost per person but is not the exact tip amount defined by\n",
    "# the tip percentage. That can only be accomplished using flow control\n",
    "@printf(\"\\nThe total cost per person is: \\$%.2f\",per_person)"
   ]
  },
  {
   "cell_type": "markdown",
   "metadata": {},
   "source": [
    "### *The true tip percentage: Without control flow*"
   ]
  },
  {
   "cell_type": "code",
   "execution_count": 146,
   "metadata": {},
   "outputs": [
    {
     "data": {
      "text/plain": [
       "17.98168532050689"
      ]
     },
     "execution_count": 146,
     "metadata": {},
     "output_type": "execute_result"
    }
   ],
   "source": [
    "tip_true = (trunc(Int, total*100)-trunc(Int, subtotal*100))/trunc(Int, subtotal*100)*100\n"
   ]
  },
  {
   "cell_type": "markdown",
   "metadata": {},
   "source": [
    "### *Calculating the total bill and tip: With flow control*"
   ]
  },
  {
   "cell_type": "code",
   "execution_count": 142,
   "metadata": {},
   "outputs": [
    {
     "name": "stdout",
     "output_type": "stream",
     "text": [
      "The cost before tipping is: $108.11"
     ]
    }
   ],
   "source": [
    "# Calculates the total cost of the food before the tip is added\n",
    "subtotal_fc = bill1 + bill2 + bill3 + bill4 + bill5;\n",
    "@printf(\"The cost before tipping is: \\$%.2f\",subtotal_fc)"
   ]
  },
  {
   "cell_type": "code",
   "execution_count": 143,
   "metadata": {},
   "outputs": [
    {
     "name": "stdout",
     "output_type": "stream",
     "text": [
      "\n",
      "The total cost after tipping is: $127.57"
     ]
    }
   ],
   "source": [
    "# Calculates the total cost of the food plus tip (exact method)\n",
    "total_fc = round(subtotal_fc*(1+(tip_perc/100)),digits=2);\n",
    "@printf(\"\\nThe total cost after tipping is: \\$%.2f\",total_fc)"
   ]
  },
  {
   "cell_type": "markdown",
   "metadata": {},
   "source": [
    "### *Determining the bill for each person: With control flow*"
   ]
  },
  {
   "cell_type": "code",
   "execution_count": 144,
   "metadata": {},
   "outputs": [
    {
     "name": "stdout",
     "output_type": "stream",
     "text": [
      "\n",
      "The total cost for my friends is: $25.51\n",
      "The total for me is: $25.53"
     ]
    }
   ],
   "source": [
    "# Determines if the bill would be split unevenly based on the total\n",
    "extra_person = round(total_fc%0.05,digits=2)\n",
    "# If the bill is uneven then the user is pays for the extra cost \n",
    "# ($0.04 at most)\n",
    "# Else, the bill is split evenly between the user and their 4 friends\n",
    "if extra_person != 0.05\n",
    "    per_person_fc = (total_fc-extra_person)/5\n",
    "    @printf(\"\\nThe total cost for my friends is: \\$%.2f\",per_person_fc)\n",
    "    @printf(\"\\nThe total for me is: \\$%.2f\",per_person_fc+extra_person)\n",
    "else\n",
    "    per_person_fc = total_fc/5\n",
    "    @printf(\"\\nThe total cost per person is: \\$%.2f\",per_person_fc)\n",
    "end"
   ]
  },
  {
   "cell_type": "code",
   "execution_count": 145,
   "metadata": {},
   "outputs": [
    {
     "data": {
      "text/plain": [
       "18.000184996762556"
      ]
     },
     "execution_count": 145,
     "metadata": {},
     "output_type": "execute_result"
    }
   ],
   "source": [
    "tip_true_fc = (trunc(Int, total_fc*100)-trunc(Int, subtotal_fc*100))/trunc(Int, subtotal_fc*100)*100"
   ]
  }
 ],
 "metadata": {
  "kernelspec": {
   "display_name": "Julia 1.8.2",
   "language": "julia",
   "name": "julia-1.8"
  },
  "language_info": {
   "file_extension": ".jl",
   "mimetype": "application/julia",
   "name": "julia",
   "version": "1.8.2"
  },
  "orig_nbformat": 4
 },
 "nbformat": 4,
 "nbformat_minor": 2
}
