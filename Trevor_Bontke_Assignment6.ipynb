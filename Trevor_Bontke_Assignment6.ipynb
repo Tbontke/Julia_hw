{
 "cells": [
  {
   "cell_type": "markdown",
   "id": "f7a11864",
   "metadata": {},
   "source": [
    "### Write at least one line of documentation, test your code, and submit your code as a digital file (.ipynb).<br><br>"
   ]
  },
  {
   "cell_type": "markdown",
   "id": "459e54c9",
   "metadata": {},
   "source": [
    "Suppose you want to find the slope between two points (a, f(a)) and (b, f(b)) where f(x) = x^2+ 2x –7. <br><br>\n",
    "Enter the one-line function f(x) = x^2+ 2x –7.<br><br>\n",
    "Create a function g(a, b) that will find the slope between two points x = a and x = b on f(x).<br><br>\n",
    "Use g to find the slope between x = 3 and x = 5<br><br>\n",
    "Use g to find the slope between x = -2 and x = 7\n",
    "\n",
    "\n",
    " "
   ]
  },
  {
   "cell_type": "code",
   "execution_count": null,
   "id": "46a3ac32",
   "metadata": {},
   "outputs": [],
   "source": [
    "\"\"\"Trevor Bontke, tbontke@central.uh.edu\n",
    "\n",
    "    Program #6: More Functions + Plotting\n",
    "    221 Julia, Fall 2022\n",
    "\n",
    "    The program makes use of functions and calls to functions within other function to do simple calculations for slope, midpoint and distance between two points. This program is also meant to give a quick introduction to plotting.\"\"\""
   ]
  },
  {
   "cell_type": "code",
   "execution_count": 3,
   "id": "a3a332e4",
   "metadata": {},
   "outputs": [
    {
     "data": {
      "text/plain": [
       "f (generic function with 1 method)"
      ]
     },
     "execution_count": 3,
     "metadata": {},
     "output_type": "execute_result"
    }
   ],
   "source": [
    "# Making a function f(x) to calculate the y value based on the given equation\n",
    "function f(x)\n",
    "    return x^2+2*x-7\n",
    "end"
   ]
  },
  {
   "cell_type": "code",
   "execution_count": 4,
   "id": "393f8a4a",
   "metadata": {},
   "outputs": [
    {
     "data": {
      "text/plain": [
       "g (generic function with 1 method)"
      ]
     },
     "execution_count": 4,
     "metadata": {},
     "output_type": "execute_result"
    }
   ],
   "source": [
    "# Making a function g(x1,x2) to calculate the slope of a line between two\n",
    "# points. Note that this function calls the f(x) function which calculates\n",
    "# the y value\n",
    "function g(x1,x2)\n",
    "    return (f(x2)-f(x1))/(x2-x1)\n",
    "end"
   ]
  },
  {
   "cell_type": "code",
   "execution_count": 5,
   "id": "d133efec",
   "metadata": {},
   "outputs": [
    {
     "data": {
      "text/plain": [
       "10.0"
      ]
     },
     "execution_count": 5,
     "metadata": {},
     "output_type": "execute_result"
    }
   ],
   "source": [
    "# Checking the slope of the points for x1=3 and x2=5\n",
    "g(3,5)"
   ]
  },
  {
   "cell_type": "code",
   "execution_count": 6,
   "id": "aae6e310",
   "metadata": {},
   "outputs": [
    {
     "data": {
      "text/plain": [
       "7.0"
      ]
     },
     "execution_count": 6,
     "metadata": {},
     "output_type": "execute_result"
    }
   ],
   "source": [
    "# Checking the slope of the points for x1=-2 and x2=7\n",
    "g(-2,7)"
   ]
  },
  {
   "cell_type": "markdown",
   "id": "b54c5808",
   "metadata": {},
   "source": [
    "2. Write a function info(a, b) that takes two points  (a, f(a)) and (b, f(b)), where f(x)  = x^2 + 5x - 7; and returns three things about the segment from the origin to the point:<br><br>\n",
    "Its slope<br><br>\n",
    "Its midpoint<br><br>\n",
    "Its length (Euclidean distance)<br><br>\n",
    "\n",
    "Include a plot of the line generated x versus f(x), where x is in the range of -10:10.<br><br>\n",
    "Write at least one line of documentation, test your code, and submit your code as a digital file (.ipynb).<br><br>\n",
    "\n"
   ]
  },
  {
   "cell_type": "code",
   "execution_count": 14,
   "id": "7263c02d",
   "metadata": {},
   "outputs": [
    {
     "data": {
      "text/plain": [
       "f2 (generic function with 1 method)"
      ]
     },
     "execution_count": 14,
     "metadata": {},
     "output_type": "execute_result"
    }
   ],
   "source": [
    "# Making a new funciton f2(x) to quickly calculate y values from x\n",
    "function f2(x)\n",
    "    return x^2+5*x-7\n",
    "end"
   ]
  },
  {
   "cell_type": "code",
   "execution_count": 19,
   "id": "d2d327c8",
   "metadata": {},
   "outputs": [
    {
     "data": {
      "text/plain": [
       "info (generic function with 2 methods)"
      ]
     },
     "execution_count": 19,
     "metadata": {},
     "output_type": "execute_result"
    }
   ],
   "source": [
    "# Function that give the information about slope, midpoint, and distance between\n",
    "# two points which are calculated from f2(x)\n",
    "function info(a,b)\n",
    "    println(\"Slope: \",(f2(b)-f2(a))/(b-a))\n",
    "    println(\"Midpoint: (\",b-a,\",\",f2(b)-f2(a),\")\")\n",
    "    println(\"Length: \",sqrt((f2(b)-f2(a))^2+(b-a)^2))\n",
    "end\n",
    "    "
   ]
  },
  {
   "cell_type": "code",
   "execution_count": 20,
   "id": "70726a42",
   "metadata": {},
   "outputs": [
    {
     "name": "stdout",
     "output_type": "stream",
     "text": [
      "Slope: 13.0\n",
      "Midpoint: (2,26)\n",
      "Length: 26.076809620810597\n"
     ]
    }
   ],
   "source": [
    "# Checking the info function\n",
    "info(3,5)"
   ]
  },
  {
   "cell_type": "code",
   "execution_count": 27,
   "id": "03f1e038",
   "metadata": {},
   "outputs": [
    {
     "data": {
      "application/vnd.plotly.v1+json": {
       "data": [
        {
         "colorbar": {
          "title": ""
         },
         "legendgroup": "line",
         "line": {
          "color": "rgba(0, 154, 250, 1.000)",
          "dash": "solid",
          "shape": "linear",
          "width": 1
         },
         "mode": "lines",
         "name": "line",
         "showlegend": true,
         "type": "scatter",
         "x": [
          -10,
          -9,
          -8,
          -7,
          -6,
          -5,
          -4,
          -3,
          -2,
          -1,
          0,
          1,
          2,
          3,
          4,
          5,
          6,
          7,
          8,
          9,
          10
         ],
         "xaxis": "x",
         "y": [
          43,
          29,
          17,
          7,
          -1,
          -7,
          -11,
          -13,
          -13,
          -11,
          -7,
          -1,
          7,
          17,
          29,
          43,
          59,
          77,
          97,
          119,
          143
         ],
         "yaxis": "y",
         "zmax": null,
         "zmin": null
        },
        {
         "colorbar": {
          "title": ""
         },
         "legendgroup": "points",
         "marker": {
          "color": "rgba(227, 111, 71, 1.000)",
          "line": {
           "color": "rgba(0, 0, 0, 1.000)",
           "width": 1
          },
          "size": 8,
          "symbol": "circle"
         },
         "mode": "markers",
         "name": "points",
         "showlegend": true,
         "type": "scatter",
         "x": [
          -10,
          -9,
          -8,
          -7,
          -6,
          -5,
          -4,
          -3,
          -2,
          -1,
          0,
          1,
          2,
          3,
          4,
          5,
          6,
          7,
          8,
          9,
          10
         ],
         "xaxis": "x",
         "y": [
          43,
          29,
          17,
          7,
          -1,
          -7,
          -11,
          -13,
          -13,
          -11,
          -7,
          -1,
          7,
          17,
          29,
          43,
          59,
          77,
          97,
          119,
          143
         ],
         "yaxis": "y",
         "zmax": null,
         "zmin": null
        }
       ],
       "layout": {
        "annotations": [
         {
          "font": {
           "color": "rgba(0, 0, 0, 1.000)",
           "family": "sans-serif",
           "size": 20
          },
          "rotation": 0,
          "showarrow": false,
          "text": "Function Test Plot",
          "x": 0.5349537037037038,
          "xanchor": "center",
          "xref": "paper",
          "y": 1,
          "yanchor": "top",
          "yref": "paper"
         }
        ],
        "height": 400,
        "legend": {
         "bgcolor": "rgba(255, 255, 255, 1.000)",
         "bordercolor": "rgba(0, 0, 0, 1.000)",
         "borderwidth": 1,
         "font": {
          "color": "rgba(0, 0, 0, 1.000)",
          "family": "sans-serif",
          "size": 11
         },
         "title": {
          "font": {
           "color": "rgba(0, 0, 0, 1.000)",
           "family": "sans-serif",
           "size": 15
          },
          "text": ""
         },
         "tracegroupgap": 0,
         "traceorder": "normal",
         "x": 1,
         "xanchor": "auto",
         "y": 1,
         "yanchor": "auto"
        },
        "margin": {
         "b": 20,
         "l": 0,
         "r": 0,
         "t": 20
        },
        "paper_bgcolor": "rgba(255, 255, 255, 1.000)",
        "plot_bgcolor": "rgba(255, 255, 255, 1.000)",
        "showlegend": true,
        "width": 600,
        "xaxis": {
         "anchor": "y",
         "domain": [
          0.07646908719743364,
          0.9934383202099737
         ],
         "gridcolor": "rgba(0, 0, 0, 0.100)",
         "gridwidth": 0.5,
         "linecolor": "rgba(0, 0, 0, 1.000)",
         "mirror": false,
         "range": [
          -10.600000000000001,
          10.600000000000001
         ],
         "showgrid": true,
         "showline": true,
         "showticklabels": true,
         "tickangle": 0,
         "tickcolor": "rgb(0, 0, 0)",
         "tickfont": {
          "color": "rgba(0, 0, 0, 1.000)",
          "family": "sans-serif",
          "size": 11
         },
         "tickmode": "array",
         "ticks": "inside",
         "ticktext": [
          "−10",
          "−5",
          "0",
          "5",
          "10"
         ],
         "tickvals": [
          -10,
          -5,
          0,
          5,
          10
         ],
         "title": "X Values",
         "titlefont": {
          "color": "rgba(0, 0, 0, 1.000)",
          "family": "sans-serif",
          "size": 15
         },
         "type": "-",
         "visible": true,
         "zeroline": false,
         "zerolinecolor": "rgba(0, 0, 0, 1.000)"
        },
        "yaxis": {
         "anchor": "x",
         "domain": [
          0.07581474190726165,
          0.9415463692038496
         ],
         "gridcolor": "rgba(0, 0, 0, 0.100)",
         "gridwidth": 0.5,
         "linecolor": "rgba(0, 0, 0, 1.000)",
         "mirror": false,
         "range": [
          -17.680000000000007,
          147.68
         ],
         "showgrid": true,
         "showline": true,
         "showticklabels": true,
         "tickangle": 0,
         "tickcolor": "rgb(0, 0, 0)",
         "tickfont": {
          "color": "rgba(0, 0, 0, 1.000)",
          "family": "sans-serif",
          "size": 11
         },
         "tickmode": "array",
         "ticks": "inside",
         "ticktext": [
          "0",
          "30",
          "60",
          "90",
          "120"
         ],
         "tickvals": [
          0,
          30,
          60,
          90,
          120
         ],
         "title": "Y Values",
         "titlefont": {
          "color": "rgba(0, 0, 0, 1.000)",
          "family": "sans-serif",
          "size": 15
         },
         "type": "-",
         "visible": true,
         "zeroline": false,
         "zerolinecolor": "rgba(0, 0, 0, 1.000)"
        }
       }
      },
      "text/html": [
       "    <div id=\"0fbc2dd2-e3a0-456a-a29a-e7213bf3dfd6\" style=\"width:600px;height:400px;\"></div>\n",
       "    <script>\n",
       "        requirejs.config({\n",
       "        paths: {\n",
       "            Plotly: 'https://cdn.plot.ly/plotly-2.6.3.min'\n",
       "        }\n",
       "    });\n",
       "    require(['Plotly'], function (Plotly) {\n",
       "\n",
       "    Plotly.newPlot('0fbc2dd2-e3a0-456a-a29a-e7213bf3dfd6', [\n",
       "    {\n",
       "        \"xaxis\": \"x\",\n",
       "        \"colorbar\": {\n",
       "            \"title\": \"\"\n",
       "        },\n",
       "        \"yaxis\": \"y\",\n",
       "        \"x\": [\n",
       "            -10.0,\n",
       "            -9.0,\n",
       "            -8.0,\n",
       "            -7.0,\n",
       "            -6.0,\n",
       "            -5.0,\n",
       "            -4.0,\n",
       "            -3.0,\n",
       "            -2.0,\n",
       "            -1.0,\n",
       "            0.0,\n",
       "            1.0,\n",
       "            2.0,\n",
       "            3.0,\n",
       "            4.0,\n",
       "            5.0,\n",
       "            6.0,\n",
       "            7.0,\n",
       "            8.0,\n",
       "            9.0,\n",
       "            10.0\n",
       "        ],\n",
       "        \"showlegend\": true,\n",
       "        \"mode\": \"lines\",\n",
       "        \"name\": \"line\",\n",
       "        \"zmin\": null,\n",
       "        \"legendgroup\": \"line\",\n",
       "        \"zmax\": null,\n",
       "        \"line\": {\n",
       "            \"color\": \"rgba(0, 154, 250, 1.000)\",\n",
       "            \"shape\": \"linear\",\n",
       "            \"dash\": \"solid\",\n",
       "            \"width\": 1\n",
       "        },\n",
       "        \"y\": [\n",
       "            43.0,\n",
       "            29.0,\n",
       "            17.0,\n",
       "            7.0,\n",
       "            -1.0,\n",
       "            -7.0,\n",
       "            -11.0,\n",
       "            -13.0,\n",
       "            -13.0,\n",
       "            -11.0,\n",
       "            -7.0,\n",
       "            -1.0,\n",
       "            7.0,\n",
       "            17.0,\n",
       "            29.0,\n",
       "            43.0,\n",
       "            59.0,\n",
       "            77.0,\n",
       "            97.0,\n",
       "            119.0,\n",
       "            143.0\n",
       "        ],\n",
       "        \"type\": \"scatter\"\n",
       "    },\n",
       "    {\n",
       "        \"xaxis\": \"x\",\n",
       "        \"colorbar\": {\n",
       "            \"title\": \"\"\n",
       "        },\n",
       "        \"yaxis\": \"y\",\n",
       "        \"x\": [\n",
       "            -10.0,\n",
       "            -9.0,\n",
       "            -8.0,\n",
       "            -7.0,\n",
       "            -6.0,\n",
       "            -5.0,\n",
       "            -4.0,\n",
       "            -3.0,\n",
       "            -2.0,\n",
       "            -1.0,\n",
       "            0.0,\n",
       "            1.0,\n",
       "            2.0,\n",
       "            3.0,\n",
       "            4.0,\n",
       "            5.0,\n",
       "            6.0,\n",
       "            7.0,\n",
       "            8.0,\n",
       "            9.0,\n",
       "            10.0\n",
       "        ],\n",
       "        \"showlegend\": true,\n",
       "        \"mode\": \"markers\",\n",
       "        \"name\": \"points\",\n",
       "        \"zmin\": null,\n",
       "        \"legendgroup\": \"points\",\n",
       "        \"marker\": {\n",
       "            \"symbol\": \"circle\",\n",
       "            \"color\": \"rgba(227, 111, 71, 1.000)\",\n",
       "            \"line\": {\n",
       "                \"color\": \"rgba(0, 0, 0, 1.000)\",\n",
       "                \"width\": 1\n",
       "            },\n",
       "            \"size\": 8\n",
       "        },\n",
       "        \"zmax\": null,\n",
       "        \"y\": [\n",
       "            43.0,\n",
       "            29.0,\n",
       "            17.0,\n",
       "            7.0,\n",
       "            -1.0,\n",
       "            -7.0,\n",
       "            -11.0,\n",
       "            -13.0,\n",
       "            -13.0,\n",
       "            -11.0,\n",
       "            -7.0,\n",
       "            -1.0,\n",
       "            7.0,\n",
       "            17.0,\n",
       "            29.0,\n",
       "            43.0,\n",
       "            59.0,\n",
       "            77.0,\n",
       "            97.0,\n",
       "            119.0,\n",
       "            143.0\n",
       "        ],\n",
       "        \"type\": \"scatter\"\n",
       "    }\n",
       "]\n",
       ", {\n",
       "    \"showlegend\": true,\n",
       "    \"xaxis\": {\n",
       "        \"showticklabels\": true,\n",
       "        \"gridwidth\": 0.5,\n",
       "        \"tickvals\": [\n",
       "            -10.0,\n",
       "            -5.0,\n",
       "            0.0,\n",
       "            5.0,\n",
       "            10.0\n",
       "        ],\n",
       "        \"range\": [\n",
       "            -10.600000000000001,\n",
       "            10.600000000000001\n",
       "        ],\n",
       "        \"domain\": [\n",
       "            0.07646908719743364,\n",
       "            0.9934383202099737\n",
       "        ],\n",
       "        \"mirror\": false,\n",
       "        \"tickangle\": 0,\n",
       "        \"showline\": true,\n",
       "        \"ticktext\": [\n",
       "            \"−10\",\n",
       "            \"−5\",\n",
       "            \"0\",\n",
       "            \"5\",\n",
       "            \"10\"\n",
       "        ],\n",
       "        \"zeroline\": false,\n",
       "        \"tickfont\": {\n",
       "            \"color\": \"rgba(0, 0, 0, 1.000)\",\n",
       "            \"family\": \"sans-serif\",\n",
       "            \"size\": 11\n",
       "        },\n",
       "        \"zerolinecolor\": \"rgba(0, 0, 0, 1.000)\",\n",
       "        \"anchor\": \"y\",\n",
       "        \"visible\": true,\n",
       "        \"ticks\": \"inside\",\n",
       "        \"tickmode\": \"array\",\n",
       "        \"linecolor\": \"rgba(0, 0, 0, 1.000)\",\n",
       "        \"showgrid\": true,\n",
       "        \"title\": \"X Values\",\n",
       "        \"gridcolor\": \"rgba(0, 0, 0, 0.100)\",\n",
       "        \"titlefont\": {\n",
       "            \"color\": \"rgba(0, 0, 0, 1.000)\",\n",
       "            \"family\": \"sans-serif\",\n",
       "            \"size\": 15\n",
       "        },\n",
       "        \"tickcolor\": \"rgb(0, 0, 0)\",\n",
       "        \"type\": \"-\"\n",
       "    },\n",
       "    \"paper_bgcolor\": \"rgba(255, 255, 255, 1.000)\",\n",
       "    \"annotations\": [\n",
       "        {\n",
       "            \"yanchor\": \"top\",\n",
       "            \"xanchor\": \"center\",\n",
       "            \"rotation\": -0.0,\n",
       "            \"y\": 1.0,\n",
       "            \"font\": {\n",
       "                \"color\": \"rgba(0, 0, 0, 1.000)\",\n",
       "                \"family\": \"sans-serif\",\n",
       "                \"size\": 20\n",
       "            },\n",
       "            \"yref\": \"paper\",\n",
       "            \"showarrow\": false,\n",
       "            \"text\": \"Function Test Plot\",\n",
       "            \"xref\": \"paper\",\n",
       "            \"x\": 0.5349537037037038\n",
       "        }\n",
       "    ],\n",
       "    \"height\": 400,\n",
       "    \"margin\": {\n",
       "        \"l\": 0,\n",
       "        \"b\": 20,\n",
       "        \"r\": 0,\n",
       "        \"t\": 20\n",
       "    },\n",
       "    \"plot_bgcolor\": \"rgba(255, 255, 255, 1.000)\",\n",
       "    \"yaxis\": {\n",
       "        \"showticklabels\": true,\n",
       "        \"gridwidth\": 0.5,\n",
       "        \"tickvals\": [\n",
       "            0.0,\n",
       "            30.0,\n",
       "            60.0,\n",
       "            90.0,\n",
       "            120.0\n",
       "        ],\n",
       "        \"range\": [\n",
       "            -17.680000000000007,\n",
       "            147.68\n",
       "        ],\n",
       "        \"domain\": [\n",
       "            0.07581474190726165,\n",
       "            0.9415463692038496\n",
       "        ],\n",
       "        \"mirror\": false,\n",
       "        \"tickangle\": 0,\n",
       "        \"showline\": true,\n",
       "        \"ticktext\": [\n",
       "            \"0\",\n",
       "            \"30\",\n",
       "            \"60\",\n",
       "            \"90\",\n",
       "            \"120\"\n",
       "        ],\n",
       "        \"zeroline\": false,\n",
       "        \"tickfont\": {\n",
       "            \"color\": \"rgba(0, 0, 0, 1.000)\",\n",
       "            \"family\": \"sans-serif\",\n",
       "            \"size\": 11\n",
       "        },\n",
       "        \"zerolinecolor\": \"rgba(0, 0, 0, 1.000)\",\n",
       "        \"anchor\": \"x\",\n",
       "        \"visible\": true,\n",
       "        \"ticks\": \"inside\",\n",
       "        \"tickmode\": \"array\",\n",
       "        \"linecolor\": \"rgba(0, 0, 0, 1.000)\",\n",
       "        \"showgrid\": true,\n",
       "        \"title\": \"Y Values\",\n",
       "        \"gridcolor\": \"rgba(0, 0, 0, 0.100)\",\n",
       "        \"titlefont\": {\n",
       "            \"color\": \"rgba(0, 0, 0, 1.000)\",\n",
       "            \"family\": \"sans-serif\",\n",
       "            \"size\": 15\n",
       "        },\n",
       "        \"tickcolor\": \"rgb(0, 0, 0)\",\n",
       "        \"type\": \"-\"\n",
       "    },\n",
       "    \"legend\": {\n",
       "        \"yanchor\": \"auto\",\n",
       "        \"xanchor\": \"auto\",\n",
       "        \"bordercolor\": \"rgba(0, 0, 0, 1.000)\",\n",
       "        \"bgcolor\": \"rgba(255, 255, 255, 1.000)\",\n",
       "        \"borderwidth\": 1,\n",
       "        \"tracegroupgap\": 0,\n",
       "        \"y\": 1.0,\n",
       "        \"font\": {\n",
       "            \"color\": \"rgba(0, 0, 0, 1.000)\",\n",
       "            \"family\": \"sans-serif\",\n",
       "            \"size\": 11\n",
       "        },\n",
       "        \"title\": {\n",
       "            \"font\": {\n",
       "                \"color\": \"rgba(0, 0, 0, 1.000)\",\n",
       "                \"family\": \"sans-serif\",\n",
       "                \"size\": 15\n",
       "            },\n",
       "            \"text\": \"\"\n",
       "        },\n",
       "        \"traceorder\": \"normal\",\n",
       "        \"x\": 1.0\n",
       "    },\n",
       "    \"width\": 600\n",
       "}\n",
       ");\n",
       "    });\n",
       "    </script>\n"
      ]
     },
     "execution_count": 27,
     "metadata": {},
     "output_type": "execute_result"
    }
   ],
   "source": [
    "# Importing the Plots package\n",
    "using Plots\n",
    "\n",
    "# Creating an array of x values from -10 to 10\n",
    "x = Array(-10:10)\n",
    "# Using the map method to calculate the values of f2(x) for each of the x values\n",
    "y=map(f2, x)\n",
    "# Plotting the data values x and y\n",
    "plotly()\n",
    "plot(x,y, label =\"line\")\n",
    "scatter!(x,y, label = \"points\")\n",
    "xlabel!(\"X Values\")\n",
    "ylabel!(\"Y Values\")\n",
    "title!(\"Function Test Plot\")"
   ]
  },
  {
   "cell_type": "markdown",
   "id": "29bbd8ea",
   "metadata": {},
   "source": [
    "# Ignore\n",
    "\n",
    "---"
   ]
  },
  {
   "cell_type": "code",
   "execution_count": 22,
   "id": "56f5bc15",
   "metadata": {},
   "outputs": [
    {
     "data": {
      "text/plain": [
       "info1 (generic function with 1 method)"
      ]
     },
     "execution_count": 22,
     "metadata": {},
     "output_type": "execute_result"
    }
   ],
   "source": [
    "# Function that give the information about slope, midpoint, and distance between\n",
    "# two points which are calculated from the equation in part (1)\n",
    "function info1(a,b) \n",
    "    println(\"Slope: \",g(a,b))\n",
    "    println(\"Midpoint: (\",b-a,\",\",f(b)-f(a),\")\")\n",
    "    println(\"Length: \",sqrt((f(b)-f(a))^2+(b-a)^2))\n",
    "\n",
    "end"
   ]
  },
  {
   "cell_type": "code",
   "execution_count": 23,
   "id": "cb783d51",
   "metadata": {},
   "outputs": [
    {
     "name": "stdout",
     "output_type": "stream",
     "text": [
      "Slope: 10.0\n",
      "Midpoint: (2,20)\n",
      "Length: 20.09975124224178\n"
     ]
    }
   ],
   "source": [
    "info1(3,5)"
   ]
  },
  {
   "cell_type": "code",
   "execution_count": 24,
   "id": "18c3c2b5",
   "metadata": {},
   "outputs": [
    {
     "name": "stdout",
     "output_type": "stream",
     "text": [
      "Slope: 7.0\n",
      "Midpoint: (9,63)\n",
      "Length: 63.63961030678928\n"
     ]
    }
   ],
   "source": [
    "info1(-2,7)"
   ]
  },
  {
   "cell_type": "code",
   "execution_count": 25,
   "id": "adf04baf",
   "metadata": {},
   "outputs": [
    {
     "data": {
      "text/plain": [
       "info (generic function with 2 methods)"
      ]
     },
     "execution_count": 25,
     "metadata": {},
     "output_type": "execute_result"
    }
   ],
   "source": [
    "using Plots\n",
    "\n",
    "function info(a,b)\n",
    "    x = [0,a]\n",
    "    y = [0,b]\n",
    "    plotly()\n",
    "    plot(x,y, label =\"line\")\n",
    "    scatter!(x,y, label = \"points\")\n",
    "    println(\"Slope: \",(b/a))\n",
    "    println(\"Midpoint: (\",a/2,\",\",b/2,\")\")\n",
    "    println(\"Length: \",sqrt(a^2+b^2))\n",
    "    \n",
    "end"
   ]
  },
  {
   "cell_type": "code",
   "execution_count": 26,
   "id": "46d4a574",
   "metadata": {},
   "outputs": [
    {
     "name": "stdout",
     "output_type": "stream",
     "text": [
      "Slope: 1.6666666666666667\n",
      "Midpoint: (1.5,2.5)\n",
      "Length: 5.830951894845301\n"
     ]
    }
   ],
   "source": [
    "# For some reason the plot won't print\n",
    "info(3,5)"
   ]
  },
  {
   "cell_type": "code",
   "execution_count": 23,
   "id": "ac45a272",
   "metadata": {},
   "outputs": [
    {
     "name": "stdout",
     "output_type": "stream",
     "text": [
      "Slope: -3.5\n",
      "Midpoint: (-1.0,3.5)\n",
      "Length: 7.280109889280518\n"
     ]
    }
   ],
   "source": [
    "info(-2,7)"
   ]
  }
 ],
 "metadata": {
  "kernelspec": {
   "display_name": "Julia 1.8.2",
   "language": "julia",
   "name": "julia-1.8"
  },
  "language_info": {
   "file_extension": ".jl",
   "mimetype": "application/julia",
   "name": "julia",
   "version": "1.8.2"
  }
 },
 "nbformat": 4,
 "nbformat_minor": 5
}
