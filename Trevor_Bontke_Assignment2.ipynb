{
 "cells": [
  {
   "cell_type": "markdown",
   "metadata": {},
   "source": [
    "### Exercise 1:\n",
    "Find the sum of series 1 + 1/2 + 1/3 + 1/4 + 1/5 + ... + 1/n where n = 100, 1000, 10000, 100000, 1000000\n",
    "\n",
    "---\n",
    "\n"
   ]
  },
  {
   "cell_type": "code",
   "execution_count": 38,
   "metadata": {},
   "outputs": [
    {
     "name": "stdout",
     "output_type": "stream",
     "text": [
      "If n = 100, the series sum is: 5.187377517639621\n",
      "If n = 1000, the series sum is: 7.485470860550343\n",
      "If n = 10000, the series sum is: 9.787606036044348\n",
      "If n = 100000, the series sum is: 12.090146129863335\n",
      "If n = 1000000, the series sum is: 14.392726722864989\n"
     ]
    }
   ],
   "source": [
    "# Defining the maximum n for the series summation\n",
    "n_max = 1000000;\n",
    "# Creating a list of n values the user is interested in knowing\n",
    "# the series summation from\n",
    "n_list = [100,1000,10000,100000,n_max];\n",
    "# Initiallizing \"sum\" as 0\n",
    "sum = 0;\n",
    "# For loop goes through \"n_max\" iterations\n",
    "for i in 1:n_max\n",
    "    # Adding the next fraction 1/i to the series sum from the last\n",
    "    # iteration\n",
    "    sum += 1/i;\n",
    "    # Iterating through each of the listed \"n\" values\n",
    "    for j in n_list\n",
    "        # Checking if the sum has arrived at one of the \"n\" values the user # wants the series sum from\n",
    "        if i == j\n",
    "            # Print out the series summation at \"n\"\n",
    "            println(\"If n = \",j,\", the series sum is: \",sum)\n",
    "            # Pop the current \"n\" value from the list since we no longer\n",
    "            # need to look for this series summation\n",
    "            popfirst!(n_list)\n",
    "        end\n",
    "    end\n",
    "end"
   ]
  },
  {
   "cell_type": "markdown",
   "metadata": {},
   "source": [
    "---\n",
    "\n",
    "### Exercise 2:\n",
    "\n",
    "Write a Julia code for a program that asks how Service Units, SUs, you would like to obtain at the supercomputers at HPEDSI to carry out your research. (One SU =1 core–hour of computing time.) The program uses this information to determine and acknowledge whether it is possible to provide you with the resources or not. Assume that a minimum of 50,000 SUs are required to be eligible, and no more than 200,000 SUs. (Note that these values are an example only and do not represent any real HPEDSI criteria. Most super computing centers have a similar resources allocation setup.)\n",
    "\n",
    "Hint use println, readline(),  if and else. **Bonus point for least amount of code**\n",
    "\n",
    "Example:\n",
    "\n",
    "“How many SUs would your project need?”\n",
    "\n",
    "10000\n",
    "\n",
    "“Sorry, we only take on larger projects”.\n",
    "\n",
    "\n",
    "Or if entered > =50,000 i.e. user enters  75,000\n",
    "\n",
    "Your program  prints:\n",
    "\n",
    "\"Project  approved for 75000 SUs\"\n",
    "\n",
    "---"
   ]
  },
  {
   "cell_type": "code",
   "execution_count": 37,
   "metadata": {},
   "outputs": [
    {
     "name": "stdout",
     "output_type": "stream",
     "text": [
      "How many SUs does your project require?\n",
      "200000\n",
      "Your project has been approved for 200000 SUs\n"
     ]
    }
   ],
   "source": [
    "print(\"How many SUs does your project require?\\n\")\n",
    "flush(stdout)\n",
    "SU_req = parse(Int32,readline())\n",
    "println(SU_req)\n",
    "if SU_req < 50000\n",
    "    println(\"Sorry, we only permit larger projects (Min 50,000 SUs)\")\n",
    "elseif SU_req > 200000\n",
    "    println(\"Sorry, your project requires more SUs than are available (Max 200,000 SUs)\")\n",
    "else\n",
    "    println(\"Your project has been approved for \",SU_req,\" SUs\")\n",
    "end"
   ]
  }
 ],
 "metadata": {
  "kernelspec": {
   "display_name": "Julia 1.8.2",
   "language": "julia",
   "name": "julia-1.8"
  },
  "language_info": {
   "file_extension": ".jl",
   "mimetype": "application/julia",
   "name": "julia",
   "version": "1.8.2"
  },
  "orig_nbformat": 4
 },
 "nbformat": 4,
 "nbformat_minor": 2
}
